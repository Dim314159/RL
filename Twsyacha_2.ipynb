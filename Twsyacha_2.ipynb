{
 "cells": [
  {
   "cell_type": "code",
   "execution_count": 1,
   "id": "d5342f1d-9d04-41ee-889e-c1d3e7492918",
   "metadata": {},
   "outputs": [],
   "source": [
    "import torch\n",
    "import torch.nn as nn\n",
    "import torch.nn.functional as F\n",
    "from torch.utils.data import TensorDataset, DataLoader\n",
    "\n",
    "from sklearn.preprocessing import StandardScaler\n",
    "\n",
    "import numpy as np\n",
    "\n",
    "from einops import rearrange, repeat\n",
    "\n",
    "import matplotlib.pyplot as plt\n",
    "\n",
    "import sys\n",
    "from datetime import datetime as dt"
   ]
  },
  {
   "cell_type": "code",
   "execution_count": null,
   "id": "13b02e4f-ecb6-40e4-a376-2f55bde7b6ab",
   "metadata": {},
   "outputs": [],
   "source": []
  },
  {
   "cell_type": "markdown",
   "id": "2a349853-79e1-4a25-aeb8-7e8005afb23f",
   "metadata": {},
   "source": [
    "# Models"
   ]
  },
  {
   "cell_type": "markdown",
   "id": "817d5b11-a46c-4ae9-9292-c996f401cad1",
   "metadata": {},
   "source": [
    "## Transformer"
   ]
  },
  {
   "cell_type": "code",
   "execution_count": 2,
   "id": "6d48f8ca-cddd-4327-89a6-9dd6a36ec7cc",
   "metadata": {},
   "outputs": [],
   "source": [
    "class Multi_Head_Attention(nn.Module):\n",
    "    def __init__(self, d_emb, d_hid, heads):\n",
    "        super().__init__()\n",
    "        self.d_hid = d_hid\n",
    "        self.heads = heads\n",
    "        self.dim_per_head = self.d_hid // self.heads\n",
    "        \n",
    "        self.qkv = nn.Linear(d_emb, self.d_hid * 3, bias = False)\n",
    "        \n",
    "        \n",
    "        self.unifyheads = nn.Linear(self.d_hid, d_emb)\n",
    "    \n",
    "    def self_attention(self, q, k, v):\n",
    "        scores = torch.einsum('...ij,...kj->...ik', q, k) / np.sqrt(self.dim_per_head)\n",
    "        scores = F.softmax(scores, dim = -1)\n",
    "        return torch.einsum('...ij,...jk->...ik', scores, v)\n",
    "    \n",
    "    def forward(self, x):\n",
    "        qkv = self.qkv(x)\n",
    "        q = qkv[..., :self.d_hid]\n",
    "        k = qkv[..., self.d_hid : self.d_hid * 2]\n",
    "        v = qkv[..., self.d_hid * 2 :]\n",
    "            \n",
    "        q = rearrange(q, '... i (h j) -> ... h i j', h = self.heads)\n",
    "        k = rearrange(k, '... i (h j) -> ... h i j', h = self.heads)\n",
    "        v = rearrange(v, '... i (h j) -> ... h i j', h = self.heads)\n",
    "                \n",
    "        scores = self.self_attention(q, k, v)\n",
    "        scores = rearrange(scores, '... h i j -> ... i (h j)').contiguous()\n",
    "                \n",
    "        return self.unifyheads(scores)"
   ]
  },
  {
   "cell_type": "code",
   "execution_count": 3,
   "id": "57fb326b-fbd1-42aa-bf1b-97a937aaaa1c",
   "metadata": {},
   "outputs": [],
   "source": [
    "# class Embedder(nn.Module):\n",
    "#     def __init__(self, vocab_size, d_emb, seq_length, emb_drop):\n",
    "#         super().__init__()\n",
    "#         self.embed = nn.Embedding(vocab_size, d_emb)\n",
    "#         self.d_emb = d_emb\n",
    "#         self.sr_d_emb = np.sqrt(d_emb)\n",
    "#         self.dropout = nn.Dropout(emb_drop)\n",
    "#         self.seq_length = seq_length\n",
    "        \n",
    "#         self.pe = nn.Parameter(torch.rand(seq_length, d_emb))\n",
    "    \n",
    "#     def forward(self, x):\n",
    "#         # make embeddings relatively larger\n",
    "#         x = self.embed(x) * self.sr_d_emb\n",
    "#         x = x + self.pe[:x.size(1)]\n",
    "#         x = self.dropout(x)\n",
    "#         return x"
   ]
  },
  {
   "cell_type": "code",
   "execution_count": 4,
   "id": "7a5e0976-938f-423c-97c5-8117e837b386",
   "metadata": {},
   "outputs": [],
   "source": [
    "class GLU(nn.Module):\n",
    "    def __init__(self, in_size, out_size):\n",
    "        super().__init__()\n",
    "        self.out_size = out_size\n",
    "        self.linear = nn.Linear(in_size, out_size * 2)\n",
    "    def forward(self, x):\n",
    "        x = self.linear(x)\n",
    "        #x = x[..., : self.out_size] * x[..., self.out_size :].sigmoid()\n",
    "        x = torch.einsum('...i, ...i->...i', [x[..., : self.out_size], x[..., self.out_size :].sigmoid()])\n",
    "        return x"
   ]
  },
  {
   "cell_type": "code",
   "execution_count": 5,
   "id": "6d7e144d-ee91-40ff-b73f-e82d7a3f4e2e",
   "metadata": {},
   "outputs": [],
   "source": [
    "class Encoder_layer(nn.Module):\n",
    "    def __init__(self, d_emb, d_hid, hidden_mult, heads, enc_drop):\n",
    "        super().__init__()\n",
    "        self.dropout = nn.Dropout(enc_drop)\n",
    "        \n",
    "        self.mha = Multi_Head_Attention(d_emb, d_hid, heads)\n",
    "        self.norm_1 = nn.LayerNorm(d_emb)\n",
    "        self.ff = nn.Sequential(\n",
    "            nn.Linear(d_emb, hidden_mult * d_emb),\n",
    "            #nn.ReLU(),\n",
    "            #nn.GELU(),\n",
    "            nn.LeakyReLU(),\n",
    "            nn.Linear(hidden_mult * d_emb, d_emb)\n",
    "        )\n",
    "        #self.ff = GLU(d_emb, d_emb)\n",
    "        \n",
    "        self.norm_2 = nn.LayerNorm(d_emb)\n",
    "        \n",
    "    def forward(self, x):\n",
    "        attended = self.mha(x)\n",
    "        x = attended + x\n",
    "        x = self.dropout(x)\n",
    "        x = self.norm_1(x)\n",
    "        fed_for = self.ff(x)\n",
    "        x = fed_for + x\n",
    "        x = self.dropout(x)\n",
    "        x = self.norm_2(x)\n",
    "        return x"
   ]
  },
  {
   "cell_type": "code",
   "execution_count": 6,
   "id": "f3cb18ac-a39a-4fdc-a939-2138b6fdcf12",
   "metadata": {},
   "outputs": [],
   "source": [
    "class Transformer(nn.Module):\n",
    "    def __init__(self, model_hp):\n",
    "        super().__init__()\n",
    "        self.epochs = 0\n",
    "        self.losses = []\n",
    "        \n",
    "        d_emb, hidden_mult, order, enc_drop, lr = model_hp\n",
    "        self.d_emb = d_emb\n",
    "        \n",
    "        d_score = 1\n",
    "        d_barrier = 4\n",
    "        seq_length = 5\n",
    "        \n",
    "        # self.score_emb = GLU(d_score, d_score * d_emb)\n",
    "        # self.temp_score_emb = GLU(1, d_emb)\n",
    "        self.score_emb = nn.Linear(1, d_emb)\n",
    "        self.temp_score_emb = nn.Linear(1, d_emb)\n",
    "        self.dice_emb = nn.Embedding(6, d_emb)\n",
    "        self.barrier_emb = nn.Embedding(d_barrier, d_emb)\n",
    "        \n",
    "        self.sr_d_emb = np.sqrt(d_emb)\n",
    "        \n",
    "        self.cls_token = nn.Parameter(torch.rand(1, d_emb))\n",
    "        self.pe = nn.Parameter(torch.rand(seq_length, d_emb))\n",
    "                \n",
    "        self.encoder = nn.ModuleList()\n",
    "        for d_hid, heads in order:\n",
    "            self.encoder.append(Encoder_layer(d_emb, d_hid, hidden_mult, heads, enc_drop))\n",
    "        \n",
    "        #self.out = GLU(self.d_emb, 2)\n",
    "        self.out = nn.Sequential(\n",
    "            nn.Linear(self.d_emb, self.d_emb * 2),\n",
    "            #nn.ReLU(),\n",
    "            #nn.GELU(),\n",
    "            nn.LeakyReLU(),\n",
    "            nn.Linear(self.d_emb * 2, 2)\n",
    "        )\n",
    "                \n",
    "        #self.weights_init()\n",
    "        \n",
    "        self.optimizer = torch.optim.AdamW(self.parameters(), lr = lr)\n",
    "        self.criterion = nn.CrossEntropyLoss()\n",
    "        self.device = torch.device('cuda' if torch.cuda.is_available() else 'cpu')\n",
    "        # if torch.cuda.is_available():\n",
    "        #     torch.cuda.set_device(cuda)\n",
    "        #     self.device = torch.device('cuda')\n",
    "        # else:\n",
    "        #     self.device = torch.device('cpu')\n",
    "        self.to(self.device)\n",
    "        \n",
    "    def weights_init(self):\n",
    "        for m in self.modules():\n",
    "            if isinstance(m, nn.Linear):\n",
    "                #nn.init.xavier_uniform_(m.weight)\n",
    "                nn.init.normal_(m.weight, mean = 0, std = 0.01)\n",
    "                #m.bias.data.fill_(0.01)\n",
    "         \n",
    "    def forward(self, s, ts, d, b):\n",
    "        s = self.score_emb(s)\n",
    "        s = rearrange(s, '... (s e) -> ... s e', e = self.d_emb)\n",
    "        ts = self.temp_score_emb(ts)#[None]\n",
    "        ts = rearrange(ts, '... (s e) -> ... s e', e = self.d_emb)\n",
    "        d = self.dice_emb(d)\n",
    "        b = self.barrier_emb(b)\n",
    "        \n",
    "        x = torch.cat((s, ts, d, b), dim = -2)\n",
    "        \n",
    "        cls_toks = repeat(self.cls_token, 's e -> b s e', b = x.size(0))\n",
    "        x = torch.cat((cls_toks, x), dim = 1)\n",
    "        x = x * self.sr_d_emb + self.pe #[:x.size(1)]\n",
    "        print(x.shape)\n",
    "        for enc in self.encoder:\n",
    "            x = enc(x)\n",
    "        x = x[:, 0]\n",
    "        out = self.out(x)\n",
    "        return out"
   ]
  },
  {
   "cell_type": "code",
   "execution_count": null,
   "id": "894a9986-b4a9-4697-a9d3-3ba18a5bcde1",
   "metadata": {},
   "outputs": [],
   "source": [
    "model = Transformer(model_hp)"
   ]
  },
  {
   "cell_type": "code",
   "execution_count": null,
   "id": "f9ec3528-5409-4284-8da8-3071f8bd0a51",
   "metadata": {},
   "outputs": [],
   "source": [
    "for x, y in train_loader:\n",
    "    x = x.to(model.device)\n",
    "    out = model(x[:, 0:1].float(), x[:, 1:2].float(), x[:, 2:3].long(), x[:, 3:4].long())\n",
    "    break"
   ]
  },
  {
   "cell_type": "code",
   "execution_count": null,
   "id": "553183f0-aca0-4072-9d80-154e1701ce06",
   "metadata": {},
   "outputs": [],
   "source": []
  },
  {
   "cell_type": "code",
   "execution_count": null,
   "id": "95e1c953-8db9-418b-a9b6-32b4cdca54f6",
   "metadata": {},
   "outputs": [],
   "source": []
  },
  {
   "cell_type": "markdown",
   "id": "b6f83c01-5393-4394-8bea-31e190d34155",
   "metadata": {},
   "source": [
    "## Training"
   ]
  },
  {
   "cell_type": "code",
   "execution_count": 7,
   "id": "cda27c7a-62a5-47b1-a6d8-2e019decb92a",
   "metadata": {},
   "outputs": [],
   "source": [
    "def train_eval(model, train_loader, epochs):\n",
    "    start_time = dt.now()\n",
    "    loss_train = []\n",
    "    for ep in range(1, epochs + 1):\n",
    "        model.train()\n",
    "        loss_tempo = []\n",
    "        for x, y in train_loader:\n",
    "            x = x.to(model.device)\n",
    "            y = y.to(model.device)\n",
    "            out = model(x[:, 0:1].float(), x[:, 1:2].float(), x[:, 2:3].long(), x[:, 3:4].long())\n",
    "            loss = model.criterion(out, y.long())\n",
    "            model.optimizer.zero_grad()\n",
    "            loss.backward()\n",
    "            model.optimizer.step()\n",
    "            loss_tempo.append(loss.item())\n",
    "        loss_t = np.mean(np.asarray(loss_tempo), axis=0)\n",
    "        loss_train.append(loss_t)\n",
    "        model.epochs += 1\n",
    "        model.losses.append(loss_t)\n",
    "              \n",
    "        # model.eval()\n",
    "        # with torch.no_grad():\n",
    "        #     loss_tempo = []\n",
    "        #     for x, y in val_loader:\n",
    "        #         x = x.to(device)\n",
    "        #         y = y.to(device)\n",
    "        #         out = model(x.float())\n",
    "        #         loss = model.criterion(out, y.long())\n",
    "        #         loss_tempo.append(loss.item())\n",
    "        #     #loss_val.append(np.mean(np.asarray(loss_tempo), axis=0))\n",
    "        # loss_v = np.mean(np.asarray(loss_tempo), axis=0)\n",
    "        # loss_val.append(loss_v)\n",
    "        \n",
    "        elapsed = dt.now() - start_time\n",
    "        secs = elapsed.seconds\n",
    "        ratio = ep / epochs\n",
    "        printout = '\\r[%-16s] %d%%, epoch: %d/%d, %02d:%02d:%02d:%02d, loss: %f'\n",
    "        sys.stdout.write(printout % ('='*round(16 * ratio), round(100 * ratio), ep, epochs, \n",
    "                                     elapsed.days, secs // 3600, secs // 60 % 60, secs % 60, loss_t))\n",
    "        sys.stdout.flush()\n",
    "        \n",
    "    sys.stdout.write('\\n')\n",
    "    return loss_train"
   ]
  },
  {
   "cell_type": "code",
   "execution_count": null,
   "id": "93b28ac4-e876-43e8-8476-cef66321c186",
   "metadata": {},
   "outputs": [],
   "source": []
  },
  {
   "cell_type": "markdown",
   "id": "6a3eb7c6-caba-459e-8e21-fcf8b14aaff6",
   "metadata": {},
   "source": [
    "# Agent"
   ]
  },
  {
   "cell_type": "code",
   "execution_count": 8,
   "id": "e54f1945-a51d-448d-b87f-56ae697e8e0a",
   "metadata": {},
   "outputs": [],
   "source": [
    "class Agent():\n",
    "    def __init__(self, model_hp):\n",
    "        super().__init__()\n",
    "        self.net = Transformer(model_hp)\n",
    "        \n",
    "        self.age = 0\n",
    "        self.replay_history = []\n",
    "        self.turns_history = []\n",
    "        \n",
    "        self.history = []\n",
    "        self.me_score = 0\n",
    "        self.n_dice = 5\n",
    "        self.barrier = 0\n",
    "        self.roll = []\n",
    "        self.tempo_score = 0\n",
    "        self.n_turns = 0\n",
    "    \n",
    "    def end_game(self, flag):\n",
    "        if flag:\n",
    "            self.replay_history.append(self.history)\n",
    "            self.turns_history.append(self.n_turns)\n",
    "        self.history = []\n",
    "        self.me_score = 0\n",
    "        self.n_dice = 5\n",
    "        self.barrier = 0\n",
    "        self.roll = []\n",
    "        self.tempo_score = 0\n",
    "        self.n_turns = 0"
   ]
  },
  {
   "cell_type": "code",
   "execution_count": null,
   "id": "b9f39f14-d058-4d20-9e03-96d295b3ad4d",
   "metadata": {},
   "outputs": [],
   "source": []
  },
  {
   "cell_type": "code",
   "execution_count": 9,
   "id": "7968da5e-d6a0-451c-923b-5a941bd3eb92",
   "metadata": {},
   "outputs": [],
   "source": [
    "def make_roll(agent):\n",
    "    agent.roll = np.random.randint(6, size = agent.n_dice)\n",
    "    count = np.unique(agent.roll, return_counts = True)\n",
    "    summ = 0\n",
    "    for d, c in zip(count[0], count[1]):\n",
    "        if c == 5:\n",
    "            if d == 0:\n",
    "                summ += 400\n",
    "            elif d == 4:\n",
    "                summ += 200\n",
    "            else:\n",
    "                summ += 120\n",
    "            agent.n_dice = agent.n_dice - c\n",
    "        elif c == 4:\n",
    "            if d == 0:\n",
    "                summ += 200\n",
    "            elif d == 4:\n",
    "                summ += 100\n",
    "            else:\n",
    "                summ += 60\n",
    "            agent.n_dice = agent.n_dice - c\n",
    "        elif c == 3:\n",
    "            if d == 0:\n",
    "                summ += 100\n",
    "            elif d == 4:\n",
    "                summ += 50\n",
    "            else:\n",
    "                summ += 30\n",
    "            agent.n_dice = agent.n_dice - c\n",
    "        else:\n",
    "            if d == 0:\n",
    "                summ += 10 * c\n",
    "                agent.n_dice = agent.n_dice - c\n",
    "            elif d == 4:\n",
    "                summ += 5 * c\n",
    "                agent.n_dice = agent.n_dice - c\n",
    "        if agent.n_dice == 0:\n",
    "            agent.n_dice = 5\n",
    "            break\n",
    "    if summ == 0:\n",
    "        agent.tempo_score = 0\n",
    "        return False\n",
    "    else:\n",
    "        agent.tempo_score = agent.tempo_score + summ\n",
    "        return True"
   ]
  },
  {
   "cell_type": "code",
   "execution_count": 10,
   "id": "bed7e5eb-da67-4795-a7ba-34a884cfebc0",
   "metadata": {},
   "outputs": [],
   "source": [
    "def turn(agent, epsilon):\n",
    "    while True:\n",
    "        flag = make_roll(agent)\n",
    "        if flag:\n",
    "            score = agent.me_score + agent.tempo_score\n",
    "            if score >= 1000:\n",
    "                break\n",
    "            if (score > 395 and score < 500) or (score > 895 and score < 1000):\n",
    "                if agent.barrier == 0:\n",
    "                    agent.barrier = 1\n",
    "                elif agent.barrier == 2:\n",
    "                    continue\n",
    "            else:\n",
    "                if agent.barrier == 2:\n",
    "                    agent.barrier = 3\n",
    "                else:\n",
    "                    agent.barrier = 0\n",
    "            s0 = agent.me_score / 1000\n",
    "            ts0 = agent.tempo_score / 1000\n",
    "            d0 = agent.n_dice\n",
    "            b0 = agent.barrier\n",
    "            if np.random.rand() < epsilon:\n",
    "                action = np.random.choice([0, 1])\n",
    "            else:\n",
    "                s = torch.tensor([[s0]], dtype = torch.float, device = agent.net.device)\n",
    "                ts = torch.tensor([[ts0]], dtype = torch.float, device = agent.net.device)\n",
    "                d = torch.tensor([[d0]], dtype = torch.long, device = agent.net.device)\n",
    "                b = torch.tensor([[b0]], dtype = torch.long, device = agent.net.device)\n",
    "                out = agent.net(s, ts, d, b)\n",
    "                action = torch.argmax(out).item()\n",
    "            agent.history.append([s0, ts0, d0, b0, action])\n",
    "            if action:\n",
    "                continue\n",
    "            else:\n",
    "                break\n",
    "        else:\n",
    "            break\n",
    "    agent.me_score = agent.me_score + agent.tempo_score\n",
    "    agent.tempo_score = 0\n",
    "    agent.n_dice = 5\n",
    "    if (agent.me_score > 395 and agent.me_score < 500) or (agent.me_score > 895 and agent.me_score < 1000):\n",
    "        agent.barrier = 2\n",
    "    else:\n",
    "        agent.barrier = 0\n",
    "    agent.n_turns = agent.n_turns + 1"
   ]
  },
  {
   "cell_type": "code",
   "execution_count": 11,
   "id": "4f66cfd5-80ec-45e5-aeb1-87042f841477",
   "metadata": {},
   "outputs": [],
   "source": [
    "def game(agent, epsilon, max_turns = 100):\n",
    "    while True:\n",
    "        turn(agent, epsilon)\n",
    "        if agent.me_score >= 1000:\n",
    "            agent.end_game(True)\n",
    "            break\n",
    "        if agent.n_turns == max_turns:\n",
    "            agent.end_game(False)\n",
    "            break"
   ]
  },
  {
   "cell_type": "code",
   "execution_count": 12,
   "id": "d9701b93-4285-4448-9226-077c3e29959b",
   "metadata": {},
   "outputs": [],
   "source": [
    "def last_game_history(agent):\n",
    "    for h in agent.history:\n",
    "        if len(h) == 1:\n",
    "            print('score:', h[0])\n",
    "        elif len(h) == 3:\n",
    "            print('score:', h[0], 'roll:', h[1] + 1, 't-score:', h[2])\n",
    "        elif len(h) == 4:\n",
    "            print('score:', h[0], 'roll:', h[1] + 1, 't-score:', h[2], 'barrier:', h[3])\n",
    "        else:\n",
    "            print('score:', h[0], 'roll:', h[1] + 1, 't-score:', h[2], 'barrier:', h[3], 'action:', h[4])\n",
    "    print('turns:', agent.n_turns)"
   ]
  },
  {
   "cell_type": "code",
   "execution_count": null,
   "id": "ce45e36e-2dd5-47d2-aff5-cce44b601083",
   "metadata": {},
   "outputs": [],
   "source": []
  },
  {
   "cell_type": "markdown",
   "id": "c9c6d19a-42b7-46a3-9d5d-fba79d75afa8",
   "metadata": {},
   "source": [
    "# Create Agent"
   ]
  },
  {
   "cell_type": "code",
   "execution_count": 13,
   "id": "c54a6b88-03c6-448e-bfd2-c676e5568abd",
   "metadata": {},
   "outputs": [],
   "source": [
    "d_emb = 8\n",
    "#seq_length = 6\n",
    "hidden_mult = 4\n",
    "# order = [(128, 8), (128, 8), \n",
    "#          (64, 4), (64, 4), \n",
    "#          (64, 2), (64, 2), \n",
    "#          (32, 1), (32, 1)]\n",
    "order = [(32, 4), (32, 4), (32, 2), (32, 2), (32, 1), (32, 1)]\n",
    "#heads_order = [1] * 12\n",
    "enc_drop = 0.05  # 0.005\n",
    "lr = 0.001"
   ]
  },
  {
   "cell_type": "code",
   "execution_count": 14,
   "id": "a0b3ca77-4eef-4e63-971c-ab825baaa0ca",
   "metadata": {},
   "outputs": [],
   "source": [
    "model_hp = d_emb, hidden_mult, order, enc_drop, lr"
   ]
  },
  {
   "cell_type": "code",
   "execution_count": 15,
   "id": "496ed472-b740-4a5a-9d09-8a3c39c18d26",
   "metadata": {},
   "outputs": [
    {
     "name": "stdout",
     "output_type": "stream",
     "text": [
      "num of parameters: 10034\n"
     ]
    }
   ],
   "source": [
    "agent = Agent(model_hp)\n",
    "print('num of parameters:', sum(p.numel() for p in agent.net.parameters() if p.requires_grad))"
   ]
  },
  {
   "cell_type": "markdown",
   "id": "6b52d786-8227-44c1-a965-9bd61dcc72f6",
   "metadata": {},
   "source": [
    "## collect data"
   ]
  },
  {
   "cell_type": "code",
   "execution_count": 16,
   "id": "948b9aaf-a934-4554-b1d9-87343624bd6a",
   "metadata": {},
   "outputs": [],
   "source": [
    "n_games = 100\n",
    "epsilon = 1"
   ]
  },
  {
   "cell_type": "code",
   "execution_count": 17,
   "id": "30aab82b-f4a4-4a96-87f0-938367058bf5",
   "metadata": {},
   "outputs": [
    {
     "name": "stdout",
     "output_type": "stream",
     "text": [
      "[================] 100%, 100, 00:00:00:01"
     ]
    }
   ],
   "source": [
    "start_time = dt.now()\n",
    "for i in range(n_games):\n",
    "    game(agent, epsilon)\n",
    "    elapsed = dt.now() - start_time\n",
    "    secs = elapsed.seconds\n",
    "    ratio = (i + 1) / n_games\n",
    "    printout = '\\r[%-16s] %d%%, %d, %02d:%02d:%02d:%02d'\n",
    "    sys.stdout.write(printout % ('='*round(16 * ratio), round(100 * ratio), (i + 1), elapsed.days, secs // 3600, \n",
    "                                 secs // 60 % 60, secs % 60))\n",
    "    sys.stdout.flush()"
   ]
  },
  {
   "cell_type": "code",
   "execution_count": null,
   "id": "a0d16eb3-6505-40d8-bb27-44880850205c",
   "metadata": {},
   "outputs": [],
   "source": []
  },
  {
   "cell_type": "code",
   "execution_count": 18,
   "id": "2e233e0a-ecdf-4433-9666-7e0c3cf6f1d5",
   "metadata": {},
   "outputs": [],
   "source": [
    "turns = np.asarray(agent.turns_history)"
   ]
  },
  {
   "cell_type": "code",
   "execution_count": 19,
   "id": "c3866ce4-c6c0-4fdb-bb9c-3b1609df7aa4",
   "metadata": {},
   "outputs": [
    {
     "data": {
      "text/plain": [
       "(99,)"
      ]
     },
     "execution_count": 19,
     "metadata": {},
     "output_type": "execute_result"
    }
   ],
   "source": [
    "turns.shape"
   ]
  },
  {
   "cell_type": "code",
   "execution_count": 20,
   "id": "9fdb5744-1de1-4185-a29c-0c1739206fde",
   "metadata": {},
   "outputs": [
    {
     "data": {
      "image/png": "[encoded data removed]",
      "text/plain": [
       "<Figure size 720x720 with 1 Axes>"
      ]
     },
     "metadata": {
      "needs_background": "light"
     },
     "output_type": "display_data"
    }
   ],
   "source": [
    "hist, bins = np.histogram(turns, bins = 20)\n",
    "plt.figure(figsize = (10, 10))\n",
    "plt.bar(bins[1:], hist)\n",
    "plt.show()"
   ]
  },
  {
   "cell_type": "code",
   "execution_count": 21,
   "id": "f5b40c4b-d565-4a52-aaaa-bca322842fbe",
   "metadata": {},
   "outputs": [],
   "source": [
    "indices = np.argwhere(turns < 55)[:,0]"
   ]
  },
  {
   "cell_type": "code",
   "execution_count": 22,
   "id": "86c55717-75c2-4fda-b4f9-b30c37787d3a",
   "metadata": {},
   "outputs": [
    {
     "data": {
      "text/plain": [
       "(45,)"
      ]
     },
     "execution_count": 22,
     "metadata": {},
     "output_type": "execute_result"
    }
   ],
   "source": [
    "indices.shape"
   ]
  },
  {
   "cell_type": "code",
   "execution_count": 23,
   "id": "2ec9da76-517a-4be5-8a63-d42d2396dce1",
   "metadata": {},
   "outputs": [],
   "source": [
    "raw_data = []\n",
    "for i in indices:\n",
    "    raw_data.append(agent.replay_history[i])"
   ]
  },
  {
   "cell_type": "code",
   "execution_count": 24,
   "id": "98903475-eb19-4b2a-a508-5ee31110b69e",
   "metadata": {},
   "outputs": [],
   "source": [
    "raw_data = np.vstack(raw_data)"
   ]
  },
  {
   "cell_type": "code",
   "execution_count": 25,
   "id": "2ea79a3a-755c-4ad7-af8e-50ef66b6ab9d",
   "metadata": {},
   "outputs": [
    {
     "data": {
      "text/plain": [
       "(2421, 5)"
      ]
     },
     "execution_count": 25,
     "metadata": {},
     "output_type": "execute_result"
    }
   ],
   "source": [
    "raw_data.shape"
   ]
  },
  {
   "cell_type": "code",
   "execution_count": 26,
   "id": "a5b74981-0001-4bde-ab89-375713a38152",
   "metadata": {},
   "outputs": [],
   "source": [
    "flag_save = True"
   ]
  },
  {
   "cell_type": "code",
   "execution_count": 27,
   "id": "9e9dcedb-c842-4863-b42d-1b49bb83eb58",
   "metadata": {},
   "outputs": [],
   "source": [
    "if flag_save:\n",
    "    torch.save(raw_data, 'data/twsyacha/RL0/raw_data_0.np')"
   ]
  },
  {
   "cell_type": "code",
   "execution_count": 26,
   "id": "de838da2-53b6-42af-9dbe-ca3f79663974",
   "metadata": {},
   "outputs": [],
   "source": [
    "flag_load = True\n",
    "file_name = 'raw_data_0.np'"
   ]
  },
  {
   "cell_type": "code",
   "execution_count": 27,
   "id": "61cc105d-7a9c-4d0f-b282-a01e55647557",
   "metadata": {},
   "outputs": [],
   "source": [
    "if flag_load:\n",
    "    raw_data = torch.load('data/twsyacha/RL0/' + file_name)"
   ]
  },
  {
   "cell_type": "code",
   "execution_count": 28,
   "id": "a43d65fb-3fd8-4ae3-897c-614eb04e5d5b",
   "metadata": {},
   "outputs": [],
   "source": [
    "X_train, Y_train = raw_data[:, :-1], raw_data[:, -1]"
   ]
  },
  {
   "cell_type": "markdown",
   "id": "ea2ff7be-6443-475e-92f2-a2baa17dccde",
   "metadata": {},
   "source": [
    "## Train"
   ]
  },
  {
   "cell_type": "code",
   "execution_count": 29,
   "id": "89925a1e-f2d6-46d2-9877-7d37ca23dc37",
   "metadata": {},
   "outputs": [],
   "source": [
    "scaler = StandardScaler()\n",
    "X_train_scaled = scaler.fit_transform(X_train)"
   ]
  },
  {
   "cell_type": "code",
   "execution_count": 30,
   "id": "1f4e092c-61a7-48ee-a854-a687dfa54482",
   "metadata": {},
   "outputs": [],
   "source": [
    "batch_size = 32"
   ]
  },
  {
   "cell_type": "code",
   "execution_count": 31,
   "id": "44e90849-a2fc-4f08-a336-6a7c9746d4c9",
   "metadata": {},
   "outputs": [],
   "source": [
    "train_data = TensorDataset(torch.from_numpy(X_train_scaled), torch.from_numpy(Y_train))\n",
    "train_loader = DataLoader(train_data, shuffle = True, batch_size = batch_size, drop_last = True)"
   ]
  },
  {
   "cell_type": "code",
   "execution_count": 32,
   "id": "2d58cbac-56de-49d2-a7a0-dac45504c9cc",
   "metadata": {},
   "outputs": [],
   "source": [
    "epochs = 2**8\n",
    "#agent.net = Transformer(model_hp)"
   ]
  },
  {
   "cell_type": "code",
   "execution_count": null,
   "id": "e6c30f87-76ed-4a2d-8fac-56b0adf2fbfd",
   "metadata": {},
   "outputs": [],
   "source": [
    "loss_train = train_eval(agent.net, train_loader, epochs)"
   ]
  },
  {
   "cell_type": "code",
   "execution_count": 79,
   "id": "a7f75d0e-8713-4b6b-84e0-358720044ac6",
   "metadata": {},
   "outputs": [
    {
     "name": "stdout",
     "output_type": "stream",
     "text": [
      "total epochs 257\n"
     ]
    },
    {
     "data": {
      "image/png": "[encoded data removed]",
      "text/plain": [
       "<Figure size 720x720 with 1 Axes>"
      ]
     },
     "metadata": {
      "needs_background": "light"
     },
     "output_type": "display_data"
    }
   ],
   "source": [
    "print('total epochs', agent.net.epochs)\n",
    "plt.figure(figsize = (10, 10))\n",
    "plt.plot(loss_train)\n",
    "plt.show()"
   ]
  },
  {
   "cell_type": "code",
   "execution_count": 44,
   "id": "07304eb2-4c5b-4aea-a50a-1af1e0797674",
   "metadata": {},
   "outputs": [],
   "source": []
  },
  {
   "cell_type": "code",
   "execution_count": null,
   "id": "617b1b7d-5ada-4380-ac46-d487e055cf84",
   "metadata": {},
   "outputs": [],
   "source": []
  },
  {
   "cell_type": "code",
   "execution_count": null,
   "id": "aec36616-bcd0-4e27-a0db-b865b04f7d75",
   "metadata": {},
   "outputs": [],
   "source": []
  },
  {
   "cell_type": "code",
   "execution_count": null,
   "id": "29fa8a54-946d-4742-b499-5aa125ab0318",
   "metadata": {},
   "outputs": [],
   "source": []
  },
  {
   "cell_type": "code",
   "execution_count": null,
   "id": "cb375f64-2b63-44ea-bbec-93aaf949f78e",
   "metadata": {},
   "outputs": [],
   "source": []
  },
  {
   "cell_type": "code",
   "execution_count": null,
   "id": "54db4476-8de0-41c0-a001-6a4646f0de28",
   "metadata": {},
   "outputs": [],
   "source": []
  },
  {
   "cell_type": "code",
   "execution_count": null,
   "id": "fc42d2ef-b78c-4345-a142-f142e175ea04",
   "metadata": {},
   "outputs": [],
   "source": []
  },
  {
   "cell_type": "code",
   "execution_count": 211,
   "id": "fe8e916c-24fc-4d18-b96d-f8dde864e054",
   "metadata": {},
   "outputs": [],
   "source": []
  },
  {
   "cell_type": "code",
   "execution_count": 212,
   "id": "55134c0b-e111-4958-88b0-38477827379a",
   "metadata": {},
   "outputs": [
    {
     "name": "stdout",
     "output_type": "stream",
     "text": [
      "0 5\n"
     ]
    }
   ],
   "source": []
  },
  {
   "cell_type": "code",
   "execution_count": 215,
   "id": "66f1224a-6836-4f1f-ba96-fd1519af8c69",
   "metadata": {},
   "outputs": [
    {
     "data": {
      "text/plain": [
       "False"
      ]
     },
     "execution_count": 215,
     "metadata": {},
     "output_type": "execute_result"
    }
   ],
   "source": []
  },
  {
   "cell_type": "code",
   "execution_count": 216,
   "id": "a08f3e69-4e51-471e-834a-38099bd6232a",
   "metadata": {},
   "outputs": [
    {
     "name": "stdout",
     "output_type": "stream",
     "text": [
      "[3] 35 1\n"
     ]
    }
   ],
   "source": []
  },
  {
   "cell_type": "code",
   "execution_count": null,
   "id": "00ce1d53-6b6a-4916-8adb-39aad2779175",
   "metadata": {},
   "outputs": [],
   "source": []
  },
  {
   "cell_type": "code",
   "execution_count": null,
   "id": "bc6e1b0d-3e69-4f76-be77-86aa14fcd4c8",
   "metadata": {},
   "outputs": [],
   "source": []
  },
  {
   "cell_type": "code",
   "execution_count": null,
   "id": "c3ab4a6e-24b5-47ab-9067-f0725598853f",
   "metadata": {},
   "outputs": [],
   "source": []
  },
  {
   "cell_type": "code",
   "execution_count": null,
   "id": "24b823df-1c79-49d0-bfc8-8d37a390f119",
   "metadata": {},
   "outputs": [],
   "source": []
  },
  {
   "cell_type": "code",
   "execution_count": null,
   "id": "7991547e-279d-4dc3-bde7-5a29da123f7d",
   "metadata": {},
   "outputs": [],
   "source": []
  },
  {
   "cell_type": "code",
   "execution_count": null,
   "id": "444510ca-84b6-4816-81be-cf1957a8d8c5",
   "metadata": {},
   "outputs": [],
   "source": []
  },
  {
   "cell_type": "code",
   "execution_count": null,
   "id": "c53737db-edd5-4514-9fd7-ae40926d1fb0",
   "metadata": {},
   "outputs": [],
   "source": []
  },
  {
   "cell_type": "code",
   "execution_count": null,
   "id": "1e3e3f65-575f-4897-a351-411515f7053a",
   "metadata": {},
   "outputs": [],
   "source": []
  },
  {
   "cell_type": "code",
   "execution_count": null,
   "id": "e33abcf4-307e-4f14-a88f-955db74eb3ae",
   "metadata": {},
   "outputs": [],
   "source": []
  },
  {
   "cell_type": "code",
   "execution_count": null,
   "id": "28db128f-2883-4215-8f21-0a8121f5ec49",
   "metadata": {},
   "outputs": [],
   "source": []
  },
  {
   "cell_type": "code",
   "execution_count": null,
   "id": "09f6a701-81b5-4481-85a0-39a7d5235bad",
   "metadata": {},
   "outputs": [],
   "source": []
  },
  {
   "cell_type": "code",
   "execution_count": null,
   "id": "38bc5fea-6b70-4bc4-a264-de25584ae729",
   "metadata": {},
   "outputs": [],
   "source": []
  },
  {
   "cell_type": "code",
   "execution_count": null,
   "id": "f91bdd77-d537-4798-bcd4-ac0baba40bca",
   "metadata": {},
   "outputs": [],
   "source": []
  },
  {
   "cell_type": "code",
   "execution_count": null,
   "id": "b2c7a6d5-29de-4ac8-9eaa-69b6ecb43cca",
   "metadata": {},
   "outputs": [],
   "source": []
  },
  {
   "cell_type": "markdown",
   "id": "d3b9e46d-ac2d-4dba-a6bb-27b5d923dc39",
   "metadata": {},
   "source": [
    "# WORKS"
   ]
  },
  {
   "cell_type": "code",
   "execution_count": 277,
   "id": "d9651f42-9d58-43e1-928a-e422fdb3e33a",
   "metadata": {},
   "outputs": [],
   "source": [
    "embs = nn.Embedding(3, 5)"
   ]
  },
  {
   "cell_type": "code",
   "execution_count": null,
   "id": "987f3385-f7ed-4e1f-815e-c99dae4ae44a",
   "metadata": {},
   "outputs": [],
   "source": []
  },
  {
   "cell_type": "code",
   "execution_count": null,
   "id": "022c7d00-3f19-4f66-b2a2-54ac0084f0c1",
   "metadata": {},
   "outputs": [],
   "source": []
  },
  {
   "cell_type": "code",
   "execution_count": null,
   "id": "5ab1dc64-3eca-4d11-835e-7a34626f375f",
   "metadata": {},
   "outputs": [],
   "source": [
    "import torch\n",
    "import torchga\n",
    "import pygad\n",
    "\n",
    "def fitness_func(solution, sol_idx):\n",
    "    global data_inputs, data_outputs, torch_ga, model, loss_function\n",
    "\n",
    "    model_weights_dict = torchga.model_weights_as_dict(model=model,\n",
    "                                                         weights_vector=solution)\n",
    "\n",
    "    # Use the current solution as the model parameters.\n",
    "    model.load_state_dict(model_weights_dict)\n",
    "\n",
    "    predictions = model(data_inputs)\n",
    "\n",
    "    solution_fitness = 1.0 / (loss_function(predictions, data_outputs).detach().numpy() + 0.00000001)\n",
    "\n",
    "    return solution_fitness\n",
    "\n",
    "def callback_generation(ga_instance):\n",
    "    print(\"Generation = {generation}\".format(generation=ga_instance.generations_completed))\n",
    "    print(\"Fitness    = {fitness}\".format(fitness=ga_instance.best_solution()[1]))\n",
    "\n",
    "# Create the PyTorch model.\n",
    "input_layer  = torch.nn.Linear(2, 4)\n",
    "relu_layer = torch.nn.ReLU()\n",
    "dense_layer = torch.nn.Linear(4, 2)\n",
    "output_layer = torch.nn.Softmax(1)\n",
    "\n",
    "model = torch.nn.Sequential(input_layer,\n",
    "                            relu_layer,\n",
    "                            dense_layer,\n",
    "                            output_layer)\n",
    "# print(model)\n",
    "\n",
    "# Create an instance of the pygad.torchga.TorchGA class to build the initial population.\n",
    "torch_ga = torchga.TorchGA(model=model,\n",
    "                           num_solutions=10)\n",
    "\n",
    "loss_function = torch.nn.BCELoss()\n",
    "\n",
    "# XOR problem inputs\n",
    "data_inputs = torch.tensor([[0.0, 0.0],\n",
    "                            [0.0, 1.0],\n",
    "                            [1.0, 0.0],\n",
    "                            [1.0, 1.0]])\n",
    "\n",
    "# XOR problem outputs\n",
    "data_outputs = torch.tensor([[1.0, 0.0],\n",
    "                             [0.0, 1.0],\n",
    "                             [0.0, 1.0],\n",
    "                             [1.0, 0.0]])\n",
    "\n",
    "# Prepare the PyGAD parameters. Check the documentation for more information: https://pygad.readthedocs.io/en/latest/README_pygad_ReadTheDocs.html#pygad-ga-class\n",
    "num_generations = 250 # Number of generations.\n",
    "num_parents_mating = 5 # Number of solutions to be selected as parents in the mating pool.\n",
    "initial_population = torch_ga.population_weights # Initial population of network weights.\n",
    "\n",
    "# Create an instance of the pygad.GA class\n",
    "ga_instance = pygad.GA(num_generations=num_generations, \n",
    "                       num_parents_mating=num_parents_mating, \n",
    "                       initial_population=initial_population,\n",
    "                       fitness_func=fitness_func,\n",
    "                       on_generation=callback_generation)\n",
    "\n",
    "# Start the genetic algorithm evolution.\n",
    "ga_instance.run()\n",
    "\n",
    "# After the generations complete, some plots are showed that summarize how the outputs/fitness values evolve over generations.\n",
    "ga_instance.plot_fitness(title=\"PyGAD & PyTorch - Iteration vs. Fitness\", linewidth=4)\n",
    "\n",
    "# Returning the details of the best solution.\n",
    "solution, solution_fitness, solution_idx = ga_instance.best_solution()\n",
    "print(\"Fitness value of the best solution = {solution_fitness}\".format(solution_fitness=solution_fitness))\n",
    "print(\"Index of the best solution : {solution_idx}\".format(solution_idx=solution_idx))\n",
    "\n",
    "# Fetch the parameters of the best solution.\n",
    "best_solution_weights = torchga.model_weights_as_dict(model=model,\n",
    "                                                      weights_vector=solution)\n",
    "model.load_state_dict(best_solution_weights)\n",
    "predictions = model(data_inputs)\n",
    "print(\"Predictions : \\n\", predictions.detach().numpy())\n",
    "\n",
    "# Calculate the binary crossentropy for the trained model.\n",
    "print(\"Binary Crossentropy : \", loss_function(predictions, data_outputs).detach().numpy())\n",
    "\n",
    "# Calculate the classification accuracy of the trained model.\n",
    "a = torch.max(predictions, axis=1)\n",
    "b = torch.max(data_outputs, axis=1)\n",
    "accuracy = torch.sum(a.indices == b.indices) / len(data_outputs)\n",
    "print(\"Accuracy : \", accuracy.detach().numpy())"
   ]
  },
  {
   "cell_type": "code",
   "execution_count": null,
   "id": "83778c62-eec7-4b4c-9910-1c3a8a91762e",
   "metadata": {},
   "outputs": [],
   "source": [
    "def unflatten(flattened, shapes):\n",
    "    newarray = []\n",
    "    index = 0\n",
    "    for shape in shapes:\n",
    "        size = np.product(shape)\n",
    "        newarray.append(flattened[index : index + size].reshape(shape))\n",
    "        index += size\n",
    "    return newarray\n",
    "        \n",
    "def crossover(agents, network, pop_size):\n",
    "    offspring = []\n",
    "    for _ in range((pop_size - len(agents)) // 2):\n",
    "        parent1 = random.choice(agents)\n",
    "        parent2 = random.choice(agents)\n",
    "        child1 = Agent(network)\n",
    "        child2 = Agent(network)\n",
    "\n",
    "        shapes = [a.shape for a in parent1.neural_network.weights]\n",
    "\n",
    "        genes1 = np.concatenate([a.flatten() for a in parent1.neural_network.weights])\n",
    "        genes2 = np.concatenate([a.flatten() for a in parent2.neural_network.weights])\n",
    "\n",
    "        split = random.randint(0,len(genes1)-1)child1_genes = np.array(genes1[0:split].tolist() + genes2[split:].tolist())\n",
    "        child2_genes = np.array(genes1[0:split].tolist() + genes2[split:].tolist())\n",
    "\n",
    "        child1.neural_network.weights = unflatten(child1_genes,shapes)\n",
    "        child2.neural_network.weights = unflatten(child2_genes,shapes)\n",
    "\n",
    "        offspring.append(child1)\n",
    "        offspring.append(child2)\n",
    "    agents.extend(offspring)\n",
    "    return agents"
   ]
  },
  {
   "cell_type": "code",
   "execution_count": null,
   "id": "f2b3a6f8-1b85-4881-916d-2ecf10317884",
   "metadata": {},
   "outputs": [],
   "source": []
  },
  {
   "cell_type": "code",
   "execution_count": null,
   "id": "52ccd963-d90c-4dbb-8317-5a5b3d5a978c",
   "metadata": {},
   "outputs": [],
   "source": []
  },
  {
   "cell_type": "code",
   "execution_count": null,
   "id": "98f87813-dd72-4e3f-ba8b-996c85de4b26",
   "metadata": {},
   "outputs": [],
   "source": []
  },
  {
   "cell_type": "code",
   "execution_count": 161,
   "id": "9ee569af-8aea-499e-b05f-94c709fc8c2a",
   "metadata": {},
   "outputs": [
    {
     "data": {
      "text/plain": [
       "(tensor([ 0,  1,  2,  3,  4,  5,  6,  7,  8,  9, 10, 11, 12, 13, 14, 15, 16, 17,\n",
       "         18, 19, 20, 21, 22]),)"
      ]
     },
     "execution_count": 161,
     "metadata": {},
     "output_type": "execute_result"
    }
   ],
   "source": [
    "#tempo = table_w > 1\n",
    "#torch.nonzero(table_w > 1, as_tuple = True)\n",
    "(table_w >= 0).nonzero(as_tuple = True)"
   ]
  },
  {
   "cell_type": "code",
   "execution_count": 168,
   "id": "4c8a8f6e-6ba6-4931-a26e-1423008665f8",
   "metadata": {},
   "outputs": [
    {
     "data": {
      "text/plain": [
       "tensor([ 15.,   0.,   0.,   0.,   0.,   0.,   0.,   0.,   0.,   0.,   0.,   0.,\n",
       "        -15.,   0.,   0.,   0.,   0.,   0.,   0.,   0.,   0.,   0.,   0.,   0.])"
      ]
     },
     "execution_count": 168,
     "metadata": {},
     "output_type": "execute_result"
    }
   ],
   "source": [
    "table_w"
   ]
  },
  {
   "cell_type": "code",
   "execution_count": 171,
   "id": "16afe294-1627-42d4-b313-8db3dc5c86e8",
   "metadata": {},
   "outputs": [
    {
     "data": {
      "text/plain": [
       "tensor([11,  1,  4,  6,  4,  0,  3, 10, 12,  9,  2,  5,  3,  7,  8,  3, 10,  5,\n",
       "        12,  4, 13, 12,  8,  4])"
      ]
     },
     "execution_count": 171,
     "metadata": {},
     "output_type": "execute_result"
    }
   ],
   "source": [
    "tens = torch.randint(15, (24,))\n",
    "tens"
   ]
  },
  {
   "cell_type": "code",
   "execution_count": 176,
   "id": "adc0d124-53a1-41a5-81ba-30b8ac574fb8",
   "metadata": {},
   "outputs": [
    {
     "data": {
      "text/plain": [
       "tensor([ 8, 18, 20, 21])"
      ]
     },
     "execution_count": 176,
     "metadata": {},
     "output_type": "execute_result"
    }
   ],
   "source": [
    "inds = (tens > 11).nonzero().view(-1)\n",
    "inds"
   ]
  },
  {
   "cell_type": "code",
   "execution_count": 179,
   "id": "df2b86fb-25ca-424a-99b6-aed48066cf94",
   "metadata": {},
   "outputs": [
    {
     "data": {
      "text/plain": [
       "tensor([16, 17, 18, 19, 20, 21, 22, 23])"
      ]
     },
     "execution_count": 179,
     "metadata": {},
     "output_type": "execute_result"
    }
   ],
   "source": [
    "ch_inds = torch.arange(16, 24)\n",
    "ch_inds"
   ]
  },
  {
   "cell_type": "code",
   "execution_count": 177,
   "id": "3dbc7208-9be5-4711-a30e-6159bf5dccf9",
   "metadata": {},
   "outputs": [
    {
     "data": {
      "text/plain": [
       "tensor([17, 18, 20, 21])"
      ]
     },
     "execution_count": 177,
     "metadata": {},
     "output_type": "execute_result"
    }
   ],
   "source": [
    "inds[0] = 17\n",
    "inds"
   ]
  },
  {
   "cell_type": "code",
   "execution_count": 182,
   "id": "0e3ea2ea-96ac-411a-ade8-89e6b452781f",
   "metadata": {},
   "outputs": [
    {
     "data": {
      "text/plain": [
       "tensor(False)"
      ]
     },
     "execution_count": 182,
     "metadata": {},
     "output_type": "execute_result"
    }
   ],
   "source": [
    "torch.all(inds > 18)"
   ]
  },
  {
   "cell_type": "code",
   "execution_count": null,
   "id": "c60696db-9789-4036-b249-e140ff4e2b83",
   "metadata": {},
   "outputs": [],
   "source": []
  },
  {
   "cell_type": "code",
   "execution_count": null,
   "id": "a7e91161-c512-4685-90bd-274c5c64e02d",
   "metadata": {},
   "outputs": [],
   "source": []
  },
  {
   "cell_type": "code",
   "execution_count": null,
   "id": "41098fcb-44f4-4355-8303-247532d73cec",
   "metadata": {},
   "outputs": [],
   "source": []
  },
  {
   "cell_type": "code",
   "execution_count": 114,
   "id": "91d5e18e-5c6e-4928-9ddc-88126b8c85a9",
   "metadata": {},
   "outputs": [],
   "source": [
    "class Dice_embedder(nn.Module):\n",
    "    def __init__(self, d_emb):\n",
    "        super().__init__()\n",
    "        self.embed = nn.Embedding(6, d_emb)\n",
    "    \n",
    "    def forward(self, x):\n",
    "        x = self.embed(x)\n",
    "        #x = rearrange(x, '... i j -> ... (i j)')\n",
    "        return x"
   ]
  },
  {
   "cell_type": "code",
   "execution_count": 115,
   "id": "3b3d4cfa-84b1-478c-ba89-9015120433a5",
   "metadata": {},
   "outputs": [],
   "source": [
    "model = Dice_embedder(4)"
   ]
  },
  {
   "cell_type": "code",
   "execution_count": 162,
   "id": "945e2eee-c834-40d9-8cfb-a1684f24260a",
   "metadata": {},
   "outputs": [
    {
     "data": {
      "text/plain": [
       "tensor([3, 4])"
      ]
     },
     "execution_count": 162,
     "metadata": {},
     "output_type": "execute_result"
    }
   ],
   "source": [
    "roll = torch.randint(6, (2,))\n",
    "roll"
   ]
  },
  {
   "cell_type": "code",
   "execution_count": 165,
   "id": "a92187d4-8cf6-4090-83dd-9dc366efdf1f",
   "metadata": {},
   "outputs": [
    {
     "data": {
      "text/plain": [
       "True"
      ]
     },
     "execution_count": 165,
     "metadata": {},
     "output_type": "execute_result"
    }
   ],
   "source": [
    "3 in roll"
   ]
  },
  {
   "cell_type": "code",
   "execution_count": 153,
   "id": "f4c78a36-6744-4f14-8e1a-8ca88c34e844",
   "metadata": {},
   "outputs": [
    {
     "data": {
      "text/plain": [
       "tensor([1])"
      ]
     },
     "execution_count": 153,
     "metadata": {},
     "output_type": "execute_result"
    }
   ],
   "source": [
    "roll[1:2]"
   ]
  },
  {
   "cell_type": "code",
   "execution_count": 132,
   "id": "127522ff-e7b0-4d24-9291-20d13d5adbf4",
   "metadata": {},
   "outputs": [
    {
     "data": {
      "text/plain": [
       "tensor([[ 1.5480, -0.9881,  0.6946, -1.4169]], grad_fn=<EmbeddingBackward0>)"
      ]
     },
     "execution_count": 132,
     "metadata": {},
     "output_type": "execute_result"
    }
   ],
   "source": [
    "result = model(roll[:1])\n",
    "result"
   ]
  },
  {
   "cell_type": "code",
   "execution_count": 127,
   "id": "ec107e78-4d6b-442a-a485-82b8c43f72da",
   "metadata": {},
   "outputs": [
    {
     "data": {
      "text/plain": [
       "tensor([0., 0., 0., 0., 0.])"
      ]
     },
     "execution_count": 127,
     "metadata": {},
     "output_type": "execute_result"
    }
   ],
   "source": [
    "tens = torch.zeros(5,)\n",
    "tens"
   ]
  },
  {
   "cell_type": "code",
   "execution_count": 134,
   "id": "fa9188ab-9209-4225-908e-6b87b93441b8",
   "metadata": {},
   "outputs": [
    {
     "data": {
      "text/plain": [
       "tensor([ 0.0000,  0.0000,  0.0000,  0.0000,  0.0000,  1.5480, -0.9881,  0.6946,\n",
       "        -1.4169], grad_fn=<CatBackward0>)"
      ]
     },
     "execution_count": 134,
     "metadata": {},
     "output_type": "execute_result"
    }
   ],
   "source": [
    "torch.cat((tens, result[0]))"
   ]
  },
  {
   "cell_type": "code",
   "execution_count": null,
   "id": "18067c2f-b96e-4b61-b068-9ed12447d44a",
   "metadata": {},
   "outputs": [],
   "source": []
  },
  {
   "cell_type": "code",
   "execution_count": 45,
   "id": "a66a32fb-0d01-417c-a848-ea001e5e7d2a",
   "metadata": {},
   "outputs": [],
   "source": [
    "class Multi_Head_Attention(nn.Module):\n",
    "    def __init__(self, d_emb, d_hid, heads):\n",
    "        super().__init__()\n",
    "        self.d_hid = d_hid\n",
    "        self.heads = heads\n",
    "        self.dim_per_head = self.d_hid // self.heads\n",
    "        \n",
    "        self.qkv = nn.Linear(d_emb, self.d_hid * 3, bias = False)\n",
    "        \n",
    "        \n",
    "        self.unifyheads = nn.Linear(self.d_hid, d_emb)\n",
    "    \n",
    "    def self_attention(self, q, k, v):\n",
    "        scores = torch.einsum('...ij,...kj->...ik', q, k) / np.sqrt(self.dim_per_head)\n",
    "        scores = F.softmax(scores, dim = -1)\n",
    "        return torch.einsum('...ij,...jk->...ik', scores, v)\n",
    "    \n",
    "    def forward(self, x):\n",
    "        qkv = self.qkv(x)\n",
    "        q = qkv[..., :self.d_hid]\n",
    "        k = qkv[..., self.d_hid : self.d_hid * 2]\n",
    "        v = qkv[..., self.d_hid * 2 :]\n",
    "            \n",
    "        q = rearrange(q, '... i (h j) -> ... h i j', h = self.heads)\n",
    "        k = rearrange(k, '... i (h j) -> ... h i j', h = self.heads)\n",
    "        v = rearrange(v, '... i (h j) -> ... h i j', h = self.heads)\n",
    "                \n",
    "        scores = self.self_attention(q, k, v)\n",
    "        scores = rearrange(scores, '... h i j -> ... i (h j)').contiguous()\n",
    "                \n",
    "        return self.unifyheads(scores)"
   ]
  },
  {
   "cell_type": "code",
   "execution_count": 46,
   "id": "39cb920d-5841-4666-acaa-5a49191a49eb",
   "metadata": {},
   "outputs": [],
   "source": [
    "class GLU(nn.Module):\n",
    "    def __init__(self, in_size, out_size):\n",
    "        super().__init__()\n",
    "        self.out_size = out_size\n",
    "        self.linear = nn.Linear(in_size, out_size * 2)\n",
    "    def forward(self, x):\n",
    "        x = self.linear(x)\n",
    "        #x = x[..., : self.out_size] * x[..., self.out_size :].sigmoid()\n",
    "        x = torch.einsum('...i, ...i->...i', [x[..., : self.out_size], x[..., self.out_size :].sigmoid()])"
   ]
  },
  {
   "cell_type": "code",
   "execution_count": 47,
   "id": "b5a13c9e-5fe6-49f8-9abc-893201279156",
   "metadata": {},
   "outputs": [],
   "source": [
    "class Encoder_layer(nn.Module):\n",
    "    def __init__(self, d_emb, d_hid, hidden_mult, heads, enc_drop):\n",
    "        super().__init__()\n",
    "        self.dropout = nn.Dropout(enc_drop)\n",
    "        \n",
    "        self.mha = Multi_Head_Attention(d_emb, d_hid, heads)\n",
    "        self.norm_1 = nn.LayerNorm(d_emb)\n",
    "        self.ff = nn.Sequential(\n",
    "            nn.Linear(d_emb, hidden_mult * d_emb),\n",
    "            #nn.ReLU(),\n",
    "            #nn.GELU(),\n",
    "            nn.LeakyReLU(),\n",
    "            nn.Linear(hidden_mult * d_emb, d_emb)\n",
    "        )\n",
    "        #self.ff = GLU(d_emb, d_emb)\n",
    "        \n",
    "        self.norm_2 = nn.LayerNorm(d_emb)\n",
    "        \n",
    "    def forward(self, x):\n",
    "        attended = self.mha(x)\n",
    "        x = attended + x\n",
    "        x = self.dropout(x)\n",
    "        x = self.norm_1(x)\n",
    "        fed_for = self.ff(x)\n",
    "        x = fed_for + x\n",
    "        x = self.dropout(x)\n",
    "        x = self.norm_2(x)\n",
    "        return x"
   ]
  },
  {
   "cell_type": "code",
   "execution_count": null,
   "id": "ea011482-7d3c-4c36-a47d-798b39e32d36",
   "metadata": {},
   "outputs": [],
   "source": [
    "class Transformer(nn.Module):\n",
    "    def __init__(self, model_hp):\n",
    "        super().__init__()\n",
    "        self.epochs = 0\n",
    "        self.losses = []\n",
    "        \n",
    "        d_emb, seq_length, hidden_mult, order, enc_drop, lr, cuda = model_hp\n",
    "        self.d_emb = d_emb\n",
    "        \n",
    "        self.score_emb = GLU(2, 2 * d_emb)\n",
    "        self.dice_emb = nn.Embedding(6, d_emb)\n",
    "        self.barrier_emb = nn.Embedding(2, d_emb)\n",
    "        \n",
    "        self.pe = nn.Parameter(torch.rand(seq_length + 1, d_emb))\n",
    "        self.cls_token = nn.Parameter(torch.rand(1, d_emb))\n",
    "        \n",
    "        self.encoder = nn.ModuleList()\n",
    "        for d_hid, heads in order:\n",
    "            self.encoder.append(Encoder_layer(d_emb, d_hid, hidden_mult, heads, enc_drop))\n",
    "        \n",
    "        self.out = GLU(self.d_emb, 2)\n",
    "                \n",
    "        self.weights_init()\n",
    "        \n",
    "        self.optimizer = torch.optim.AdamW(self.parameters(), lr = lr)\n",
    "        self.loss = nn.HuberLoss()\n",
    "        if torch.cuda.is_available():\n",
    "            torch.cuda.set_device(cuda)\n",
    "            self.device = torch.device('cuda')\n",
    "        else:\n",
    "            self.device = torch.device('cpu')\n",
    "        self.to(self.device)\n",
    "        \n",
    "    def weights_init(self):\n",
    "        for m in self.modules():\n",
    "            if isinstance(m, nn.Linear):\n",
    "                torch.nn.init.xavier_uniform_(m.weight)\n",
    "                #m.bias.data.fill_(0.01)\n",
    "         \n",
    "    def forward(self, s, d, b):\n",
    "        s = self.score_emb(s)\n",
    "        s = rearrange(s, '... (s e) -> ... s e', e = self.d_emb)\n",
    "        d = self.dice_emb(d)\n",
    "        b = self.barrier_emb(b)\n",
    "        \n",
    "        x = torch.cat((s, d, b), dim = -2)\n",
    "        \n",
    "        cls_toks = repeat(self.cls_token, 's e -> b s e', b = x.size(0))\n",
    "        x = torch.cat((cls_toks, x), dim = 1)\n",
    "        x = x + self.pe #[:x.size(1)]\n",
    "        for enc in self.encoder:\n",
    "            x = enc(x)\n",
    "        x = x[:, 0]\n",
    "        out = self.out(x)\n",
    "        return out"
   ]
  },
  {
   "cell_type": "code",
   "execution_count": null,
   "id": "ba770f0b-beca-4240-96f4-80f9b9a7210a",
   "metadata": {},
   "outputs": [],
   "source": []
  },
  {
   "cell_type": "code",
   "execution_count": null,
   "id": "1822d1fc-4c7d-4e9c-95e5-77acf4277818",
   "metadata": {},
   "outputs": [],
   "source": [
    "GAMMA = 0.999\n",
    "EPS_START = 0.9\n",
    "EPS_END = 0.05\n",
    "EPS_DECAY = 200\n",
    "TARGET_UPDATE = 10"
   ]
  },
  {
   "cell_type": "code",
   "execution_count": 185,
   "id": "e56641eb-ce66-43d9-a4d7-7878b11b4789",
   "metadata": {},
   "outputs": [],
   "source": [
    "def get_reward(table, roll, action):\n",
    "    reward = 0\n",
    "    flag = False\n",
    "    roll = roll + 1\n",
    "    target = action + roll\n",
    "    if table[action] < 1:\n",
    "        reward -=2\n",
    "    elif target > 23 or table[target] < 0:\n",
    "        reward -= 1\n",
    "    else:\n",
    "        reward += table[action] / 6\n",
    "        flag = True\n",
    "    return reward, flag\n",
    "\n",
    "def get_reward_end(table, roll, action):\n",
    "    reward = 0\n",
    "    flag = False\n",
    "    roll = roll + 1\n",
    "    target = action + roll\n",
    "    if table[action] < 1:\n",
    "        reward -= 2\n",
    "    elif target > 23:\n",
    "        reward += 1\n",
    "        flag = True\n",
    "    elif table[target] < 0:\n",
    "        reward -= 1\n",
    "    else:\n",
    "        flag = True\n",
    "    return reward, flag"
   ]
  },
  {
   "cell_type": "code",
   "execution_count": null,
   "id": "cb2f74e1-1e44-4799-82f5-78cad4ef4765",
   "metadata": {},
   "outputs": [],
   "source": [
    "def turn(models, table, roll):\n",
    "    reward = 0\n",
    "    roll = torch.randint(6, (2,))\n",
    "    d = roll.to(device)\n",
    "    t = table.to(device)\n",
    "    chosen_actions = []\n",
    "    outs = []\n",
    "    out = models[0](t, d)\n",
    "    outs.append(out)\n",
    "    choice = out.argsort()[::-1]\n",
    "    for i, ch in enumerate(choice):\n",
    "        out = models[i + 1](t, d[ch : ch + 1])\n",
    "        spots = (table > 0).nonzero().view(-1)\n",
    "        actions = out.argsort()[::-1]\n",
    "        if torch.all(spots > 17):\n",
    "            for a in actions:\n",
    "                r, flag = get_reward_end(table, roll[choice], a)\n",
    "                reward += r\n",
    "                if flag:\n",
    "                    break\n",
    "            a = -1\n",
    "        else:\n",
    "            for a in actions:\n",
    "                r, flag = get_reward(table, roll[choice], a)\n",
    "                reward += r\n",
    "                if flag:\n",
    "                    break\n",
    "            a = -1\n",
    "        outs.append(out)\n",
    "        chosen_actions.append(a)"
   ]
  },
  {
   "cell_type": "code",
   "execution_count": null,
   "id": "8bf5d074-09b7-4956-bc61-36e5b57e116e",
   "metadata": {},
   "outputs": [],
   "source": []
  }
 ],
 "metadata": {
  "kernelspec": {
   "display_name": "Python 3 (ipykernel)",
   "language": "python",
   "name": "python3"
  },
  "language_info": {
   "codemirror_mode": {
    "name": "ipython",
    "version": 3
   },
   "file_extension": ".py",
   "mimetype": "text/x-python",
   "name": "python",
   "nbconvert_exporter": "python",
   "pygments_lexer": "ipython3",
   "version": "3.9.7"
  }
 },
 "nbformat": 4,
 "nbformat_minor": 5
}
