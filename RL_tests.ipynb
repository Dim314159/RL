{
 "cells": [
  {
   "cell_type": "code",
   "execution_count": 8,
   "id": "406d07be-b913-47ea-8501-d31b5bf62e0e",
   "metadata": {},
   "outputs": [],
   "source": [
    "import numpy as np"
   ]
  },
  {
   "cell_type": "code",
   "execution_count": null,
   "id": "340ebcca-3928-4302-811c-90e136699d7d",
   "metadata": {},
   "outputs": [],
   "source": []
  },
  {
   "cell_type": "code",
   "execution_count": 134,
   "id": "76be121e-aedd-44e1-b47c-b6583182e3ca",
   "metadata": {},
   "outputs": [],
   "source": [
    "def update_field(field, exit, reward, gamma):\n",
    "    shape = field.shape\n",
    "    new_field = np.empty(shape)\n",
    "    for i in range(i_ax):\n",
    "        i_fractor = 0\n",
    "        if i > 0:\n",
    "            i_fractor += 1\n",
    "        if i < shape[0] - 1:\n",
    "            i_fractor += 1\n",
    "        for j in range(j_ax):\n",
    "            if i == exit[0] and j == exit[1]:\n",
    "                continue\n",
    "            j_fractor = 0\n",
    "            if j > 0:\n",
    "                j_fractor += 1\n",
    "            if j < shape[1] - 1:\n",
    "                j_fractor += 1\n",
    "            fractor = i_fractor + j_fractor\n",
    "            new_value = 0\n",
    "            if i > 0:\n",
    "                new_value += gamma * field[i - 1, j] + reward\n",
    "            if i < shape[0] - 1:\n",
    "                new_value += gamma * field[i + 1, j] + reward\n",
    "            if j > 0:\n",
    "                new_value += gamma * field[i, j - 1] + reward\n",
    "            if j < shape[1] - 1:\n",
    "                new_value += gamma * field[i, j + 1] + reward\n",
    "            new_field[i, j] = new_value / fractor\n",
    "    return new_field"
   ]
  },
  {
   "cell_type": "code",
   "execution_count": 130,
   "id": "2ab9f301-3457-4a1d-97f4-bbfe50bd23e4",
   "metadata": {},
   "outputs": [],
   "source": [
    "i_ax, j_ax = 4, 5"
   ]
  },
  {
   "cell_type": "code",
   "execution_count": 131,
   "id": "44aba36f-144a-4cc8-ac86-ef15e4a1a966",
   "metadata": {},
   "outputs": [
    {
     "data": {
      "text/plain": [
       "(2, 2)"
      ]
     },
     "execution_count": 131,
     "metadata": {},
     "output_type": "execute_result"
    }
   ],
   "source": [
    "exit = (np.random.choice(i_ax, 1)[0], np.random.choice(j_ax, 1)[0])\n",
    "exit"
   ]
  },
  {
   "cell_type": "code",
   "execution_count": 135,
   "id": "d54a86a2-e645-46bc-84b6-daea22d6d74b",
   "metadata": {},
   "outputs": [],
   "source": [
    "gamma = 0.9"
   ]
  },
  {
   "cell_type": "code",
   "execution_count": 132,
   "id": "c8281c5b-a168-4afc-a740-3dc4fffdc8fd",
   "metadata": {},
   "outputs": [],
   "source": [
    "field = np.zeros((i_ax, j_ax))"
   ]
  },
  {
   "cell_type": "code",
   "execution_count": 133,
   "id": "0a73a4fd-d90a-41c0-82d2-6ddfb383850b",
   "metadata": {},
   "outputs": [
    {
     "data": {
      "text/plain": [
       "array([[0., 0., 0., 0., 0.],\n",
       "       [0., 0., 0., 0., 0.],\n",
       "       [0., 0., 0., 0., 0.],\n",
       "       [0., 0., 0., 0., 0.]])"
      ]
     },
     "execution_count": 133,
     "metadata": {},
     "output_type": "execute_result"
    }
   ],
   "source": [
    "field"
   ]
  },
  {
   "cell_type": "code",
   "execution_count": 169,
   "id": "626ed07e-365f-4f5c-8fdb-9703d1060357",
   "metadata": {},
   "outputs": [
    {
     "name": "stdout",
     "output_type": "stream",
     "text": [
      "[[-7.77 -7.58 -7.26 -7.58 -7.77]\n",
      " [-7.48 -6.91 -5.74 -6.91 -7.48]\n",
      " [-6.95 -5.49  0.   -5.49 -6.95]\n",
      " [-6.87 -6.1  -4.66 -6.1  -6.87]]\n"
     ]
    }
   ],
   "source": [
    "field = update_field(field, exit, -1, gamma)\n",
    "print(np.around(field, 2))"
   ]
  },
  {
   "cell_type": "code",
   "execution_count": null,
   "id": "50d74ee5-6d82-4f5c-ae55-17fb564efedc",
   "metadata": {},
   "outputs": [],
   "source": []
  },
  {
   "cell_type": "code",
   "execution_count": 54,
   "id": "b169effd-e849-4f41-8542-ae3d503e323b",
   "metadata": {},
   "outputs": [
    {
     "name": "stdout",
     "output_type": "stream",
     "text": [
      "[[-14.06 -16.47 -18.87 -20.48 -21.14]\n",
      " [-10.37 -14.86 -18.3  -20.33 -21.12]\n",
      " [  0.   -11.89 -17.29 -19.91 -20.9 ]\n",
      " [ -7.18 -12.71 -17.04 -19.6  -20.6 ]]\n"
     ]
    }
   ],
   "source": [
    "print(np.around(field, 2))"
   ]
  },
  {
   "cell_type": "code",
   "execution_count": 55,
   "id": "ff6e4fa2-fa58-4c0b-b111-1f7a646b9eea",
   "metadata": {},
   "outputs": [
    {
     "data": {
      "text/plain": [
       "array([[-14.05926433, -16.47144919, -18.86972537, -20.47689807,\n",
       "        -21.14156761],\n",
       "       [-10.37330076, -14.86232989, -18.29899878, -20.33457581,\n",
       "        -21.11784912],\n",
       "       [  0.        , -11.89401167, -17.29251505, -19.91353466,\n",
       "        -20.89706529],\n",
       "       [ -7.17967955, -12.70692893, -17.03711234, -19.59629316,\n",
       "        -20.59814471]])"
      ]
     },
     "execution_count": 55,
     "metadata": {},
     "output_type": "execute_result"
    }
   ],
   "source": [
    "field"
   ]
  },
  {
   "cell_type": "code",
   "execution_count": null,
   "id": "6c590c3f-8c79-41c3-904e-903ebb294569",
   "metadata": {},
   "outputs": [],
   "source": []
  },
  {
   "cell_type": "code",
   "execution_count": null,
   "id": "75a1907c-a58a-49d4-89de-57b73f9d3aa9",
   "metadata": {},
   "outputs": [],
   "source": []
  },
  {
   "cell_type": "code",
   "execution_count": 6,
   "id": "42247286-b648-47a0-bf28-eb460183bd62",
   "metadata": {},
   "outputs": [
    {
     "data": {
      "text/plain": [
       "array([[0., 0., 0.],\n",
       "       [0., 0., 0.]])"
      ]
     },
     "execution_count": 6,
     "metadata": {},
     "output_type": "execute_result"
    }
   ],
   "source": [
    "field = np.zeros((2, 3))\n",
    "field"
   ]
  },
  {
   "cell_type": "code",
   "execution_count": 10,
   "id": "53a016c7-b86c-43bd-8b13-5a2ff8802175",
   "metadata": {},
   "outputs": [
    {
     "data": {
      "text/plain": [
       "array([[-1., -4., -2.],\n",
       "       [-2., -4., -1.]])"
      ]
     },
     "execution_count": 10,
     "metadata": {},
     "output_type": "execute_result"
    }
   ],
   "source": [
    "reward = np.zeros_like(field)\n",
    "reward[0, 0] = -1\n",
    "reward[1, 2] = -1\n",
    "reward[0, 2] = -2\n",
    "reward[1, 0] = -2\n",
    "reward[0, 1] = -4\n",
    "reward[1, 1] = -4\n",
    "reward"
   ]
  },
  {
   "cell_type": "code",
   "execution_count": 13,
   "id": "05c7fa56-fafa-4e2e-9c29-cbbd11b08565",
   "metadata": {},
   "outputs": [],
   "source": [
    "def adjacent_cells(x, y, r, c):\n",
    "    adj_cells = []\n",
    "    for i, j in [(0, 1), (1, 0), (0, -1), (-1, 0)]:\n",
    "        new_x, new_y = x + i, y + j\n",
    "        if 0 <= new_x < r and 0 <= new_y < c:\n",
    "            adj_cells.append((new_x, new_y))\n",
    "    return adj_cells"
   ]
  },
  {
   "cell_type": "code",
   "execution_count": null,
   "id": "56b84267-8a60-4bff-bdb1-ce8e72e03e1b",
   "metadata": {},
   "outputs": [],
   "source": [
    "def update(field, reward, gamma):\n",
    "    exit = (0, 2)\n",
    "    r, c = field.shape\n",
    "    new_field = np.zeros_like(field)\n",
    "    for i in range(r):\n",
    "        for j in range(c):\n",
    "            neighbors = adjacent_cells(i, j, r, c)\n",
    "            for n in neighbors:\n",
    "                "
   ]
  },
  {
   "cell_type": "code",
   "execution_count": null,
   "id": "3537c5b6-592b-4b6f-bfbb-586f75219950",
   "metadata": {},
   "outputs": [],
   "source": []
  },
  {
   "cell_type": "code",
   "execution_count": null,
   "id": "5b5ae4a1-3e3b-4a62-82f7-b913754f6154",
   "metadata": {},
   "outputs": [],
   "source": []
  },
  {
   "cell_type": "code",
   "execution_count": null,
   "id": "a0d8e148-a692-4a98-b24e-ad255eca1e0f",
   "metadata": {},
   "outputs": [],
   "source": [
    "def get_state_value(state, start_values):\n",
    "    ''' calculate the value of the specified state using the supplied current state values\n",
    "      - this implements equation 9 '''\n",
    "\n",
    "    # iterate over all possible actions for the state\n",
    "    state_value = 0\n",
    "    for action in get_π(state):\n",
    "        \n",
    "        target_state = action[0]\n",
    "        action_probability = action[1]\n",
    "        \n",
    "        # iterate over all possible next states and rewards for the action   \n",
    "        q_value = 0\n",
    "        for action_dynamics in get_p( state, target_state ):\n",
    "            next_state = action_dynamics['next_state']\n",
    "            reward = action_dynamics['reward']\n",
    "            probability = action_dynamics['probability']\n",
    "\n",
    "            q_value += probability * (reward + start_values[next_state])\n",
    "\n",
    "        state_value += action_probability * q_value\n",
    "    \n",
    "    return state_value   "
   ]
  },
  {
   "cell_type": "code",
   "execution_count": null,
   "id": "e0a98e4d-0b7e-4695-bf0d-7af26df8fc07",
   "metadata": {},
   "outputs": [],
   "source": []
  },
  {
   "cell_type": "markdown",
   "id": "aea9256d-ce6f-450c-822d-7eeee60edf59",
   "metadata": {},
   "source": [
    "# from baby robot"
   ]
  },
  {
   "cell_type": "code",
   "execution_count": 18,
   "id": "650b3bdf-b99b-4e9e-81a4-3592f987d67f",
   "metadata": {},
   "outputs": [],
   "source": [
    "# the probability of moving from one state to the next\n",
    "transition_probabilities = [\n",
    "    [0.0, 0.5, 0.0, 0.5, 0.0, 0.0],     # Start\n",
    "    [0.3, 0.0, 0.4, 0.0, 0.3, 0.0],     # S1\n",
    "    [0.0, 0.2, 0.0, 0.0, 0.0, 0.8],     # S2\n",
    "    [0.2, 0.0, 0.0, 0.0, 0.8, 0.0],     # S3\n",
    "    [0.0, 0.3, 0.0, 0.3, 0.0, 0.4],     # S4\n",
    "    [0.0, 0.0, 0.0, 0.0, 0.0, 1.0]]     # Exit\n",
    "\n",
    "# the reward for moving to each of the states\n",
    "state_rewards = [-1,-4,-2,-2,-4,-1]\n",
    "\n",
    "# level details\n",
    "level_width = 3\n",
    "level_height = 2\n",
    "splashes = [[0.0,1.0,0.5],\n",
    "            [0.5,1.0,0.0]]"
   ]
  },
  {
   "cell_type": "code",
   "execution_count": 30,
   "id": "f9263432-50b8-40f9-8fc2-0cba159124bb",
   "metadata": {},
   "outputs": [],
   "source": [
    "from enum import IntEnum\n",
    "class State(IntEnum):\n",
    "    Start, S1, S2, S3, S4, Exit = range(6)\n",
    "\n",
    "class Puddle(IntEnum):\n",
    "    Dry, Small, Large = range(3)  "
   ]
  },
  {
   "cell_type": "code",
   "execution_count": 31,
   "id": "52cf9a7f-af12-4df5-867d-3c38a54ec6d6",
   "metadata": {},
   "outputs": [
    {
     "data": {
      "text/plain": [
       "array([0., 0., 0., 0., 0., 0.])"
      ]
     },
     "execution_count": 31,
     "metadata": {},
     "output_type": "execute_result"
    }
   ],
   "source": [
    "start_values = np.zeros((State.Exit+1))\n",
    "start_values"
   ]
  },
  {
   "cell_type": "code",
   "execution_count": null,
   "id": "5a27e4c0-eb5a-44e3-bf2c-586cb7775c38",
   "metadata": {},
   "outputs": [],
   "source": []
  },
  {
   "cell_type": "code",
   "execution_count": 32,
   "id": "12bdab4c-17eb-412c-b826-923aef91bc75",
   "metadata": {},
   "outputs": [],
   "source": [
    "def get_state_value(state ,start_values):\n",
    "    ''' calculate the value of the specified state using the supplied current state values '''\n",
    "\n",
    "    # iterate over all possible next states\n",
    "    state_value = 0\n",
    "    for next_state in State:\n",
    "        # add the reward for moving to the next state and the value of the next state\n",
    "        state_value += transition_probabilities[state][next_state] * (state_rewards[next_state] + start_values[next_state])        \n",
    "\n",
    "    return state_value"
   ]
  },
  {
   "cell_type": "code",
   "execution_count": 34,
   "id": "93d29e2e-faca-4f8d-ac03-06ff4e641a9f",
   "metadata": {},
   "outputs": [
    {
     "data": {
      "text/plain": [
       "-3.0"
      ]
     },
     "execution_count": 34,
     "metadata": {},
     "output_type": "execute_result"
    }
   ],
   "source": [
    "get_state_value(State.Start, start_values)  "
   ]
  },
  {
   "cell_type": "code",
   "execution_count": null,
   "id": "63be5fc0-4768-4149-8fb6-dd768716599f",
   "metadata": {},
   "outputs": [],
   "source": []
  },
  {
   "cell_type": "code",
   "execution_count": null,
   "id": "c6327aad-f13a-4cb0-afb9-e63b9206ad8e",
   "metadata": {},
   "outputs": [],
   "source": [
    "def get_target_states(s : State):\n",
    "    ''' get the list of possible target states from the specified state '''    \n",
    "    connections = connection_matrix[s]  \n",
    "    # convert the list of connections into an array of state indexes      \n",
    "    target_indexes = np.nonzero(connections)[0]   \n",
    "    # convert the indexes to state enums\n",
    "    return np.array([*State],object)[target_indexes]"
   ]
  },
  {
   "cell_type": "code",
   "execution_count": null,
   "id": "f9bd1eb0-acf2-4751-be84-cf0ac8b80481",
   "metadata": {},
   "outputs": [],
   "source": [
    "def get_policy(s : State):\n",
    "    ''' given a state 's' return the possible actions and their probabilities - this is the policy 'π' '''        \n",
    "    \n",
    "    # get the set of possible target states\n",
    "    target_states = get_target_states(s)\n",
    "\n",
    "    # this policy makes all actions equally likely, so the probability of any action = 1/number of actions\n",
    "    action_probability = 1 / target_states.shape[0]\n",
    "    \n",
    "    # create a structured array of targets and their probabilites\n",
    "    actions = np.zeros(target_states.shape[0], dtype=[('target', State), ('probability', float)])\n",
    "    actions['target'] = target_states\n",
    "    actions['probability'] = action_probability   \n",
    "\n",
    "    return actions"
   ]
  },
  {
   "cell_type": "code",
   "execution_count": null,
   "id": "39de1a4d-0782-42f9-872e-dbf0a601be75",
   "metadata": {},
   "outputs": [],
   "source": []
  },
  {
   "cell_type": "code",
   "execution_count": null,
   "id": "51cf9656-e01e-4788-b90c-af2c213ebec9",
   "metadata": {},
   "outputs": [],
   "source": []
  },
  {
   "cell_type": "code",
   "execution_count": null,
   "id": "9854db5a-ee7b-46b4-b87c-d793fc4e380e",
   "metadata": {},
   "outputs": [],
   "source": []
  },
  {
   "cell_type": "code",
   "execution_count": 1,
   "id": "851a9158-2b4b-4b6e-b98a-cc5656d7453a",
   "metadata": {},
   "outputs": [],
   "source": [
    "class Agent():\n",
    "    def __init__(self):\n",
    "        super().__init__()\n",
    "        \n",
    "        self.me_score = 0\n",
    "        self.n_dice = 5\n",
    "        self.roll = []\n",
    "        self.tempo_score = 0\n",
    "        self.n_turns = 0\n",
    "    \n",
    "    def refresh(self):\n",
    "        self.me_score = 0\n",
    "        self.n_dice = 5\n",
    "        self.roll = []\n",
    "        self.tempo_score = 0\n",
    "        self.n_turns = 0"
   ]
  },
  {
   "cell_type": "code",
   "execution_count": 2,
   "id": "870c25da-fcd3-47cd-b8dd-e23c6f0caab9",
   "metadata": {},
   "outputs": [],
   "source": [
    "def make_roll(agent):\n",
    "    agent.roll = np.random.randint(6, size = agent.n_dice)\n",
    "    count = np.unique(agent.roll, return_counts = True)\n",
    "    summ = 0\n",
    "    for d, c in zip(count[0], count[1]):\n",
    "        if d == 0:\n",
    "            summ += 10 * c\n",
    "        elif d == 4:\n",
    "            summ += 5 * c\n",
    "        else:\n",
    "            continue\n",
    "        agent.n_dice = agent.n_dice - c\n",
    "        if agent.n_dice == 0:\n",
    "            agent.n_dice = 5\n",
    "            break\n",
    "    if summ == 0:\n",
    "        agent.tempo_score = 0\n",
    "        return False\n",
    "    else:\n",
    "        agent.tempo_score = agent.tempo_score + summ\n",
    "        return True"
   ]
  },
  {
   "cell_type": "code",
   "execution_count": 12,
   "id": "4129754f-e9c4-4778-b131-71a708d5225c",
   "metadata": {},
   "outputs": [],
   "source": [
    "def turn(agent):\n",
    "    while True:\n",
    "        flag = make_roll(agent)\n",
    "        print(agent.roll + 1, '\\ntempo score:', agent.tempo_score, 'score:', agent.me_score, '\\nturns:', agent.n_turns)\n",
    "        if flag:\n",
    "            score = agent.me_score + agent.tempo_score\n",
    "            if score >= 1000:\n",
    "                agent.me_score = score\n",
    "                break\n",
    "            action = input()\n",
    "            if action == ' ':\n",
    "                continue\n",
    "            else:\n",
    "                break\n",
    "        else:\n",
    "            break\n",
    "    agent.me_score = agent.me_score + agent.tempo_score\n",
    "    agent.tempo_score = 0\n",
    "    agent.n_dice = 5\n",
    "    agent.n_turns = agent.n_turns + 1"
   ]
  },
  {
   "cell_type": "code",
   "execution_count": 13,
   "id": "a764ac81-7fc5-4627-adf8-0bf531382837",
   "metadata": {},
   "outputs": [
    {
     "name": "stdout",
     "output_type": "stream",
     "text": [
      "[3 1 6 1 5] \n",
      "tempo score: 25 score: 0 \n",
      "turns: 0\n"
     ]
    },
    {
     "name": "stdin",
     "output_type": "stream",
     "text": [
      " \n"
     ]
    },
    {
     "name": "stdout",
     "output_type": "stream",
     "text": [
      "[3 6 1 3 6] \n",
      "tempo score: 10 score: 25 \n",
      "turns: 1\n"
     ]
    },
    {
     "name": "stdin",
     "output_type": "stream",
     "text": [
      "  \n"
     ]
    },
    {
     "name": "stdout",
     "output_type": "stream",
     "text": [
      "[6 1 6 1] \n",
      "tempo score: 30 score: 25 \n",
      "turns: 1\n"
     ]
    },
    {
     "name": "stdin",
     "output_type": "stream",
     "text": [
      " \n"
     ]
    },
    {
     "name": "stdout",
     "output_type": "stream",
     "text": [
      "[2 6 2 6 1] \n",
      "tempo score: 10 score: 55 \n",
      "turns: 2\n"
     ]
    },
    {
     "name": "stdin",
     "output_type": "stream",
     "text": [
      "  \n"
     ]
    },
    {
     "name": "stdout",
     "output_type": "stream",
     "text": [
      "[6 3 3 4] \n",
      "tempo score: 0 score: 55 \n",
      "turns: 2\n",
      "[1 5 2 6 6] \n",
      "tempo score: 15 score: 55 \n",
      "turns: 3\n"
     ]
    },
    {
     "name": "stdin",
     "output_type": "stream",
     "text": [
      "  \n"
     ]
    },
    {
     "name": "stdout",
     "output_type": "stream",
     "text": [
      "[3 6 1] \n",
      "tempo score: 25 score: 55 \n",
      "turns: 3\n"
     ]
    },
    {
     "name": "stdin",
     "output_type": "stream",
     "text": [
      " \n"
     ]
    },
    {
     "name": "stdout",
     "output_type": "stream",
     "text": [
      "[5 4 3 4 4] \n",
      "tempo score: 5 score: 80 \n",
      "turns: 4\n"
     ]
    },
    {
     "name": "stdin",
     "output_type": "stream",
     "text": [
      "  \n"
     ]
    },
    {
     "name": "stdout",
     "output_type": "stream",
     "text": [
      "[2 3 2 2] \n",
      "tempo score: 0 score: 80 \n",
      "turns: 4\n",
      "[3 1 5 1 1] \n",
      "tempo score: 35 score: 80 \n",
      "turns: 5\n"
     ]
    },
    {
     "name": "stdin",
     "output_type": "stream",
     "text": [
      " \n"
     ]
    },
    {
     "name": "stdout",
     "output_type": "stream",
     "text": [
      "[6 6 1 6 2] \n",
      "tempo score: 10 score: 115 \n",
      "turns: 6\n"
     ]
    },
    {
     "name": "stdin",
     "output_type": "stream",
     "text": [
      "  \n"
     ]
    },
    {
     "name": "stdout",
     "output_type": "stream",
     "text": [
      "[4 2 2 6] \n",
      "tempo score: 0 score: 115 \n",
      "turns: 6\n",
      "[1 3 6 5 2] \n",
      "tempo score: 15 score: 115 \n",
      "turns: 7\n"
     ]
    },
    {
     "name": "stdin",
     "output_type": "stream",
     "text": [
      "  \n"
     ]
    },
    {
     "name": "stdout",
     "output_type": "stream",
     "text": [
      "[6 6 3] \n",
      "tempo score: 0 score: 115 \n",
      "turns: 7\n",
      "[3 6 2 3 2] \n",
      "tempo score: 0 score: 115 \n",
      "turns: 8\n",
      "[1 2 3 3 5] \n",
      "tempo score: 15 score: 115 \n",
      "turns: 9\n"
     ]
    },
    {
     "name": "stdin",
     "output_type": "stream",
     "text": [
      "  \n"
     ]
    },
    {
     "name": "stdout",
     "output_type": "stream",
     "text": [
      "[5 5 6] \n",
      "tempo score: 25 score: 115 \n",
      "turns: 9\n"
     ]
    },
    {
     "name": "stdin",
     "output_type": "stream",
     "text": [
      " \n"
     ]
    },
    {
     "name": "stdout",
     "output_type": "stream",
     "text": [
      "[5 5 3 1 3] \n",
      "tempo score: 20 score: 140 \n",
      "turns: 10\n"
     ]
    },
    {
     "name": "stdin",
     "output_type": "stream",
     "text": [
      " \n"
     ]
    },
    {
     "name": "stdout",
     "output_type": "stream",
     "text": [
      "[1 5 6 5 3] \n",
      "tempo score: 20 score: 160 \n",
      "turns: 11\n"
     ]
    },
    {
     "name": "stdin",
     "output_type": "stream",
     "text": [
      " \n"
     ]
    },
    {
     "name": "stdout",
     "output_type": "stream",
     "text": [
      "[5 1 6 1 4] \n",
      "tempo score: 25 score: 180 \n",
      "turns: 12\n"
     ]
    },
    {
     "name": "stdin",
     "output_type": "stream",
     "text": [
      " \n"
     ]
    },
    {
     "name": "stdout",
     "output_type": "stream",
     "text": [
      "[1 5 1 1 3] \n",
      "tempo score: 35 score: 205 \n",
      "turns: 13\n"
     ]
    },
    {
     "name": "stdin",
     "output_type": "stream",
     "text": [
      " \n"
     ]
    },
    {
     "name": "stdout",
     "output_type": "stream",
     "text": [
      "[5 3 2 6 2] \n",
      "tempo score: 5 score: 240 \n",
      "turns: 14\n"
     ]
    },
    {
     "name": "stdin",
     "output_type": "stream",
     "text": [
      "  \n"
     ]
    },
    {
     "name": "stdout",
     "output_type": "stream",
     "text": [
      "[3 4 1 3] \n",
      "tempo score: 15 score: 240 \n",
      "turns: 14\n"
     ]
    },
    {
     "name": "stdin",
     "output_type": "stream",
     "text": [
      "  \n"
     ]
    },
    {
     "name": "stdout",
     "output_type": "stream",
     "text": [
      "[6 3 4] \n",
      "tempo score: 0 score: 240 \n",
      "turns: 14\n",
      "[5 3 4 6 1] \n",
      "tempo score: 15 score: 240 \n",
      "turns: 15\n"
     ]
    },
    {
     "name": "stdin",
     "output_type": "stream",
     "text": [
      "  \n"
     ]
    },
    {
     "name": "stdout",
     "output_type": "stream",
     "text": [
      "[5 2 5] \n",
      "tempo score: 25 score: 240 \n",
      "turns: 15\n"
     ]
    },
    {
     "name": "stdin",
     "output_type": "stream",
     "text": [
      " \n"
     ]
    },
    {
     "name": "stdout",
     "output_type": "stream",
     "text": [
      "[3 3 3 6 5] \n",
      "tempo score: 5 score: 265 \n",
      "turns: 16\n"
     ]
    },
    {
     "name": "stdin",
     "output_type": "stream",
     "text": [
      "  \n"
     ]
    },
    {
     "name": "stdout",
     "output_type": "stream",
     "text": [
      "[5 2 6 2] \n",
      "tempo score: 10 score: 265 \n",
      "turns: 16\n"
     ]
    },
    {
     "name": "stdin",
     "output_type": "stream",
     "text": [
      "  \n"
     ]
    },
    {
     "name": "stdout",
     "output_type": "stream",
     "text": [
      "[1 1 6] \n",
      "tempo score: 30 score: 265 \n",
      "turns: 16\n"
     ]
    },
    {
     "name": "stdin",
     "output_type": "stream",
     "text": [
      " \n"
     ]
    },
    {
     "name": "stdout",
     "output_type": "stream",
     "text": [
      "[5 4 5 5 6] \n",
      "tempo score: 15 score: 295 \n",
      "turns: 17\n"
     ]
    },
    {
     "name": "stdin",
     "output_type": "stream",
     "text": [
      " \n"
     ]
    },
    {
     "name": "stdout",
     "output_type": "stream",
     "text": [
      "[5 4 5 4 1] \n",
      "tempo score: 20 score: 310 \n",
      "turns: 18\n"
     ]
    },
    {
     "name": "stdin",
     "output_type": "stream",
     "text": [
      " \n"
     ]
    },
    {
     "name": "stdout",
     "output_type": "stream",
     "text": [
      "[3 2 6 1 1] \n",
      "tempo score: 20 score: 330 \n",
      "turns: 19\n"
     ]
    },
    {
     "name": "stdin",
     "output_type": "stream",
     "text": [
      "  \n"
     ]
    },
    {
     "name": "stdout",
     "output_type": "stream",
     "text": [
      "[4 2 4] \n",
      "tempo score: 0 score: 330 \n",
      "turns: 19\n",
      "[6 1 2 5 1] \n",
      "tempo score: 25 score: 330 \n",
      "turns: 20\n"
     ]
    },
    {
     "name": "stdin",
     "output_type": "stream",
     "text": [
      " \n"
     ]
    },
    {
     "name": "stdout",
     "output_type": "stream",
     "text": [
      "[3 3 6 2 5] \n",
      "tempo score: 5 score: 355 \n",
      "turns: 21\n"
     ]
    },
    {
     "name": "stdin",
     "output_type": "stream",
     "text": [
      "  \n"
     ]
    },
    {
     "name": "stdout",
     "output_type": "stream",
     "text": [
      "[2 3 5 4] \n",
      "tempo score: 10 score: 355 \n",
      "turns: 21\n"
     ]
    },
    {
     "name": "stdin",
     "output_type": "stream",
     "text": [
      "  \n"
     ]
    },
    {
     "name": "stdout",
     "output_type": "stream",
     "text": [
      "[6 5 4] \n",
      "tempo score: 15 score: 355 \n",
      "turns: 21\n"
     ]
    },
    {
     "name": "stdin",
     "output_type": "stream",
     "text": [
      " \n"
     ]
    },
    {
     "name": "stdout",
     "output_type": "stream",
     "text": [
      "[6 1 3 3 1] \n",
      "tempo score: 20 score: 370 \n",
      "turns: 22\n"
     ]
    },
    {
     "name": "stdin",
     "output_type": "stream",
     "text": [
      "  \n"
     ]
    },
    {
     "name": "stdout",
     "output_type": "stream",
     "text": [
      "[1 6 6] \n",
      "tempo score: 30 score: 370 \n",
      "turns: 22\n"
     ]
    },
    {
     "name": "stdin",
     "output_type": "stream",
     "text": [
      " \n"
     ]
    },
    {
     "name": "stdout",
     "output_type": "stream",
     "text": [
      "[2 4 1 3 1] \n",
      "tempo score: 20 score: 400 \n",
      "turns: 23\n"
     ]
    },
    {
     "ename": "KeyboardInterrupt",
     "evalue": "Interrupted by user",
     "output_type": "error",
     "traceback": [
      "\u001b[0;31m---------------------------------------------------------------------------\u001b[0m",
      "\u001b[0;31mKeyboardInterrupt\u001b[0m                         Traceback (most recent call last)",
      "\u001b[0;32m/tmp/ipykernel_7735/3421907149.py\u001b[0m in \u001b[0;36m<module>\u001b[0;34m\u001b[0m\n\u001b[1;32m      1\u001b[0m \u001b[0mag\u001b[0m \u001b[0;34m=\u001b[0m \u001b[0mAgent\u001b[0m\u001b[0;34m(\u001b[0m\u001b[0;34m)\u001b[0m\u001b[0;34m\u001b[0m\u001b[0;34m\u001b[0m\u001b[0m\n\u001b[1;32m      2\u001b[0m \u001b[0;32mwhile\u001b[0m \u001b[0;32mTrue\u001b[0m\u001b[0;34m:\u001b[0m\u001b[0;34m\u001b[0m\u001b[0;34m\u001b[0m\u001b[0m\n\u001b[0;32m----> 3\u001b[0;31m     \u001b[0mturn\u001b[0m\u001b[0;34m(\u001b[0m\u001b[0mag\u001b[0m\u001b[0;34m)\u001b[0m\u001b[0;34m\u001b[0m\u001b[0;34m\u001b[0m\u001b[0m\n\u001b[0m\u001b[1;32m      4\u001b[0m     \u001b[0;32mif\u001b[0m \u001b[0mag\u001b[0m\u001b[0;34m.\u001b[0m\u001b[0mme_score\u001b[0m \u001b[0;34m>\u001b[0m \u001b[0;36m999\u001b[0m\u001b[0;34m:\u001b[0m\u001b[0;34m\u001b[0m\u001b[0;34m\u001b[0m\u001b[0m\n\u001b[1;32m      5\u001b[0m         \u001b[0mprint\u001b[0m\u001b[0;34m(\u001b[0m\u001b[0mag\u001b[0m\u001b[0;34m.\u001b[0m\u001b[0mme_score\u001b[0m\u001b[0;34m)\u001b[0m\u001b[0;34m\u001b[0m\u001b[0;34m\u001b[0m\u001b[0m\n",
      "\u001b[0;32m/tmp/ipykernel_7735/2114680308.py\u001b[0m in \u001b[0;36mturn\u001b[0;34m(agent)\u001b[0m\n\u001b[1;32m      8\u001b[0m                 \u001b[0magent\u001b[0m\u001b[0;34m.\u001b[0m\u001b[0mme_score\u001b[0m \u001b[0;34m=\u001b[0m \u001b[0mscore\u001b[0m\u001b[0;34m\u001b[0m\u001b[0;34m\u001b[0m\u001b[0m\n\u001b[1;32m      9\u001b[0m                 \u001b[0;32mbreak\u001b[0m\u001b[0;34m\u001b[0m\u001b[0;34m\u001b[0m\u001b[0m\n\u001b[0;32m---> 10\u001b[0;31m             \u001b[0maction\u001b[0m \u001b[0;34m=\u001b[0m \u001b[0minput\u001b[0m\u001b[0;34m(\u001b[0m\u001b[0;34m)\u001b[0m\u001b[0;34m\u001b[0m\u001b[0;34m\u001b[0m\u001b[0m\n\u001b[0m\u001b[1;32m     11\u001b[0m             \u001b[0;32mif\u001b[0m \u001b[0maction\u001b[0m \u001b[0;34m==\u001b[0m \u001b[0;34m' '\u001b[0m\u001b[0;34m:\u001b[0m\u001b[0;34m\u001b[0m\u001b[0;34m\u001b[0m\u001b[0m\n\u001b[1;32m     12\u001b[0m                 \u001b[0;32mcontinue\u001b[0m\u001b[0;34m\u001b[0m\u001b[0;34m\u001b[0m\u001b[0m\n",
      "\u001b[0;32m~/anaconda3/lib/python3.9/site-packages/ipykernel/kernelbase.py\u001b[0m in \u001b[0;36mraw_input\u001b[0;34m(self, prompt)\u001b[0m\n\u001b[1;32m   1004\u001b[0m                 \u001b[0;34m\"raw_input was called, but this frontend does not support input requests.\"\u001b[0m\u001b[0;34m\u001b[0m\u001b[0;34m\u001b[0m\u001b[0m\n\u001b[1;32m   1005\u001b[0m             )\n\u001b[0;32m-> 1006\u001b[0;31m         return self._input_request(\n\u001b[0m\u001b[1;32m   1007\u001b[0m             \u001b[0mstr\u001b[0m\u001b[0;34m(\u001b[0m\u001b[0mprompt\u001b[0m\u001b[0;34m)\u001b[0m\u001b[0;34m,\u001b[0m\u001b[0;34m\u001b[0m\u001b[0;34m\u001b[0m\u001b[0m\n\u001b[1;32m   1008\u001b[0m             \u001b[0mself\u001b[0m\u001b[0;34m.\u001b[0m\u001b[0m_parent_ident\u001b[0m\u001b[0;34m[\u001b[0m\u001b[0;34m\"shell\"\u001b[0m\u001b[0;34m]\u001b[0m\u001b[0;34m,\u001b[0m\u001b[0;34m\u001b[0m\u001b[0;34m\u001b[0m\u001b[0m\n",
      "\u001b[0;32m~/anaconda3/lib/python3.9/site-packages/ipykernel/kernelbase.py\u001b[0m in \u001b[0;36m_input_request\u001b[0;34m(self, prompt, ident, parent, password)\u001b[0m\n\u001b[1;32m   1049\u001b[0m             \u001b[0;32mexcept\u001b[0m \u001b[0mKeyboardInterrupt\u001b[0m\u001b[0;34m:\u001b[0m\u001b[0;34m\u001b[0m\u001b[0;34m\u001b[0m\u001b[0m\n\u001b[1;32m   1050\u001b[0m                 \u001b[0;31m# re-raise KeyboardInterrupt, to truncate traceback\u001b[0m\u001b[0;34m\u001b[0m\u001b[0;34m\u001b[0m\u001b[0m\n\u001b[0;32m-> 1051\u001b[0;31m                 \u001b[0;32mraise\u001b[0m \u001b[0mKeyboardInterrupt\u001b[0m\u001b[0;34m(\u001b[0m\u001b[0;34m\"Interrupted by user\"\u001b[0m\u001b[0;34m)\u001b[0m \u001b[0;32mfrom\u001b[0m \u001b[0;32mNone\u001b[0m\u001b[0;34m\u001b[0m\u001b[0;34m\u001b[0m\u001b[0m\n\u001b[0m\u001b[1;32m   1052\u001b[0m             \u001b[0;32mexcept\u001b[0m \u001b[0mException\u001b[0m\u001b[0;34m:\u001b[0m\u001b[0;34m\u001b[0m\u001b[0;34m\u001b[0m\u001b[0m\n\u001b[1;32m   1053\u001b[0m                 \u001b[0mself\u001b[0m\u001b[0;34m.\u001b[0m\u001b[0mlog\u001b[0m\u001b[0;34m.\u001b[0m\u001b[0mwarning\u001b[0m\u001b[0;34m(\u001b[0m\u001b[0;34m\"Invalid Message:\"\u001b[0m\u001b[0;34m,\u001b[0m \u001b[0mexc_info\u001b[0m\u001b[0;34m=\u001b[0m\u001b[0;32mTrue\u001b[0m\u001b[0;34m)\u001b[0m\u001b[0;34m\u001b[0m\u001b[0;34m\u001b[0m\u001b[0m\n",
      "\u001b[0;31mKeyboardInterrupt\u001b[0m: Interrupted by user"
     ]
    }
   ],
   "source": [
    "ag = Agent()\n",
    "while True:\n",
    "    turn(ag)\n",
    "    if ag.me_score > 999:\n",
    "        print(ag.me_score)\n",
    "        break"
   ]
  },
  {
   "cell_type": "code",
   "execution_count": null,
   "id": "777276e7-ac44-4e15-ab5a-a40317490db7",
   "metadata": {},
   "outputs": [],
   "source": []
  }
 ],
 "metadata": {
  "kernelspec": {
   "display_name": "Python 3 (ipykernel)",
   "language": "python",
   "name": "python3"
  },
  "language_info": {
   "codemirror_mode": {
    "name": "ipython",
    "version": 3
   },
   "file_extension": ".py",
   "mimetype": "text/x-python",
   "name": "python",
   "nbconvert_exporter": "python",
   "pygments_lexer": "ipython3",
   "version": "3.9.7"
  }
 },
 "nbformat": 4,
 "nbformat_minor": 5
}
