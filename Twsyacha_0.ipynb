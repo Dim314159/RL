{
 "cells": [
  {
   "cell_type": "code",
   "execution_count": 1,
   "id": "d5342f1d-9d04-41ee-889e-c1d3e7492918",
   "metadata": {},
   "outputs": [],
   "source": [
    "import torch\n",
    "import torch.nn as nn\n",
    "import torch.nn.functional as F\n",
    "\n",
    "import numpy as np\n",
    "\n",
    "import matplotlib.pyplot as plt\n",
    "\n",
    "from einops import rearrange, repeat\n",
    "\n",
    "import sys\n",
    "from datetime import datetime as dt"
   ]
  },
  {
   "cell_type": "code",
   "execution_count": null,
   "id": "13b02e4f-ecb6-40e4-a376-2f55bde7b6ab",
   "metadata": {},
   "outputs": [],
   "source": []
  },
  {
   "cell_type": "code",
   "execution_count": 2,
   "id": "9605f9f3-b73e-4124-a7ef-412c396c0d6c",
   "metadata": {},
   "outputs": [],
   "source": [
    "my_path = 'data/twsyacha/GA/'"
   ]
  },
  {
   "cell_type": "code",
   "execution_count": null,
   "id": "295d6563-386d-46e8-8bcf-72dfc3bc8499",
   "metadata": {},
   "outputs": [],
   "source": []
  },
  {
   "cell_type": "markdown",
   "id": "2a349853-79e1-4a25-aeb8-7e8005afb23f",
   "metadata": {},
   "source": [
    "# Models"
   ]
  },
  {
   "cell_type": "markdown",
   "id": "817d5b11-a46c-4ae9-9292-c996f401cad1",
   "metadata": {},
   "source": [
    "## Transformer"
   ]
  },
  {
   "cell_type": "code",
   "execution_count": 3,
   "id": "6d48f8ca-cddd-4327-89a6-9dd6a36ec7cc",
   "metadata": {},
   "outputs": [],
   "source": [
    "class Multi_Head_Attention(nn.Module):\n",
    "    def __init__(self, d_emb, d_hid, heads):\n",
    "        super().__init__()\n",
    "        self.d_hid = d_hid\n",
    "        self.heads = heads\n",
    "        self.dim_per_head = self.d_hid // self.heads\n",
    "        \n",
    "        self.qkv = nn.Linear(d_emb, self.d_hid * 3, bias = False)\n",
    "        \n",
    "        \n",
    "        self.unifyheads = nn.Linear(self.d_hid, d_emb)\n",
    "    \n",
    "    def self_attention(self, q, k, v):\n",
    "        scores = torch.einsum('...ij,...kj->...ik', q, k) / np.sqrt(self.dim_per_head)\n",
    "        scores = F.softmax(scores, dim = -1)\n",
    "        return torch.einsum('...ij,...jk->...ik', scores, v)\n",
    "    \n",
    "    def forward(self, x):\n",
    "        qkv = self.qkv(x)\n",
    "        q = qkv[..., :self.d_hid]\n",
    "        k = qkv[..., self.d_hid : self.d_hid * 2]\n",
    "        v = qkv[..., self.d_hid * 2 :]\n",
    "            \n",
    "        q = rearrange(q, '... i (h j) -> ... h i j', h = self.heads)\n",
    "        k = rearrange(k, '... i (h j) -> ... h i j', h = self.heads)\n",
    "        v = rearrange(v, '... i (h j) -> ... h i j', h = self.heads)\n",
    "                \n",
    "        scores = self.self_attention(q, k, v)\n",
    "        scores = rearrange(scores, '... h i j -> ... i (h j)').contiguous()\n",
    "                \n",
    "        return self.unifyheads(scores)"
   ]
  },
  {
   "cell_type": "code",
   "execution_count": 4,
   "id": "7a5e0976-938f-423c-97c5-8117e837b386",
   "metadata": {},
   "outputs": [],
   "source": [
    "class GLU(nn.Module):\n",
    "    def __init__(self, in_size, out_size):\n",
    "        super().__init__()\n",
    "        self.out_size = out_size\n",
    "        self.linear = nn.Linear(in_size, out_size * 2)\n",
    "    def forward(self, x):\n",
    "        x = self.linear(x)\n",
    "        #x = x[..., : self.out_size] * x[..., self.out_size :].sigmoid()\n",
    "        x = torch.einsum('...i, ...i->...i', [x[..., : self.out_size], x[..., self.out_size :].sigmoid()])\n",
    "        return x"
   ]
  },
  {
   "cell_type": "code",
   "execution_count": 5,
   "id": "6d7e144d-ee91-40ff-b73f-e82d7a3f4e2e",
   "metadata": {},
   "outputs": [],
   "source": [
    "class Encoder_layer(nn.Module):\n",
    "    def __init__(self, d_emb, d_hid, hidden_mult, heads, enc_drop):\n",
    "        super().__init__()\n",
    "        self.dropout = nn.Dropout(enc_drop)\n",
    "        \n",
    "        self.mha = Multi_Head_Attention(d_emb, d_hid, heads)\n",
    "        self.norm_1 = nn.LayerNorm(d_emb)\n",
    "        self.ff = nn.Sequential(\n",
    "            nn.Linear(d_emb, hidden_mult * d_emb),\n",
    "            #nn.ReLU(),\n",
    "            #nn.GELU(),\n",
    "            nn.LeakyReLU(),\n",
    "            nn.Linear(hidden_mult * d_emb, d_emb)\n",
    "        )\n",
    "        #self.ff = GLU(d_emb, d_emb)\n",
    "        \n",
    "        self.norm_2 = nn.LayerNorm(d_emb)\n",
    "        \n",
    "    def forward(self, x):\n",
    "        attended = self.mha(x)\n",
    "        x = attended + x\n",
    "        x = self.dropout(x)\n",
    "        x = self.norm_1(x)\n",
    "        fed_for = self.ff(x)\n",
    "        x = fed_for + x\n",
    "        x = self.dropout(x)\n",
    "        x = self.norm_2(x)\n",
    "        return x"
   ]
  },
  {
   "cell_type": "code",
   "execution_count": 6,
   "id": "f3cb18ac-a39a-4fdc-a939-2138b6fdcf12",
   "metadata": {},
   "outputs": [],
   "source": [
    "class Transformer(nn.Module):\n",
    "    def __init__(self, model_hp):\n",
    "        super().__init__()\n",
    "        self.epochs = 0\n",
    "        self.losses = []\n",
    "        \n",
    "        d_emb, hidden_mult, order, enc_drop = model_hp\n",
    "        self.d_emb = d_emb\n",
    "        \n",
    "        d_score = 1\n",
    "        d_barrier = 4\n",
    "        seq_length = 5\n",
    "        \n",
    "        # self.score_emb = GLU(d_score, d_score * d_emb)\n",
    "        # self.temp_score_emb = GLU(1, d_emb)\n",
    "        self.score_emb = nn.Linear(1, d_emb)\n",
    "        self.temp_score_emb = nn.Linear(1, d_emb)\n",
    "        self.dice_emb = nn.Embedding(6, d_emb)\n",
    "        self.barrier_emb = nn.Embedding(d_barrier, d_emb)\n",
    "        \n",
    "        self.sr_d_emb = np.sqrt(d_emb)\n",
    "        \n",
    "        self.cls_token = nn.Parameter(torch.rand(1, d_emb))\n",
    "        self.pe = nn.Parameter(torch.rand(seq_length, d_emb))\n",
    "                \n",
    "        self.encoder = nn.ModuleList()\n",
    "        for d_hid, heads in order:\n",
    "            self.encoder.append(Encoder_layer(d_emb, d_hid, hidden_mult, heads, enc_drop))\n",
    "        \n",
    "        #self.out = GLU(self.d_emb, 2)\n",
    "        self.out = nn.Sequential(\n",
    "            nn.Linear(self.d_emb, self.d_emb * 2),\n",
    "            #nn.ReLU(),\n",
    "            #nn.GELU(),\n",
    "            nn.LeakyReLU(),\n",
    "            nn.Linear(self.d_emb * 2, 2)\n",
    "        )\n",
    "                \n",
    "        #self.weights_init()\n",
    "        \n",
    "        self.device = torch.device('cuda' if torch.cuda.is_available() else 'cpu')\n",
    "        # if torch.cuda.is_available():\n",
    "        #     torch.cuda.set_device(cuda)\n",
    "        #     self.device = torch.device('cuda')\n",
    "        # else:\n",
    "        #     self.device = torch.device('cpu')\n",
    "        self.to(self.device)\n",
    "        \n",
    "    def weights_init(self):\n",
    "        for m in self.modules():\n",
    "            if isinstance(m, nn.Linear):\n",
    "                #nn.init.xavier_uniform_(m.weight)\n",
    "                nn.init.normal_(m.weight, mean = 0, std = 0.01)\n",
    "                #m.bias.data.fill_(0.01)\n",
    "         \n",
    "    def forward(self, s, ts, d, b):\n",
    "        s = self.score_emb(s)\n",
    "        s = rearrange(s, '... (s e) -> ... s e', e = self.d_emb)\n",
    "        ts = self.temp_score_emb(ts)#[None]\n",
    "        ts = rearrange(ts, '... (s e) -> ... s e', e = self.d_emb)\n",
    "        d = self.dice_emb(d)\n",
    "        b = self.barrier_emb(b)\n",
    "        \n",
    "        x = torch.cat((s, ts, d, b), dim = -2)\n",
    "        \n",
    "        cls_toks = repeat(self.cls_token, 's e -> b s e', b = x.size(0))\n",
    "        x = torch.cat((cls_toks, x), dim = 1)\n",
    "        x = x * self.sr_d_emb + self.pe #[:x.size(1)]\n",
    "        for enc in self.encoder:\n",
    "            x = enc(x)\n",
    "        x = x[:, 0]\n",
    "        out = self.out(x)\n",
    "        return out"
   ]
  },
  {
   "cell_type": "code",
   "execution_count": null,
   "id": "894a9986-b4a9-4697-a9d3-3ba18a5bcde1",
   "metadata": {},
   "outputs": [],
   "source": []
  },
  {
   "cell_type": "markdown",
   "id": "4a4bdcde-b3c7-4a30-996c-855ae449568e",
   "metadata": {},
   "source": [
    "# Genetic algorithm"
   ]
  },
  {
   "cell_type": "markdown",
   "id": "6a3eb7c6-caba-459e-8e21-fcf8b14aaff6",
   "metadata": {},
   "source": [
    "## Agent"
   ]
  },
  {
   "cell_type": "code",
   "execution_count": 7,
   "id": "e54f1945-a51d-448d-b87f-56ae697e8e0a",
   "metadata": {},
   "outputs": [],
   "source": [
    "class Agent():\n",
    "    def __init__(self, model_hp, aid):\n",
    "        super().__init__()\n",
    "        self.net = Transformer(model_hp)\n",
    "        \n",
    "        self.age = 0\n",
    "        self.id = aid\n",
    "        \n",
    "        self.turns_history = []\n",
    "        self.mean_turns = 0\n",
    "        self.actions = []\n",
    "        \n",
    "        self.history = []\n",
    "        self.me_score = 0\n",
    "        self.n_dice = 5\n",
    "        self.barrier = 0\n",
    "        self.roll = []\n",
    "        self.tempo_score = 0\n",
    "        self.n_turns = 0\n",
    "    \n",
    "    def refresh(self):\n",
    "        if len(self.turns_history) > 1000:\n",
    "            del self.turns_history[:500]\n",
    "        if len(self.actions) > 1000:\n",
    "            del self.actions[:500]\n",
    "        self.history = []\n",
    "        self.me_score = 0\n",
    "        self.n_dice = 5\n",
    "        self.barrier = 0\n",
    "        self.roll = []\n",
    "        self.tempo_score = 0\n",
    "        self.n_turns = 0"
   ]
  },
  {
   "cell_type": "code",
   "execution_count": null,
   "id": "b9f39f14-d058-4d20-9e03-96d295b3ad4d",
   "metadata": {},
   "outputs": [],
   "source": []
  },
  {
   "cell_type": "code",
   "execution_count": 8,
   "id": "7968da5e-d6a0-451c-923b-5a941bd3eb92",
   "metadata": {},
   "outputs": [],
   "source": [
    "def make_roll(agent, min_age, false_reward):\n",
    "    agent.roll = np.random.randint(6, size = agent.n_dice)\n",
    "    count = np.unique(agent.roll, return_counts = True)\n",
    "    summ = 0\n",
    "    for d, c in zip(count[0], count[1]):\n",
    "        if c == 5:\n",
    "            if d == 0:\n",
    "                reward = 400\n",
    "            elif d == 4:\n",
    "                reward = 200\n",
    "            else:\n",
    "                reward = 120\n",
    "            if agent.age < min_age:\n",
    "                reward = false_reward[0]\n",
    "            summ += reward\n",
    "            agent.n_dice = agent.n_dice - c\n",
    "        elif c == 4:\n",
    "            if d == 0:\n",
    "                reward = 200\n",
    "            elif d == 4:\n",
    "                reward = 100\n",
    "            else:\n",
    "                reward = 60\n",
    "            if agent.age < min_age:\n",
    "                reward = false_reward[1]\n",
    "            summ += reward\n",
    "            agent.n_dice = agent.n_dice - c\n",
    "        elif c == 3:\n",
    "            if d == 0:\n",
    "                reward = 100\n",
    "            elif d == 4:\n",
    "                reward = 50\n",
    "            else:\n",
    "                reward = 30\n",
    "            if agent.age < min_age:\n",
    "                reward = false_reward[2]\n",
    "            summ += reward\n",
    "            agent.n_dice = agent.n_dice - c\n",
    "        else:\n",
    "            if d == 0:\n",
    "                summ += 10 * c\n",
    "                agent.n_dice = agent.n_dice - c\n",
    "            elif d == 4:\n",
    "                summ += 5 * c\n",
    "                agent.n_dice = agent.n_dice - c\n",
    "        if agent.n_dice == 0:\n",
    "            agent.n_dice = 5\n",
    "            break\n",
    "    if summ == 0:\n",
    "        agent.tempo_score = 0\n",
    "        return False\n",
    "    else:\n",
    "        agent.tempo_score = agent.tempo_score + summ\n",
    "        return True"
   ]
  },
  {
   "cell_type": "code",
   "execution_count": 9,
   "id": "a2c99b77-0e6c-4585-8dd9-dbb42c9e5680",
   "metadata": {},
   "outputs": [],
   "source": [
    "# train roll\n",
    "def make_roll(agent, min_age, false_reward):\n",
    "    agent.roll = np.random.randint(6, size = agent.n_dice)\n",
    "    count = np.unique(agent.roll, return_counts = True)\n",
    "    summ = 0\n",
    "    for d, c in zip(count[0], count[1]):\n",
    "        if d == 0:\n",
    "            summ += 10 * c\n",
    "        elif d == 4:\n",
    "            summ += 5 * c\n",
    "        else:\n",
    "            continue\n",
    "        agent.n_dice = agent.n_dice - c\n",
    "        if agent.n_dice == 0:\n",
    "            agent.n_dice = 5\n",
    "            break\n",
    "    if summ == 0:\n",
    "        agent.tempo_score = 0\n",
    "        return False\n",
    "    else:\n",
    "        agent.tempo_score = agent.tempo_score + summ\n",
    "        return True"
   ]
  },
  {
   "cell_type": "code",
   "execution_count": 10,
   "id": "bed7e5eb-da67-4795-a7ba-34a884cfebc0",
   "metadata": {},
   "outputs": [],
   "source": [
    "def turn(agent, min_age, false_reward):\n",
    "    while True:\n",
    "        flag = make_roll(agent, min_age, false_reward)\n",
    "        if flag:\n",
    "            s = agent.me_score / 1000\n",
    "            ts = agent.tempo_score / 1000\n",
    "            d = agent.n_dice\n",
    "            agent.history.append([agent.me_score, agent.roll, agent.tempo_score])\n",
    "            score = agent.me_score + agent.tempo_score\n",
    "            if score >= 1000:\n",
    "                break\n",
    "            if (score > 395 and score < 500) or (score > 895 and score < 1000):\n",
    "                if agent.barrier == 0:\n",
    "                    agent.barrier = 1\n",
    "                elif agent.barrier == 2:\n",
    "                    continue\n",
    "            else:\n",
    "                if agent.barrier == 2:\n",
    "                    agent.barrier = 3\n",
    "                else:\n",
    "                    agent.barrier = 0\n",
    "            b = agent.barrier\n",
    "            s = torch.tensor([[s]], dtype = torch.float, device = agent.net.device)\n",
    "            ts = torch.tensor([[ts]], dtype = torch.float, device = agent.net.device)\n",
    "            d = torch.tensor([[d]], dtype = torch.long, device = agent.net.device)\n",
    "            b = torch.tensor([[b]], dtype = torch.long, device = agent.net.device)\n",
    "            out = agent.net(s, ts, d, b)\n",
    "            action = torch.argmax(out).item()\n",
    "            agent.actions.append(action)\n",
    "            agent.history[-1].extend([agent.barrier, action])\n",
    "            if action:\n",
    "                continue\n",
    "            else:\n",
    "                break\n",
    "        else:\n",
    "            agent.history.append([agent.me_score, agent.roll, agent.tempo_score, agent.barrier])\n",
    "            break\n",
    "    agent.me_score = agent.me_score + agent.tempo_score\n",
    "    agent.tempo_score = 0\n",
    "    agent.n_dice = 5\n",
    "    agent.history.append([agent.me_score])\n",
    "    if (agent.me_score > 395 and agent.me_score < 500) or (agent.me_score > 895 and agent.me_score < 1000):\n",
    "        agent.barrier = 2\n",
    "    else:\n",
    "        agent.barrier = 0\n",
    "    agent.n_turns = agent.n_turns + 1"
   ]
  },
  {
   "cell_type": "code",
   "execution_count": 11,
   "id": "514bf808-abbe-4d89-a64c-fd0015932937",
   "metadata": {},
   "outputs": [],
   "source": [
    "# train turn\n",
    "def turn(agent, min_age, false_reward):\n",
    "    while True:\n",
    "        flag = make_roll(agent, min_age, false_reward)\n",
    "        if flag:\n",
    "            s = agent.me_score / 1000\n",
    "            ts = agent.tempo_score / 1000\n",
    "            d = agent.n_dice\n",
    "            agent.history.append([agent.me_score, agent.roll, agent.tempo_score])\n",
    "            score = agent.me_score + agent.tempo_score\n",
    "            if score >= 1000:\n",
    "                break\n",
    "            b = agent.barrier\n",
    "            s = torch.tensor([[s]], dtype = torch.float, device = agent.net.device)\n",
    "            ts = torch.tensor([[ts]], dtype = torch.float, device = agent.net.device)\n",
    "            d = torch.tensor([[d]], dtype = torch.long, device = agent.net.device)\n",
    "            b = torch.tensor([[b]], dtype = torch.long, device = agent.net.device)\n",
    "            out = agent.net(s, ts, d, b)\n",
    "            action = torch.argmax(out).item()\n",
    "            agent.actions.append(action)\n",
    "            agent.history[-1].extend([agent.barrier, action])\n",
    "            if action:\n",
    "                continue\n",
    "            else:\n",
    "                break\n",
    "        else:\n",
    "            agent.history.append([agent.me_score, agent.roll, agent.tempo_score, agent.barrier])\n",
    "            break\n",
    "    agent.me_score = agent.me_score + agent.tempo_score\n",
    "    agent.tempo_score = 0\n",
    "    agent.n_dice = 5\n",
    "    agent.history.append([agent.me_score])\n",
    "    agent.n_turns = agent.n_turns + 1"
   ]
  },
  {
   "cell_type": "code",
   "execution_count": 12,
   "id": "4f66cfd5-80ec-45e5-aeb1-87042f841477",
   "metadata": {},
   "outputs": [],
   "source": [
    "def game(agent, max_turns, min_age, false_reward):\n",
    "    agent.refresh()\n",
    "    while True:\n",
    "        turn(agent, min_age, false_reward)\n",
    "        if agent.me_score >= 1000 or agent.n_turns == max_turns:\n",
    "            agent.turns_history.append(agent.n_turns)\n",
    "            break"
   ]
  },
  {
   "cell_type": "code",
   "execution_count": 13,
   "id": "5ee08e6a-8985-47b8-964f-10c57f3b07c8",
   "metadata": {},
   "outputs": [],
   "source": [
    "def compete(agents, yugas, max_turns, min_age, false_reward):\n",
    "    for ag in agents:\n",
    "        ag.turns_history = []\n",
    "        for _ in range(yugas):\n",
    "            game(ag, max_turns, min_age, false_reward)"
   ]
  },
  {
   "cell_type": "code",
   "execution_count": 14,
   "id": "4337c0ee-4229-4b38-8698-2ea43d4849bb",
   "metadata": {},
   "outputs": [],
   "source": [
    "def find_breeders(agents, a_rate):\n",
    "    for ag in agents:\n",
    "        quants = np.quantile(ag.turns_history, (0.25, 0.75))\n",
    "        turns = np.asarray(ag.turns_history)[(ag.turns_history >= quants[0]) & (ag.turns_history <= quants[1])]\n",
    "        ag.mean_turns = np.mean(turns)\n",
    "    agents.sort(key = lambda x : x.mean_turns)\n",
    "    \n",
    "    breeders = []\n",
    "    outers = []\n",
    "    for ag in agents:\n",
    "        if np.mean(ag.actions) > a_rate:\n",
    "            breeders.append(ag)\n",
    "            ag.actions = []\n",
    "        else:\n",
    "            outers.append(ag)\n",
    "            ag.actions = []\n",
    "    breeders.extend(outers)\n",
    "    return breeders"
   ]
  },
  {
   "cell_type": "code",
   "execution_count": 15,
   "id": "3e02f351-3537-49bf-818b-1fed65d6d457",
   "metadata": {},
   "outputs": [],
   "source": [
    "def crossover(first, second, c_rate, offset):\n",
    "    sdf = first.net.state_dict()\n",
    "    sds = second.net.state_dict()\n",
    "    rate = [c_rate - offset, c_rate, c_rate + offset]\n",
    "    for pn in sdf:\n",
    "        size = np.product(sdf[pn].shape)\n",
    "        r = np.random.choice(rate)\n",
    "        n_genes = int(r * size)\n",
    "        inds = np.random.choice(size, n_genes, replace = False)\n",
    "        sdf[pn].view(-1)[inds] = sds[pn].view(-1)[inds]\n",
    "    return sdf"
   ]
  },
  {
   "cell_type": "code",
   "execution_count": 16,
   "id": "40f5ffc0-ee42-4469-87d8-5bfd7939f78d",
   "metadata": {},
   "outputs": [],
   "source": [
    "def mutation(first, m_rate):\n",
    "    sdf = first.net.state_dict()\n",
    "    for pn in sdf:\n",
    "        size = np.product(sdf[pn].shape)\n",
    "        n_genes = int(m_rate * size)\n",
    "        noise = torch.randn(n_genes, device = first.net.device) * torch.std(sdf[pn].view(-1))\n",
    "        inds = np.random.choice(size, n_genes, replace = False)\n",
    "        #sdf[pn].view(-1)[inds] = sdf[pn].view(-1)[inds] + noise\n",
    "        sdf[pn].view(-1)[inds] = noise\n",
    "    return sdf"
   ]
  },
  {
   "cell_type": "code",
   "execution_count": 17,
   "id": "6f5753fc-5421-44d1-a620-98cf9fb04bde",
   "metadata": {},
   "outputs": [],
   "source": [
    "def find_partners(f, n_population, n_breeders, b_rate):\n",
    "    partners = []\n",
    "    for s in range(n_breeders):\n",
    "        if f != s and np.random.rand() < b_rate:\n",
    "            partners.append(s)\n",
    "    ss = np.random.randint(n_breeders, n_population, 2)\n",
    "    for s in ss:\n",
    "        partners.append(s)\n",
    "    return partners"
   ]
  },
  {
   "cell_type": "code",
   "execution_count": 18,
   "id": "efedb012-61a8-4778-8bed-e56eb569c573",
   "metadata": {},
   "outputs": [],
   "source": [
    "def breed(agents, yugas, n_breeders, b_rate, c_rates, m_rate, a_rate, max_turns, min_age, false_reward):\n",
    "    global aid\n",
    "    compete(agents, yugas, max_turns, min_age, false_reward)\n",
    "    agents = find_breeders(agents, a_rate)\n",
    "    breeders = agents[:n_breeders]\n",
    "    new_generation = []\n",
    "    for f in range(n_breeders):\n",
    "        agents[f].age += 1\n",
    "        family = []\n",
    "        family.append(agents[f])\n",
    "        partners = find_partners(f, len(agents), n_breeders, b_rate)\n",
    "        for p in partners:\n",
    "            sdc = crossover(agents[f], agents[p], c_rates[f], offset)\n",
    "            ch = Agent(model_hp, aid)\n",
    "            aid += 1\n",
    "            ch.net.load_state_dict(sdc)\n",
    "            family.append(ch)\n",
    "        #if np.random.choice([0, 1]):\n",
    "        ag = np.random.choice(family)\n",
    "        sdc = mutation(ag, m_rate)\n",
    "        ch = Agent(model_hp, aid)\n",
    "        aid += 1\n",
    "        ch.net.load_state_dict(sdc)\n",
    "        family.append(ch)\n",
    "        new_generation.extend(family)\n",
    "    return new_generation"
   ]
  },
  {
   "cell_type": "code",
   "execution_count": null,
   "id": "f075ff1b-233e-49e3-bfba-68a48f196385",
   "metadata": {},
   "outputs": [],
   "source": []
  },
  {
   "cell_type": "code",
   "execution_count": 19,
   "id": "3fbdf46f-3066-4fbe-9a37-fcf0a8e2b9c4",
   "metadata": {},
   "outputs": [],
   "source": [
    "def save_agents(agents, my_path, file_name):\n",
    "    agents_params = []\n",
    "    for a in agents:\n",
    "        agents_params.append([a.age, a.id, a.turns_history, a.actions, a.history, a.net.state_dict()])\n",
    "    torch.save(agents_params, my_path + file_name)\n",
    "\n",
    "def load_agents(my_path, file_name, model_hp):\n",
    "    agents_params = torch.load(my_path + file_name)\n",
    "    agents = []\n",
    "    for p in agents_params:\n",
    "        a = Agent(model_hp, p[1])\n",
    "        a.age = p[0]\n",
    "        a.turns_history = p[2]\n",
    "        a.actions = p[3]\n",
    "        a.history = p[4]\n",
    "        a.net.load_state_dict(p[5])\n",
    "        agents.append(a)\n",
    "    return agents"
   ]
  },
  {
   "cell_type": "code",
   "execution_count": 20,
   "id": "d9701b93-4285-4448-9226-077c3e29959b",
   "metadata": {},
   "outputs": [],
   "source": [
    "def last_game_history(agent):\n",
    "    for h in agent.history:\n",
    "        if len(h) == 1:\n",
    "            print('score:', h[0])\n",
    "        elif len(h) == 3:\n",
    "            print('score:', h[0], 'roll:', h[1] + 1, 't-score:', h[2])\n",
    "        elif len(h) == 4:\n",
    "            print('score:', h[0], 'roll:', h[1] + 1, 't-score:', h[2], 'barrier:', h[3])\n",
    "        else:\n",
    "            print('score:', h[0], 'roll:', h[1] + 1, 't-score:', h[2], 'barrier:', h[3], 'action:', h[4])\n",
    "    print('turns:', agent.n_turns)"
   ]
  },
  {
   "cell_type": "code",
   "execution_count": null,
   "id": "ce45e36e-2dd5-47d2-aff5-cce44b601083",
   "metadata": {},
   "outputs": [],
   "source": []
  },
  {
   "cell_type": "markdown",
   "id": "c9c6d19a-42b7-46a3-9d5d-fba79d75afa8",
   "metadata": {},
   "source": [
    "## Agents parameters"
   ]
  },
  {
   "cell_type": "code",
   "execution_count": 21,
   "id": "c54a6b88-03c6-448e-bfd2-c676e5568abd",
   "metadata": {},
   "outputs": [],
   "source": [
    "d_emb = 8\n",
    "#seq_length = 6\n",
    "hidden_mult = 4\n",
    "# order = [(128, 8), (128, 8), \n",
    "#          (64, 4), (64, 4), \n",
    "#          (64, 2), (64, 2), \n",
    "#          (32, 1), (32, 1)]\n",
    "order = [(32, 4), (32, 4), (32, 2), (32, 2), (32, 1), (32, 1)]\n",
    "#heads_order = [1] * 12\n",
    "enc_drop = 0.05  # 0.005"
   ]
  },
  {
   "cell_type": "code",
   "execution_count": 22,
   "id": "a0b3ca77-4eef-4e63-971c-ab825baaa0ca",
   "metadata": {},
   "outputs": [],
   "source": [
    "model_hp = d_emb, hidden_mult, order, enc_drop"
   ]
  },
  {
   "cell_type": "code",
   "execution_count": 23,
   "id": "496ed472-b740-4a5a-9d09-8a3c39c18d26",
   "metadata": {},
   "outputs": [],
   "source": [
    "# ag1 = Agent(model_hp)\n",
    "# print('num of parameters:', sum(p.numel() for p in ag1.net.parameters() if p.requires_grad))"
   ]
  },
  {
   "cell_type": "markdown",
   "id": "6b52d786-8227-44c1-a965-9bd61dcc72f6",
   "metadata": {},
   "source": [
    "## Breed"
   ]
  },
  {
   "cell_type": "code",
   "execution_count": 24,
   "id": "cec8d1a6-cbe2-413e-91b7-978b0a054ec2",
   "metadata": {},
   "outputs": [],
   "source": [
    "all_turns_history = []"
   ]
  },
  {
   "cell_type": "code",
   "execution_count": 25,
   "id": "948b9aaf-a934-4554-b1d9-87343624bd6a",
   "metadata": {},
   "outputs": [],
   "source": [
    "n_population = 16\n",
    "aid = 0"
   ]
  },
  {
   "cell_type": "code",
   "execution_count": 26,
   "id": "3d68d978-a78f-4b4b-9c5a-fd753b6ba354",
   "metadata": {},
   "outputs": [],
   "source": [
    "flag_load = True\n",
    "file_name = 'agents_params.pt'\n",
    "new_aid = 0"
   ]
  },
  {
   "cell_type": "code",
   "execution_count": 27,
   "id": "62b77265-db65-4e06-9acf-30cdfcf17f52",
   "metadata": {},
   "outputs": [],
   "source": [
    "if flag_load:\n",
    "    agents = load_agents(my_path, file_name, model_hp)\n",
    "    aid = new_aid\n",
    "else:\n",
    "    agents = []\n",
    "    for _ in range(n_population):\n",
    "        agents.append(Agent(model_hp, aid))\n",
    "        aid += 1"
   ]
  },
  {
   "cell_type": "code",
   "execution_count": 28,
   "id": "d10371a8-ff04-46b9-9b43-cdefbc37eba3",
   "metadata": {},
   "outputs": [
    {
     "name": "stdout",
     "output_type": "stream",
     "text": [
      "c-rates [0.1  0.15 0.2  0.25 0.3  0.35]\n"
     ]
    }
   ],
   "source": [
    "yugas = 32\n",
    "n_breeders = 6\n",
    "b_rate = 0.3 # breed rate\n",
    "c_rates = (np.arange(1, 1 + n_breeders) + 1) / 20 # crossover rates\n",
    "print('c-rates', c_rates)\n",
    "offset = 0.05\n",
    "m_rate = 0.3 # mutation rate\n",
    "a_rate = 0\n",
    "max_turns = 150\n",
    "min_age = 10\n",
    "false_reward = [60, 45, 30]"
   ]
  },
  {
   "cell_type": "code",
   "execution_count": 34,
   "id": "a0d16eb3-6505-40d8-bb27-44880850205c",
   "metadata": {},
   "outputs": [
    {
     "name": "stdout",
     "output_type": "stream",
     "text": [
      "[================] 100%, 512, 03:18:21:34"
     ]
    }
   ],
   "source": [
    "generations = 512\n",
    "start_time = dt.now()\n",
    "for i in range(generations):\n",
    "    agents = breed(agents, yugas, n_breeders, b_rate, c_rates, m_rate, a_rate, max_turns, min_age, false_reward)\n",
    "    \n",
    "    elapsed = dt.now() - start_time\n",
    "    secs = elapsed.seconds\n",
    "    ratio = (i + 1) / generations\n",
    "    printout = '\\r[%-16s] %d%%, %d, %02d:%02d:%02d:%02d'\n",
    "    sys.stdout.write(printout % ('='*round(16 * ratio), round(100 * ratio), (i + 1), elapsed.days, secs // 3600, \n",
    "                                 secs // 60 % 60, secs % 60))\n",
    "    sys.stdout.flush()\n",
    "    save_agents(agents, my_path, file_name)\n",
    "    tempo = []\n",
    "    for a in agents:\n",
    "        if a.age != 0:\n",
    "            tempo.append(a.mean_turns)\n",
    "    all_turns_history.append(tempo[:4])"
   ]
  },
  {
   "cell_type": "code",
   "execution_count": 35,
   "id": "2e233e0a-ecdf-4433-9666-7e0c3cf6f1d5",
   "metadata": {},
   "outputs": [
    {
     "name": "stdout",
     "output_type": "stream",
     "text": [
      "37 17265\n"
     ]
    }
   ],
   "source": [
    "print(len(agents), aid)"
   ]
  },
  {
   "cell_type": "code",
   "execution_count": 36,
   "id": "df0cfa37-7bc6-4568-9d69-cbb09a539b35",
   "metadata": {},
   "outputs": [
    {
     "data": {
      "image/png": "[encoded data removed]",
      "text/plain": [
       "<Figure size 432x288 with 1 Axes>"
      ]
     },
     "metadata": {
      "needs_background": "light"
     },
     "output_type": "display_data"
    }
   ],
   "source": [
    "plt.plot(np.asarray(all_turns_history[-generations:]))\n",
    "plt.show()"
   ]
  },
  {
   "cell_type": "code",
   "execution_count": null,
   "id": "c3866ce4-c6c0-4fdb-bb9c-3b1609df7aa4",
   "metadata": {},
   "outputs": [],
   "source": []
  },
  {
   "cell_type": "code",
   "execution_count": 37,
   "id": "9fdb5744-1de1-4185-a29c-0c1739206fde",
   "metadata": {},
   "outputs": [
    {
     "name": "stdout",
     "output_type": "stream",
     "text": [
      "turns: 79.38888888888889 age: 1 id: 17207\n",
      "id: 17234\n",
      "id: 17235\n",
      "id: 17236\n",
      "id: 17237\n",
      "id: 17238\n",
      "turns: 79.41176470588235 age: 2 id: 17177\n",
      "id: 17239\n",
      "id: 17240\n",
      "id: 17241\n",
      "id: 17242\n",
      "id: 17243\n",
      "turns: 79.625 age: 2 id: 17181\n",
      "id: 17244\n",
      "id: 17245\n",
      "id: 17246\n",
      "id: 17247\n",
      "id: 17248\n",
      "id: 17249\n",
      "id: 17250\n",
      "turns: 79.9375 age: 1 id: 17208\n",
      "id: 17251\n",
      "id: 17252\n",
      "id: 17253\n",
      "id: 17254\n",
      "id: 17255\n",
      "id: 17256\n",
      "turns: 80.11764705882354 age: 1 id: 17223\n",
      "id: 17257\n",
      "id: 17258\n",
      "id: 17259\n",
      "id: 17260\n",
      "turns: 80.1875 age: 1 id: 17225\n",
      "id: 17261\n",
      "id: 17262\n",
      "id: 17263\n",
      "id: 17264\n"
     ]
    }
   ],
   "source": [
    "for a in agents:\n",
    "    if a.age != 0:\n",
    "        print('turns:', a.mean_turns, 'age:', a.age, 'id:', a.id)\n",
    "    else:\n",
    "        print('id:', a.id)"
   ]
  },
  {
   "cell_type": "code",
   "execution_count": 38,
   "id": "3c464490-1283-4d8a-a39b-7cc9409e7c0e",
   "metadata": {},
   "outputs": [
    {
     "name": "stdout",
     "output_type": "stream",
     "text": [
      "score: 0 roll: [6 4 5 5 6] t-score: 10 barrier: 0 action: 0\n",
      "score: 10\n",
      "score: 10 roll: [5 3 6 2 1] t-score: 15 barrier: 0 action: 0\n",
      "score: 25\n",
      "score: 25 roll: [3 1 1 1 2] t-score: 30 barrier: 0 action: 0\n",
      "score: 55\n",
      "score: 55 roll: [1 2 6 3 4] t-score: 10 barrier: 0 action: 0\n",
      "score: 65\n",
      "score: 65 roll: [1 1 5 2 5] t-score: 30 barrier: 0 action: 0\n",
      "score: 95\n",
      "score: 95 roll: [4 4 2 3 3] t-score: 0 barrier: 0\n",
      "score: 95\n",
      "score: 95 roll: [5 5 1 2 5] t-score: 25 barrier: 0 action: 0\n",
      "score: 120\n",
      "score: 120 roll: [3 6 5 3 3] t-score: 5 barrier: 0 action: 0\n",
      "score: 125\n",
      "score: 125 roll: [5 2 4 3 4] t-score: 5 barrier: 0 action: 0\n",
      "score: 130\n",
      "score: 130 roll: [5 6 4 3 4] t-score: 5 barrier: 0 action: 0\n",
      "score: 135\n",
      "score: 135 roll: [2 6 4 1 6] t-score: 10 barrier: 0 action: 0\n",
      "score: 145\n",
      "score: 145 roll: [4 6 6 1 6] t-score: 10 barrier: 0 action: 0\n",
      "score: 155\n",
      "score: 155 roll: [3 5 6 5 5] t-score: 15 barrier: 0 action: 0\n",
      "score: 170\n",
      "score: 170 roll: [5 4 3 5 6] t-score: 10 barrier: 0 action: 0\n",
      "score: 180\n",
      "score: 180 roll: [3 2 3 6 2] t-score: 0 barrier: 0\n",
      "score: 180\n",
      "score: 180 roll: [6 6 3 2 5] t-score: 5 barrier: 0 action: 0\n",
      "score: 185\n",
      "score: 185 roll: [4 6 5 4 2] t-score: 5 barrier: 0 action: 0\n",
      "score: 190\n",
      "score: 190 roll: [2 4 2 3 4] t-score: 0 barrier: 0\n",
      "score: 190\n",
      "score: 190 roll: [3 4 5 5 5] t-score: 15 barrier: 0 action: 0\n",
      "score: 205\n",
      "score: 205 roll: [2 2 3 3 3] t-score: 0 barrier: 0\n",
      "score: 205\n",
      "score: 205 roll: [1 1 3 6 1] t-score: 30 barrier: 0 action: 0\n",
      "score: 235\n",
      "score: 235 roll: [1 5 4 4 3] t-score: 15 barrier: 0 action: 1\n",
      "score: 235 roll: [2 4 1] t-score: 25 barrier: 0 action: 0\n",
      "score: 260\n",
      "score: 260 roll: [4 4 5 2 2] t-score: 5 barrier: 0 action: 0\n",
      "score: 265\n",
      "score: 265 roll: [2 4 3 6 3] t-score: 0 barrier: 0\n",
      "score: 265\n",
      "score: 265 roll: [5 1 6 6 2] t-score: 15 barrier: 0 action: 0\n",
      "score: 280\n",
      "score: 280 roll: [3 4 5 1 6] t-score: 15 barrier: 0 action: 0\n",
      "score: 295\n",
      "score: 295 roll: [5 6 6 5 2] t-score: 10 barrier: 0 action: 0\n",
      "score: 305\n",
      "score: 305 roll: [5 1 4 3 5] t-score: 20 barrier: 0 action: 0\n",
      "score: 325\n",
      "score: 325 roll: [5 6 4 1 5] t-score: 20 barrier: 0 action: 0\n",
      "score: 345\n",
      "score: 345 roll: [5 6 1 6 3] t-score: 15 barrier: 0 action: 0\n",
      "score: 360\n",
      "score: 360 roll: [6 4 5 3 2] t-score: 5 barrier: 0 action: 0\n",
      "score: 365\n",
      "score: 365 roll: [1 1 2 3 2] t-score: 20 barrier: 0 action: 0\n",
      "score: 385\n",
      "score: 385 roll: [6 6 1 1 3] t-score: 20 barrier: 0 action: 1\n",
      "score: 385 roll: [2 3 6] t-score: 0 barrier: 0\n",
      "score: 385\n",
      "score: 385 roll: [1 4 3 1 4] t-score: 20 barrier: 0 action: 0\n",
      "score: 405\n",
      "score: 405 roll: [2 1 1 2 2] t-score: 20 barrier: 0 action: 0\n",
      "score: 425\n",
      "score: 425 roll: [2 5 2 6 6] t-score: 5 barrier: 0 action: 0\n",
      "score: 430\n",
      "score: 430 roll: [4 5 4 6 5] t-score: 10 barrier: 0 action: 0\n",
      "score: 440\n",
      "score: 440 roll: [1 4 5 3 6] t-score: 15 barrier: 0 action: 0\n",
      "score: 455\n",
      "score: 455 roll: [1 4 4 4 1] t-score: 20 barrier: 0 action: 0\n",
      "score: 475\n",
      "score: 475 roll: [3 4 6 4 3] t-score: 0 barrier: 0\n",
      "score: 475\n",
      "score: 475 roll: [6 4 2 1 1] t-score: 20 barrier: 0 action: 0\n",
      "score: 495\n",
      "score: 495 roll: [3 2 3 3 1] t-score: 10 barrier: 0 action: 0\n",
      "score: 505\n",
      "score: 505 roll: [4 1 6 2 3] t-score: 10 barrier: 0 action: 0\n",
      "score: 515\n",
      "score: 515 roll: [2 4 4 3 2] t-score: 0 barrier: 0\n",
      "score: 515\n",
      "score: 515 roll: [2 2 5 6 5] t-score: 10 barrier: 0 action: 0\n",
      "score: 525\n",
      "score: 525 roll: [4 4 3 4 6] t-score: 0 barrier: 0\n",
      "score: 525\n",
      "score: 525 roll: [4 3 5 5 1] t-score: 20 barrier: 0 action: 0\n",
      "score: 545\n",
      "score: 545 roll: [5 1 5 5 1] t-score: 35 barrier: 0 action: 0\n",
      "score: 580\n",
      "score: 580 roll: [6 5 4 2 6] t-score: 5 barrier: 0 action: 0\n",
      "score: 585\n",
      "score: 585 roll: [1 3 6 2 2] t-score: 10 barrier: 0 action: 0\n",
      "score: 595\n",
      "score: 595 roll: [1 2 6 6 5] t-score: 15 barrier: 0 action: 0\n",
      "score: 610\n",
      "score: 610 roll: [3 5 2 1 1] t-score: 25 barrier: 0 action: 0\n",
      "score: 635\n",
      "score: 635 roll: [6 4 4 2 5] t-score: 5 barrier: 0 action: 0\n",
      "score: 640\n",
      "score: 640 roll: [6 5 5 5 3] t-score: 15 barrier: 0 action: 0\n",
      "score: 655\n",
      "score: 655 roll: [6 6 1 6 6] t-score: 10 barrier: 0 action: 0\n",
      "score: 665\n",
      "score: 665 roll: [3 5 6 4 4] t-score: 5 barrier: 0 action: 0\n",
      "score: 670\n",
      "score: 670 roll: [6 3 1 1 5] t-score: 25 barrier: 0 action: 1\n",
      "score: 670 roll: [5 2] t-score: 30 barrier: 0 action: 0\n",
      "score: 700\n",
      "score: 700 roll: [2 5 5 6 3] t-score: 10 barrier: 0 action: 0\n",
      "score: 710\n",
      "score: 710 roll: [3 6 2 2 6] t-score: 0 barrier: 0\n",
      "score: 710\n",
      "score: 710 roll: [1 4 1 1 2] t-score: 30 barrier: 0 action: 0\n",
      "score: 740\n",
      "score: 740 roll: [1 4 1 2 5] t-score: 25 barrier: 0 action: 0\n",
      "score: 765\n",
      "score: 765 roll: [1 3 6 1 5] t-score: 25 barrier: 0 action: 0\n",
      "score: 790\n",
      "score: 790 roll: [5 5 5 6 3] t-score: 15 barrier: 0 action: 0\n",
      "score: 805\n",
      "score: 805 roll: [2 5 3 3 5] t-score: 10 barrier: 0 action: 1\n",
      "score: 805 roll: [1 2 2] t-score: 20 barrier: 0 action: 0\n",
      "score: 825\n",
      "score: 825 roll: [6 4 1 4 3] t-score: 10 barrier: 0 action: 0\n",
      "score: 835\n",
      "score: 835 roll: [6 3 5 5 1] t-score: 20 barrier: 0 action: 0\n",
      "score: 855\n",
      "score: 855 roll: [5 3 5 4 3] t-score: 10 barrier: 0 action: 0\n",
      "score: 865\n",
      "score: 865 roll: [5 1 4 5 1] t-score: 30 barrier: 0 action: 0\n",
      "score: 895\n",
      "score: 895 roll: [4 4 5 5 3] t-score: 10 barrier: 0 action: 0\n",
      "score: 905\n",
      "score: 905 roll: [6 5 4 5 2] t-score: 10 barrier: 0 action: 0\n",
      "score: 915\n",
      "score: 915 roll: [1 5 2 6 1] t-score: 25 barrier: 0 action: 0\n",
      "score: 940\n",
      "score: 940 roll: [3 4 3 5 1] t-score: 15 barrier: 0 action: 0\n",
      "score: 955\n",
      "score: 955 roll: [6 3 2 4 2] t-score: 0 barrier: 0\n",
      "score: 955\n",
      "score: 955 roll: [4 1 6 4 6] t-score: 10 barrier: 0 action: 0\n",
      "score: 965\n",
      "score: 965 roll: [6 1 2 2 3] t-score: 10 barrier: 0 action: 0\n",
      "score: 975\n",
      "score: 975 roll: [6 4 6 5 2] t-score: 5 barrier: 0 action: 0\n",
      "score: 980\n",
      "score: 980 roll: [2 4 3 2 1] t-score: 10 barrier: 0 action: 0\n",
      "score: 990\n",
      "score: 990 roll: [3 5 2 6 3] t-score: 5 barrier: 0 action: 0\n",
      "score: 995\n",
      "score: 995 roll: [1 5 4 1 2] t-score: 25\n",
      "score: 1020\n",
      "turns: 79\n"
     ]
    }
   ],
   "source": [
    "ag = agents[0]\n",
    "last_game_history(ag)"
   ]
  },
  {
   "cell_type": "code",
   "execution_count": null,
   "id": "dcfa9c5e-2f99-4484-a906-62de101204a5",
   "metadata": {},
   "outputs": [],
   "source": []
  },
  {
   "cell_type": "code",
   "execution_count": null,
   "id": "2e6ce4e4-3a65-492a-ba92-802b67e9df52",
   "metadata": {},
   "outputs": [],
   "source": []
  },
  {
   "cell_type": "code",
   "execution_count": null,
   "id": "6fa94cb7-703a-4f8a-9f48-9dcf85ba45ba",
   "metadata": {},
   "outputs": [],
   "source": []
  },
  {
   "cell_type": "code",
   "execution_count": 85,
   "id": "656490aa-d7ad-4096-a2e5-c5b1efa90027",
   "metadata": {},
   "outputs": [
    {
     "data": {
      "text/plain": [
       "[[73.47058823529412, 77.29411764705883, 78.0, 78.11764705882354]]"
      ]
     },
     "execution_count": 85,
     "metadata": {},
     "output_type": "execute_result"
    }
   ],
   "source": [
    "all_turns_history"
   ]
  },
  {
   "cell_type": "code",
   "execution_count": 110,
   "id": "f5b40c4b-d565-4a52-aaaa-bca322842fbe",
   "metadata": {},
   "outputs": [],
   "source": [
    "quants = np.quantile(ag.turns_history, (0.25, 0.75))\n",
    "turns = np.asarray(ag.turns_history)[(ag.turns_history > quants[0]) & (ag.turns_history < quants[1])]\n",
    "ag.mean_turns = np.mean(turns)"
   ]
  },
  {
   "cell_type": "code",
   "execution_count": 113,
   "id": "86c55717-75c2-4fda-b4f9-b30c37787d3a",
   "metadata": {},
   "outputs": [
    {
     "data": {
      "text/plain": [
       "array([100., 100.])"
      ]
     },
     "execution_count": 113,
     "metadata": {},
     "output_type": "execute_result"
    }
   ],
   "source": [
    "quants"
   ]
  },
  {
   "cell_type": "code",
   "execution_count": null,
   "id": "2ec9da76-517a-4be5-8a63-d42d2396dce1",
   "metadata": {},
   "outputs": [],
   "source": []
  },
  {
   "cell_type": "code",
   "execution_count": null,
   "id": "98903475-eb19-4b2a-a508-5ee31110b69e",
   "metadata": {},
   "outputs": [],
   "source": []
  },
  {
   "cell_type": "code",
   "execution_count": 239,
   "id": "2ea79a3a-755c-4ad7-af8e-50ef66b6ab9d",
   "metadata": {},
   "outputs": [],
   "source": [
    "s = torch.tensor([[20, 300]], dtype = torch.float, device = model.device)\n",
    "ts = torch.tensor([[15]], dtype = torch.float, device = model.device)\n",
    "d = torch.tensor([[3]], dtype = torch.long, device = model.device)\n",
    "b = torch.tensor([[0, 1]], dtype = torch.long, device = model.device)"
   ]
  },
  {
   "cell_type": "code",
   "execution_count": 242,
   "id": "c4c86d8b-b339-4c67-830a-5b779349d53f",
   "metadata": {},
   "outputs": [],
   "source": [
    "out = model(s, ts, d, b)"
   ]
  },
  {
   "cell_type": "code",
   "execution_count": 338,
   "id": "f4b36d96-c166-4e56-b04a-36cbcaebe444",
   "metadata": {},
   "outputs": [],
   "source": []
  },
  {
   "cell_type": "code",
   "execution_count": null,
   "id": "16f03d9e-f880-4aec-84ca-69850dd816c8",
   "metadata": {},
   "outputs": [],
   "source": []
  },
  {
   "cell_type": "code",
   "execution_count": null,
   "id": "cda27c7a-62a5-47b1-a6d8-2e019decb92a",
   "metadata": {},
   "outputs": [],
   "source": []
  },
  {
   "cell_type": "code",
   "execution_count": null,
   "id": "0283b38b-2f1c-4bd6-83ea-3b54f1046ae3",
   "metadata": {},
   "outputs": [],
   "source": []
  },
  {
   "cell_type": "code",
   "execution_count": 44,
   "id": "07304eb2-4c5b-4aea-a50a-1af1e0797674",
   "metadata": {},
   "outputs": [],
   "source": []
  },
  {
   "cell_type": "code",
   "execution_count": null,
   "id": "617b1b7d-5ada-4380-ac46-d487e055cf84",
   "metadata": {},
   "outputs": [],
   "source": []
  },
  {
   "cell_type": "code",
   "execution_count": null,
   "id": "aec36616-bcd0-4e27-a0db-b865b04f7d75",
   "metadata": {},
   "outputs": [],
   "source": []
  },
  {
   "cell_type": "code",
   "execution_count": null,
   "id": "29fa8a54-946d-4742-b499-5aa125ab0318",
   "metadata": {},
   "outputs": [],
   "source": []
  },
  {
   "cell_type": "code",
   "execution_count": null,
   "id": "cb375f64-2b63-44ea-bbec-93aaf949f78e",
   "metadata": {},
   "outputs": [],
   "source": []
  },
  {
   "cell_type": "code",
   "execution_count": null,
   "id": "54db4476-8de0-41c0-a001-6a4646f0de28",
   "metadata": {},
   "outputs": [],
   "source": []
  },
  {
   "cell_type": "code",
   "execution_count": null,
   "id": "fc42d2ef-b78c-4345-a142-f142e175ea04",
   "metadata": {},
   "outputs": [],
   "source": []
  },
  {
   "cell_type": "code",
   "execution_count": 211,
   "id": "fe8e916c-24fc-4d18-b96d-f8dde864e054",
   "metadata": {},
   "outputs": [],
   "source": []
  },
  {
   "cell_type": "code",
   "execution_count": 212,
   "id": "55134c0b-e111-4958-88b0-38477827379a",
   "metadata": {},
   "outputs": [
    {
     "name": "stdout",
     "output_type": "stream",
     "text": [
      "0 5\n"
     ]
    }
   ],
   "source": []
  },
  {
   "cell_type": "code",
   "execution_count": 215,
   "id": "66f1224a-6836-4f1f-ba96-fd1519af8c69",
   "metadata": {},
   "outputs": [
    {
     "data": {
      "text/plain": [
       "False"
      ]
     },
     "execution_count": 215,
     "metadata": {},
     "output_type": "execute_result"
    }
   ],
   "source": []
  },
  {
   "cell_type": "code",
   "execution_count": 216,
   "id": "a08f3e69-4e51-471e-834a-38099bd6232a",
   "metadata": {},
   "outputs": [
    {
     "name": "stdout",
     "output_type": "stream",
     "text": [
      "[3] 35 1\n"
     ]
    }
   ],
   "source": []
  },
  {
   "cell_type": "code",
   "execution_count": null,
   "id": "00ce1d53-6b6a-4916-8adb-39aad2779175",
   "metadata": {},
   "outputs": [],
   "source": []
  },
  {
   "cell_type": "code",
   "execution_count": null,
   "id": "bc6e1b0d-3e69-4f76-be77-86aa14fcd4c8",
   "metadata": {},
   "outputs": [],
   "source": []
  },
  {
   "cell_type": "code",
   "execution_count": null,
   "id": "c3ab4a6e-24b5-47ab-9067-f0725598853f",
   "metadata": {},
   "outputs": [],
   "source": []
  },
  {
   "cell_type": "code",
   "execution_count": null,
   "id": "24b823df-1c79-49d0-bfc8-8d37a390f119",
   "metadata": {},
   "outputs": [],
   "source": []
  },
  {
   "cell_type": "code",
   "execution_count": null,
   "id": "7991547e-279d-4dc3-bde7-5a29da123f7d",
   "metadata": {},
   "outputs": [],
   "source": []
  },
  {
   "cell_type": "code",
   "execution_count": null,
   "id": "444510ca-84b6-4816-81be-cf1957a8d8c5",
   "metadata": {},
   "outputs": [],
   "source": []
  },
  {
   "cell_type": "code",
   "execution_count": null,
   "id": "c53737db-edd5-4514-9fd7-ae40926d1fb0",
   "metadata": {},
   "outputs": [],
   "source": []
  },
  {
   "cell_type": "code",
   "execution_count": null,
   "id": "1e3e3f65-575f-4897-a351-411515f7053a",
   "metadata": {},
   "outputs": [],
   "source": []
  },
  {
   "cell_type": "code",
   "execution_count": null,
   "id": "e33abcf4-307e-4f14-a88f-955db74eb3ae",
   "metadata": {},
   "outputs": [],
   "source": []
  },
  {
   "cell_type": "code",
   "execution_count": null,
   "id": "28db128f-2883-4215-8f21-0a8121f5ec49",
   "metadata": {},
   "outputs": [],
   "source": []
  },
  {
   "cell_type": "code",
   "execution_count": null,
   "id": "09f6a701-81b5-4481-85a0-39a7d5235bad",
   "metadata": {},
   "outputs": [],
   "source": []
  },
  {
   "cell_type": "code",
   "execution_count": null,
   "id": "38bc5fea-6b70-4bc4-a264-de25584ae729",
   "metadata": {},
   "outputs": [],
   "source": []
  },
  {
   "cell_type": "code",
   "execution_count": null,
   "id": "f91bdd77-d537-4798-bcd4-ac0baba40bca",
   "metadata": {},
   "outputs": [],
   "source": []
  },
  {
   "cell_type": "code",
   "execution_count": null,
   "id": "b2c7a6d5-29de-4ac8-9eaa-69b6ecb43cca",
   "metadata": {},
   "outputs": [],
   "source": []
  },
  {
   "cell_type": "markdown",
   "id": "d3b9e46d-ac2d-4dba-a6bb-27b5d923dc39",
   "metadata": {},
   "source": [
    "# WORKS"
   ]
  },
  {
   "cell_type": "code",
   "execution_count": 49,
   "id": "d9651f42-9d58-43e1-928a-e422fdb3e33a",
   "metadata": {},
   "outputs": [],
   "source": [
    "arr = np.asarray([1, 2, 3, 8, 23, 12, 9])"
   ]
  },
  {
   "cell_type": "code",
   "execution_count": 51,
   "id": "987f3385-f7ed-4e1f-815e-c99dae4ae44a",
   "metadata": {},
   "outputs": [
    {
     "ename": "TypeError",
     "evalue": "'float' object is not iterable",
     "output_type": "error",
     "traceback": [
      "\u001b[0;31m---------------------------------------------------------------------------\u001b[0m",
      "\u001b[0;31mTypeError\u001b[0m                                 Traceback (most recent call last)",
      "\u001b[0;32m/tmp/ipykernel_941134/2725380041.py\u001b[0m in \u001b[0;36m<module>\u001b[0;34m\u001b[0m\n\u001b[0;32m----> 1\u001b[0;31m \u001b[0mnp\u001b[0m\u001b[0;34m.\u001b[0m\u001b[0mquantile\u001b[0m\u001b[0;34m(\u001b[0m\u001b[0marr\u001b[0m\u001b[0;34m,\u001b[0m \u001b[0;36m0.25\u001b[0m\u001b[0;34m,\u001b[0m \u001b[0;36m0.75\u001b[0m\u001b[0;34m)\u001b[0m\u001b[0;34m\u001b[0m\u001b[0;34m\u001b[0m\u001b[0m\n\u001b[0m",
      "\u001b[0;32m<__array_function__ internals>\u001b[0m in \u001b[0;36mquantile\u001b[0;34m(*args, **kwargs)\u001b[0m\n",
      "\u001b[0;32m~/anaconda3/lib/python3.9/site-packages/numpy/lib/function_base.py\u001b[0m in \u001b[0;36mquantile\u001b[0;34m(a, q, axis, out, overwrite_input, interpolation, keepdims)\u001b[0m\n\u001b[1;32m   3928\u001b[0m     \u001b[0;32mif\u001b[0m \u001b[0;32mnot\u001b[0m \u001b[0m_quantile_is_valid\u001b[0m\u001b[0;34m(\u001b[0m\u001b[0mq\u001b[0m\u001b[0;34m)\u001b[0m\u001b[0;34m:\u001b[0m\u001b[0;34m\u001b[0m\u001b[0;34m\u001b[0m\u001b[0m\n\u001b[1;32m   3929\u001b[0m         \u001b[0;32mraise\u001b[0m \u001b[0mValueError\u001b[0m\u001b[0;34m(\u001b[0m\u001b[0;34m\"Quantiles must be in the range [0, 1]\"\u001b[0m\u001b[0;34m)\u001b[0m\u001b[0;34m\u001b[0m\u001b[0;34m\u001b[0m\u001b[0m\n\u001b[0;32m-> 3930\u001b[0;31m     return _quantile_unchecked(\n\u001b[0m\u001b[1;32m   3931\u001b[0m         a, q, axis, out, overwrite_input, interpolation, keepdims)\n\u001b[1;32m   3932\u001b[0m \u001b[0;34m\u001b[0m\u001b[0m\n",
      "\u001b[0;32m~/anaconda3/lib/python3.9/site-packages/numpy/lib/function_base.py\u001b[0m in \u001b[0;36m_quantile_unchecked\u001b[0;34m(a, q, axis, out, overwrite_input, interpolation, keepdims)\u001b[0m\n\u001b[1;32m   3935\u001b[0m                         interpolation='linear', keepdims=False):\n\u001b[1;32m   3936\u001b[0m     \u001b[0;34m\"\"\"Assumes that q is in [0, 1], and is an ndarray\"\"\"\u001b[0m\u001b[0;34m\u001b[0m\u001b[0;34m\u001b[0m\u001b[0m\n\u001b[0;32m-> 3937\u001b[0;31m     r, k = _ureduce(a, func=_quantile_ureduce_func, q=q, axis=axis, out=out,\n\u001b[0m\u001b[1;32m   3938\u001b[0m                     \u001b[0moverwrite_input\u001b[0m\u001b[0;34m=\u001b[0m\u001b[0moverwrite_input\u001b[0m\u001b[0;34m,\u001b[0m\u001b[0;34m\u001b[0m\u001b[0;34m\u001b[0m\u001b[0m\n\u001b[1;32m   3939\u001b[0m                     interpolation=interpolation)\n",
      "\u001b[0;32m~/anaconda3/lib/python3.9/site-packages/numpy/lib/function_base.py\u001b[0m in \u001b[0;36m_ureduce\u001b[0;34m(a, func, **kwargs)\u001b[0m\n\u001b[1;32m   3493\u001b[0m         \u001b[0mkeepdim\u001b[0m \u001b[0;34m=\u001b[0m \u001b[0mlist\u001b[0m\u001b[0;34m(\u001b[0m\u001b[0ma\u001b[0m\u001b[0;34m.\u001b[0m\u001b[0mshape\u001b[0m\u001b[0;34m)\u001b[0m\u001b[0;34m\u001b[0m\u001b[0;34m\u001b[0m\u001b[0m\n\u001b[1;32m   3494\u001b[0m         \u001b[0mnd\u001b[0m \u001b[0;34m=\u001b[0m \u001b[0ma\u001b[0m\u001b[0;34m.\u001b[0m\u001b[0mndim\u001b[0m\u001b[0;34m\u001b[0m\u001b[0;34m\u001b[0m\u001b[0m\n\u001b[0;32m-> 3495\u001b[0;31m         \u001b[0maxis\u001b[0m \u001b[0;34m=\u001b[0m \u001b[0m_nx\u001b[0m\u001b[0;34m.\u001b[0m\u001b[0mnormalize_axis_tuple\u001b[0m\u001b[0;34m(\u001b[0m\u001b[0maxis\u001b[0m\u001b[0;34m,\u001b[0m \u001b[0mnd\u001b[0m\u001b[0;34m)\u001b[0m\u001b[0;34m\u001b[0m\u001b[0;34m\u001b[0m\u001b[0m\n\u001b[0m\u001b[1;32m   3496\u001b[0m \u001b[0;34m\u001b[0m\u001b[0m\n\u001b[1;32m   3497\u001b[0m         \u001b[0;32mfor\u001b[0m \u001b[0max\u001b[0m \u001b[0;32min\u001b[0m \u001b[0maxis\u001b[0m\u001b[0;34m:\u001b[0m\u001b[0;34m\u001b[0m\u001b[0;34m\u001b[0m\u001b[0m\n",
      "\u001b[0;32m~/anaconda3/lib/python3.9/site-packages/numpy/core/numeric.py\u001b[0m in \u001b[0;36mnormalize_axis_tuple\u001b[0;34m(axis, ndim, argname, allow_duplicate)\u001b[0m\n\u001b[1;32m   1389\u001b[0m             \u001b[0;32mpass\u001b[0m\u001b[0;34m\u001b[0m\u001b[0;34m\u001b[0m\u001b[0m\n\u001b[1;32m   1390\u001b[0m     \u001b[0;31m# Going via an iterator directly is slower than via list comprehension.\u001b[0m\u001b[0;34m\u001b[0m\u001b[0;34m\u001b[0m\u001b[0m\n\u001b[0;32m-> 1391\u001b[0;31m     \u001b[0maxis\u001b[0m \u001b[0;34m=\u001b[0m \u001b[0mtuple\u001b[0m\u001b[0;34m(\u001b[0m\u001b[0;34m[\u001b[0m\u001b[0mnormalize_axis_index\u001b[0m\u001b[0;34m(\u001b[0m\u001b[0max\u001b[0m\u001b[0;34m,\u001b[0m \u001b[0mndim\u001b[0m\u001b[0;34m,\u001b[0m \u001b[0margname\u001b[0m\u001b[0;34m)\u001b[0m \u001b[0;32mfor\u001b[0m \u001b[0max\u001b[0m \u001b[0;32min\u001b[0m \u001b[0maxis\u001b[0m\u001b[0;34m]\u001b[0m\u001b[0;34m)\u001b[0m\u001b[0;34m\u001b[0m\u001b[0;34m\u001b[0m\u001b[0m\n\u001b[0m\u001b[1;32m   1392\u001b[0m     \u001b[0;32mif\u001b[0m \u001b[0;32mnot\u001b[0m \u001b[0mallow_duplicate\u001b[0m \u001b[0;32mand\u001b[0m \u001b[0mlen\u001b[0m\u001b[0;34m(\u001b[0m\u001b[0mset\u001b[0m\u001b[0;34m(\u001b[0m\u001b[0maxis\u001b[0m\u001b[0;34m)\u001b[0m\u001b[0;34m)\u001b[0m \u001b[0;34m!=\u001b[0m \u001b[0mlen\u001b[0m\u001b[0;34m(\u001b[0m\u001b[0maxis\u001b[0m\u001b[0;34m)\u001b[0m\u001b[0;34m:\u001b[0m\u001b[0;34m\u001b[0m\u001b[0;34m\u001b[0m\u001b[0m\n\u001b[1;32m   1393\u001b[0m         \u001b[0;32mif\u001b[0m \u001b[0margname\u001b[0m\u001b[0;34m:\u001b[0m\u001b[0;34m\u001b[0m\u001b[0;34m\u001b[0m\u001b[0m\n",
      "\u001b[0;31mTypeError\u001b[0m: 'float' object is not iterable"
     ]
    }
   ],
   "source": [
    "np.quantile(arr, 0.25, 0.75)"
   ]
  },
  {
   "cell_type": "code",
   "execution_count": null,
   "id": "022c7d00-3f19-4f66-b2a2-54ac0084f0c1",
   "metadata": {},
   "outputs": [],
   "source": []
  },
  {
   "cell_type": "code",
   "execution_count": null,
   "id": "5ab1dc64-3eca-4d11-835e-7a34626f375f",
   "metadata": {},
   "outputs": [],
   "source": [
    "import torch\n",
    "import torchga\n",
    "import pygad\n",
    "\n",
    "def fitness_func(solution, sol_idx):\n",
    "    global data_inputs, data_outputs, torch_ga, model, loss_function\n",
    "\n",
    "    model_weights_dict = torchga.model_weights_as_dict(model=model,\n",
    "                                                         weights_vector=solution)\n",
    "\n",
    "    # Use the current solution as the model parameters.\n",
    "    model.load_state_dict(model_weights_dict)\n",
    "\n",
    "    predictions = model(data_inputs)\n",
    "\n",
    "    solution_fitness = 1.0 / (loss_function(predictions, data_outputs).detach().numpy() + 0.00000001)\n",
    "\n",
    "    return solution_fitness\n",
    "\n",
    "def callback_generation(ga_instance):\n",
    "    print(\"Generation = {generation}\".format(generation=ga_instance.generations_completed))\n",
    "    print(\"Fitness    = {fitness}\".format(fitness=ga_instance.best_solution()[1]))\n",
    "\n",
    "# Create the PyTorch model.\n",
    "input_layer  = torch.nn.Linear(2, 4)\n",
    "relu_layer = torch.nn.ReLU()\n",
    "dense_layer = torch.nn.Linear(4, 2)\n",
    "output_layer = torch.nn.Softmax(1)\n",
    "\n",
    "model = torch.nn.Sequential(input_layer,\n",
    "                            relu_layer,\n",
    "                            dense_layer,\n",
    "                            output_layer)\n",
    "# print(model)\n",
    "\n",
    "# Create an instance of the pygad.torchga.TorchGA class to build the initial population.\n",
    "torch_ga = torchga.TorchGA(model=model,\n",
    "                           num_solutions=10)\n",
    "\n",
    "loss_function = torch.nn.BCELoss()\n",
    "\n",
    "# XOR problem inputs\n",
    "data_inputs = torch.tensor([[0.0, 0.0],\n",
    "                            [0.0, 1.0],\n",
    "                            [1.0, 0.0],\n",
    "                            [1.0, 1.0]])\n",
    "\n",
    "# XOR problem outputs\n",
    "data_outputs = torch.tensor([[1.0, 0.0],\n",
    "                             [0.0, 1.0],\n",
    "                             [0.0, 1.0],\n",
    "                             [1.0, 0.0]])\n",
    "\n",
    "# Prepare the PyGAD parameters. Check the documentation for more information: https://pygad.readthedocs.io/en/latest/README_pygad_ReadTheDocs.html#pygad-ga-class\n",
    "num_generations = 250 # Number of generations.\n",
    "num_parents_mating = 5 # Number of solutions to be selected as parents in the mating pool.\n",
    "initial_population = torch_ga.population_weights # Initial population of network weights.\n",
    "\n",
    "# Create an instance of the pygad.GA class\n",
    "ga_instance = pygad.GA(num_generations=num_generations, \n",
    "                       num_parents_mating=num_parents_mating, \n",
    "                       initial_population=initial_population,\n",
    "                       fitness_func=fitness_func,\n",
    "                       on_generation=callback_generation)\n",
    "\n",
    "# Start the genetic algorithm evolution.\n",
    "ga_instance.run()\n",
    "\n",
    "# After the generations complete, some plots are showed that summarize how the outputs/fitness values evolve over generations.\n",
    "ga_instance.plot_fitness(title=\"PyGAD & PyTorch - Iteration vs. Fitness\", linewidth=4)\n",
    "\n",
    "# Returning the details of the best solution.\n",
    "solution, solution_fitness, solution_idx = ga_instance.best_solution()\n",
    "print(\"Fitness value of the best solution = {solution_fitness}\".format(solution_fitness=solution_fitness))\n",
    "print(\"Index of the best solution : {solution_idx}\".format(solution_idx=solution_idx))\n",
    "\n",
    "# Fetch the parameters of the best solution.\n",
    "best_solution_weights = torchga.model_weights_as_dict(model=model,\n",
    "                                                      weights_vector=solution)\n",
    "model.load_state_dict(best_solution_weights)\n",
    "predictions = model(data_inputs)\n",
    "print(\"Predictions : \\n\", predictions.detach().numpy())\n",
    "\n",
    "# Calculate the binary crossentropy for the trained model.\n",
    "print(\"Binary Crossentropy : \", loss_function(predictions, data_outputs).detach().numpy())\n",
    "\n",
    "# Calculate the classification accuracy of the trained model.\n",
    "a = torch.max(predictions, axis=1)\n",
    "b = torch.max(data_outputs, axis=1)\n",
    "accuracy = torch.sum(a.indices == b.indices) / len(data_outputs)\n",
    "print(\"Accuracy : \", accuracy.detach().numpy())"
   ]
  },
  {
   "cell_type": "code",
   "execution_count": null,
   "id": "83778c62-eec7-4b4c-9910-1c3a8a91762e",
   "metadata": {},
   "outputs": [],
   "source": [
    "def unflatten(flattened, shapes):\n",
    "    newarray = []\n",
    "    index = 0\n",
    "    for shape in shapes:\n",
    "        size = np.product(shape)\n",
    "        newarray.append(flattened[index : index + size].reshape(shape))\n",
    "        index += size\n",
    "    return newarray\n",
    "        \n",
    "def crossover(agents, network, pop_size):\n",
    "    offspring = []\n",
    "    for _ in range((pop_size - len(agents)) // 2):\n",
    "        parent1 = random.choice(agents)\n",
    "        parent2 = random.choice(agents)\n",
    "        child1 = Agent(network)\n",
    "        child2 = Agent(network)\n",
    "\n",
    "        shapes = [a.shape for a in parent1.neural_network.weights]\n",
    "\n",
    "        genes1 = np.concatenate([a.flatten() for a in parent1.neural_network.weights])\n",
    "        genes2 = np.concatenate([a.flatten() for a in parent2.neural_network.weights])\n",
    "\n",
    "        split = random.randint(0,len(genes1)-1)child1_genes = np.array(genes1[0:split].tolist() + genes2[split:].tolist())\n",
    "        child2_genes = np.array(genes1[0:split].tolist() + genes2[split:].tolist())\n",
    "\n",
    "        child1.neural_network.weights = unflatten(child1_genes,shapes)\n",
    "        child2.neural_network.weights = unflatten(child2_genes,shapes)\n",
    "\n",
    "        offspring.append(child1)\n",
    "        offspring.append(child2)\n",
    "    agents.extend(offspring)\n",
    "    return agents"
   ]
  },
  {
   "cell_type": "code",
   "execution_count": null,
   "id": "f2b3a6f8-1b85-4881-916d-2ecf10317884",
   "metadata": {},
   "outputs": [],
   "source": []
  },
  {
   "cell_type": "code",
   "execution_count": null,
   "id": "52ccd963-d90c-4dbb-8317-5a5b3d5a978c",
   "metadata": {},
   "outputs": [],
   "source": []
  },
  {
   "cell_type": "code",
   "execution_count": null,
   "id": "98f87813-dd72-4e3f-ba8b-996c85de4b26",
   "metadata": {},
   "outputs": [],
   "source": []
  },
  {
   "cell_type": "code",
   "execution_count": 161,
   "id": "9ee569af-8aea-499e-b05f-94c709fc8c2a",
   "metadata": {},
   "outputs": [
    {
     "data": {
      "text/plain": [
       "(tensor([ 0,  1,  2,  3,  4,  5,  6,  7,  8,  9, 10, 11, 12, 13, 14, 15, 16, 17,\n",
       "         18, 19, 20, 21, 22]),)"
      ]
     },
     "execution_count": 161,
     "metadata": {},
     "output_type": "execute_result"
    }
   ],
   "source": [
    "#tempo = table_w > 1\n",
    "#torch.nonzero(table_w > 1, as_tuple = True)\n",
    "(table_w >= 0).nonzero(as_tuple = True)"
   ]
  },
  {
   "cell_type": "code",
   "execution_count": 168,
   "id": "4c8a8f6e-6ba6-4931-a26e-1423008665f8",
   "metadata": {},
   "outputs": [
    {
     "data": {
      "text/plain": [
       "tensor([ 15.,   0.,   0.,   0.,   0.,   0.,   0.,   0.,   0.,   0.,   0.,   0.,\n",
       "        -15.,   0.,   0.,   0.,   0.,   0.,   0.,   0.,   0.,   0.,   0.,   0.])"
      ]
     },
     "execution_count": 168,
     "metadata": {},
     "output_type": "execute_result"
    }
   ],
   "source": [
    "table_w"
   ]
  },
  {
   "cell_type": "code",
   "execution_count": 171,
   "id": "16afe294-1627-42d4-b313-8db3dc5c86e8",
   "metadata": {},
   "outputs": [
    {
     "data": {
      "text/plain": [
       "tensor([11,  1,  4,  6,  4,  0,  3, 10, 12,  9,  2,  5,  3,  7,  8,  3, 10,  5,\n",
       "        12,  4, 13, 12,  8,  4])"
      ]
     },
     "execution_count": 171,
     "metadata": {},
     "output_type": "execute_result"
    }
   ],
   "source": [
    "tens = torch.randint(15, (24,))\n",
    "tens"
   ]
  },
  {
   "cell_type": "code",
   "execution_count": 176,
   "id": "adc0d124-53a1-41a5-81ba-30b8ac574fb8",
   "metadata": {},
   "outputs": [
    {
     "data": {
      "text/plain": [
       "tensor([ 8, 18, 20, 21])"
      ]
     },
     "execution_count": 176,
     "metadata": {},
     "output_type": "execute_result"
    }
   ],
   "source": [
    "inds = (tens > 11).nonzero().view(-1)\n",
    "inds"
   ]
  },
  {
   "cell_type": "code",
   "execution_count": 179,
   "id": "df2b86fb-25ca-424a-99b6-aed48066cf94",
   "metadata": {},
   "outputs": [
    {
     "data": {
      "text/plain": [
       "tensor([16, 17, 18, 19, 20, 21, 22, 23])"
      ]
     },
     "execution_count": 179,
     "metadata": {},
     "output_type": "execute_result"
    }
   ],
   "source": [
    "ch_inds = torch.arange(16, 24)\n",
    "ch_inds"
   ]
  },
  {
   "cell_type": "code",
   "execution_count": 177,
   "id": "3dbc7208-9be5-4711-a30e-6159bf5dccf9",
   "metadata": {},
   "outputs": [
    {
     "data": {
      "text/plain": [
       "tensor([17, 18, 20, 21])"
      ]
     },
     "execution_count": 177,
     "metadata": {},
     "output_type": "execute_result"
    }
   ],
   "source": [
    "inds[0] = 17\n",
    "inds"
   ]
  },
  {
   "cell_type": "code",
   "execution_count": 182,
   "id": "0e3ea2ea-96ac-411a-ade8-89e6b452781f",
   "metadata": {},
   "outputs": [
    {
     "data": {
      "text/plain": [
       "tensor(False)"
      ]
     },
     "execution_count": 182,
     "metadata": {},
     "output_type": "execute_result"
    }
   ],
   "source": [
    "torch.all(inds > 18)"
   ]
  },
  {
   "cell_type": "code",
   "execution_count": null,
   "id": "c60696db-9789-4036-b249-e140ff4e2b83",
   "metadata": {},
   "outputs": [],
   "source": []
  },
  {
   "cell_type": "code",
   "execution_count": null,
   "id": "a7e91161-c512-4685-90bd-274c5c64e02d",
   "metadata": {},
   "outputs": [],
   "source": []
  },
  {
   "cell_type": "code",
   "execution_count": null,
   "id": "41098fcb-44f4-4355-8303-247532d73cec",
   "metadata": {},
   "outputs": [],
   "source": []
  },
  {
   "cell_type": "code",
   "execution_count": 114,
   "id": "91d5e18e-5c6e-4928-9ddc-88126b8c85a9",
   "metadata": {},
   "outputs": [],
   "source": [
    "class Dice_embedder(nn.Module):\n",
    "    def __init__(self, d_emb):\n",
    "        super().__init__()\n",
    "        self.embed = nn.Embedding(6, d_emb)\n",
    "    \n",
    "    def forward(self, x):\n",
    "        x = self.embed(x)\n",
    "        #x = rearrange(x, '... i j -> ... (i j)')\n",
    "        return x"
   ]
  },
  {
   "cell_type": "code",
   "execution_count": 115,
   "id": "3b3d4cfa-84b1-478c-ba89-9015120433a5",
   "metadata": {},
   "outputs": [],
   "source": [
    "model = Dice_embedder(4)"
   ]
  },
  {
   "cell_type": "code",
   "execution_count": 162,
   "id": "945e2eee-c834-40d9-8cfb-a1684f24260a",
   "metadata": {},
   "outputs": [
    {
     "data": {
      "text/plain": [
       "tensor([3, 4])"
      ]
     },
     "execution_count": 162,
     "metadata": {},
     "output_type": "execute_result"
    }
   ],
   "source": [
    "roll = torch.randint(6, (2,))\n",
    "roll"
   ]
  },
  {
   "cell_type": "code",
   "execution_count": 165,
   "id": "a92187d4-8cf6-4090-83dd-9dc366efdf1f",
   "metadata": {},
   "outputs": [
    {
     "data": {
      "text/plain": [
       "True"
      ]
     },
     "execution_count": 165,
     "metadata": {},
     "output_type": "execute_result"
    }
   ],
   "source": [
    "3 in roll"
   ]
  },
  {
   "cell_type": "code",
   "execution_count": 153,
   "id": "f4c78a36-6744-4f14-8e1a-8ca88c34e844",
   "metadata": {},
   "outputs": [
    {
     "data": {
      "text/plain": [
       "tensor([1])"
      ]
     },
     "execution_count": 153,
     "metadata": {},
     "output_type": "execute_result"
    }
   ],
   "source": [
    "roll[1:2]"
   ]
  },
  {
   "cell_type": "code",
   "execution_count": 132,
   "id": "127522ff-e7b0-4d24-9291-20d13d5adbf4",
   "metadata": {},
   "outputs": [
    {
     "data": {
      "text/plain": [
       "tensor([[ 1.5480, -0.9881,  0.6946, -1.4169]], grad_fn=<EmbeddingBackward0>)"
      ]
     },
     "execution_count": 132,
     "metadata": {},
     "output_type": "execute_result"
    }
   ],
   "source": [
    "result = model(roll[:1])\n",
    "result"
   ]
  },
  {
   "cell_type": "code",
   "execution_count": 127,
   "id": "ec107e78-4d6b-442a-a485-82b8c43f72da",
   "metadata": {},
   "outputs": [
    {
     "data": {
      "text/plain": [
       "tensor([0., 0., 0., 0., 0.])"
      ]
     },
     "execution_count": 127,
     "metadata": {},
     "output_type": "execute_result"
    }
   ],
   "source": [
    "tens = torch.zeros(5,)\n",
    "tens"
   ]
  },
  {
   "cell_type": "code",
   "execution_count": 134,
   "id": "fa9188ab-9209-4225-908e-6b87b93441b8",
   "metadata": {},
   "outputs": [
    {
     "data": {
      "text/plain": [
       "tensor([ 0.0000,  0.0000,  0.0000,  0.0000,  0.0000,  1.5480, -0.9881,  0.6946,\n",
       "        -1.4169], grad_fn=<CatBackward0>)"
      ]
     },
     "execution_count": 134,
     "metadata": {},
     "output_type": "execute_result"
    }
   ],
   "source": [
    "torch.cat((tens, result[0]))"
   ]
  },
  {
   "cell_type": "code",
   "execution_count": null,
   "id": "18067c2f-b96e-4b61-b068-9ed12447d44a",
   "metadata": {},
   "outputs": [],
   "source": []
  },
  {
   "cell_type": "code",
   "execution_count": 45,
   "id": "a66a32fb-0d01-417c-a848-ea001e5e7d2a",
   "metadata": {},
   "outputs": [],
   "source": [
    "class Multi_Head_Attention(nn.Module):\n",
    "    def __init__(self, d_emb, d_hid, heads):\n",
    "        super().__init__()\n",
    "        self.d_hid = d_hid\n",
    "        self.heads = heads\n",
    "        self.dim_per_head = self.d_hid // self.heads\n",
    "        \n",
    "        self.qkv = nn.Linear(d_emb, self.d_hid * 3, bias = False)\n",
    "        \n",
    "        \n",
    "        self.unifyheads = nn.Linear(self.d_hid, d_emb)\n",
    "    \n",
    "    def self_attention(self, q, k, v):\n",
    "        scores = torch.einsum('...ij,...kj->...ik', q, k) / np.sqrt(self.dim_per_head)\n",
    "        scores = F.softmax(scores, dim = -1)\n",
    "        return torch.einsum('...ij,...jk->...ik', scores, v)\n",
    "    \n",
    "    def forward(self, x):\n",
    "        qkv = self.qkv(x)\n",
    "        q = qkv[..., :self.d_hid]\n",
    "        k = qkv[..., self.d_hid : self.d_hid * 2]\n",
    "        v = qkv[..., self.d_hid * 2 :]\n",
    "            \n",
    "        q = rearrange(q, '... i (h j) -> ... h i j', h = self.heads)\n",
    "        k = rearrange(k, '... i (h j) -> ... h i j', h = self.heads)\n",
    "        v = rearrange(v, '... i (h j) -> ... h i j', h = self.heads)\n",
    "                \n",
    "        scores = self.self_attention(q, k, v)\n",
    "        scores = rearrange(scores, '... h i j -> ... i (h j)').contiguous()\n",
    "                \n",
    "        return self.unifyheads(scores)"
   ]
  },
  {
   "cell_type": "code",
   "execution_count": 46,
   "id": "39cb920d-5841-4666-acaa-5a49191a49eb",
   "metadata": {},
   "outputs": [],
   "source": [
    "class GLU(nn.Module):\n",
    "    def __init__(self, in_size, out_size):\n",
    "        super().__init__()\n",
    "        self.out_size = out_size\n",
    "        self.linear = nn.Linear(in_size, out_size * 2)\n",
    "    def forward(self, x):\n",
    "        x = self.linear(x)\n",
    "        #x = x[..., : self.out_size] * x[..., self.out_size :].sigmoid()\n",
    "        x = torch.einsum('...i, ...i->...i', [x[..., : self.out_size], x[..., self.out_size :].sigmoid()])"
   ]
  },
  {
   "cell_type": "code",
   "execution_count": 47,
   "id": "b5a13c9e-5fe6-49f8-9abc-893201279156",
   "metadata": {},
   "outputs": [],
   "source": [
    "class Encoder_layer(nn.Module):\n",
    "    def __init__(self, d_emb, d_hid, hidden_mult, heads, enc_drop):\n",
    "        super().__init__()\n",
    "        self.dropout = nn.Dropout(enc_drop)\n",
    "        \n",
    "        self.mha = Multi_Head_Attention(d_emb, d_hid, heads)\n",
    "        self.norm_1 = nn.LayerNorm(d_emb)\n",
    "        self.ff = nn.Sequential(\n",
    "            nn.Linear(d_emb, hidden_mult * d_emb),\n",
    "            #nn.ReLU(),\n",
    "            #nn.GELU(),\n",
    "            nn.LeakyReLU(),\n",
    "            nn.Linear(hidden_mult * d_emb, d_emb)\n",
    "        )\n",
    "        #self.ff = GLU(d_emb, d_emb)\n",
    "        \n",
    "        self.norm_2 = nn.LayerNorm(d_emb)\n",
    "        \n",
    "    def forward(self, x):\n",
    "        attended = self.mha(x)\n",
    "        x = attended + x\n",
    "        x = self.dropout(x)\n",
    "        x = self.norm_1(x)\n",
    "        fed_for = self.ff(x)\n",
    "        x = fed_for + x\n",
    "        x = self.dropout(x)\n",
    "        x = self.norm_2(x)\n",
    "        return x"
   ]
  },
  {
   "cell_type": "code",
   "execution_count": null,
   "id": "ea011482-7d3c-4c36-a47d-798b39e32d36",
   "metadata": {},
   "outputs": [],
   "source": [
    "class Transformer(nn.Module):\n",
    "    def __init__(self, model_hp):\n",
    "        super().__init__()\n",
    "        self.epochs = 0\n",
    "        self.losses = []\n",
    "        \n",
    "        d_emb, seq_length, hidden_mult, order, enc_drop, lr, cuda = model_hp\n",
    "        self.d_emb = d_emb\n",
    "        \n",
    "        self.score_emb = GLU(2, 2 * d_emb)\n",
    "        self.dice_emb = nn.Embedding(6, d_emb)\n",
    "        self.barrier_emb = nn.Embedding(2, d_emb)\n",
    "        \n",
    "        self.pe = nn.Parameter(torch.rand(seq_length + 1, d_emb))\n",
    "        self.cls_token = nn.Parameter(torch.rand(1, d_emb))\n",
    "        \n",
    "        self.encoder = nn.ModuleList()\n",
    "        for d_hid, heads in order:\n",
    "            self.encoder.append(Encoder_layer(d_emb, d_hid, hidden_mult, heads, enc_drop))\n",
    "        \n",
    "        self.out = GLU(self.d_emb, 2)\n",
    "                \n",
    "        self.weights_init()\n",
    "        \n",
    "        self.optimizer = torch.optim.AdamW(self.parameters(), lr = lr)\n",
    "        self.loss = nn.HuberLoss()\n",
    "        if torch.cuda.is_available():\n",
    "            torch.cuda.set_device(cuda)\n",
    "            self.device = torch.device('cuda')\n",
    "        else:\n",
    "            self.device = torch.device('cpu')\n",
    "        self.to(self.device)\n",
    "        \n",
    "    def weights_init(self):\n",
    "        for m in self.modules():\n",
    "            if isinstance(m, nn.Linear):\n",
    "                torch.nn.init.xavier_uniform_(m.weight)\n",
    "                #m.bias.data.fill_(0.01)\n",
    "         \n",
    "    def forward(self, s, d, b):\n",
    "        s = self.score_emb(s)\n",
    "        s = rearrange(s, '... (s e) -> ... s e', e = self.d_emb)\n",
    "        d = self.dice_emb(d)\n",
    "        b = self.barrier_emb(b)\n",
    "        \n",
    "        x = torch.cat((s, d, b), dim = -2)\n",
    "        \n",
    "        cls_toks = repeat(self.cls_token, 's e -> b s e', b = x.size(0))\n",
    "        x = torch.cat((cls_toks, x), dim = 1)\n",
    "        x = x + self.pe #[:x.size(1)]\n",
    "        for enc in self.encoder:\n",
    "            x = enc(x)\n",
    "        x = x[:, 0]\n",
    "        out = self.out(x)\n",
    "        return out"
   ]
  },
  {
   "cell_type": "code",
   "execution_count": null,
   "id": "ba770f0b-beca-4240-96f4-80f9b9a7210a",
   "metadata": {},
   "outputs": [],
   "source": []
  },
  {
   "cell_type": "code",
   "execution_count": null,
   "id": "1822d1fc-4c7d-4e9c-95e5-77acf4277818",
   "metadata": {},
   "outputs": [],
   "source": [
    "GAMMA = 0.999\n",
    "EPS_START = 0.9\n",
    "EPS_END = 0.05\n",
    "EPS_DECAY = 200\n",
    "TARGET_UPDATE = 10"
   ]
  },
  {
   "cell_type": "code",
   "execution_count": 185,
   "id": "e56641eb-ce66-43d9-a4d7-7878b11b4789",
   "metadata": {},
   "outputs": [],
   "source": [
    "def get_reward(table, roll, action):\n",
    "    reward = 0\n",
    "    flag = False\n",
    "    roll = roll + 1\n",
    "    target = action + roll\n",
    "    if table[action] < 1:\n",
    "        reward -=2\n",
    "    elif target > 23 or table[target] < 0:\n",
    "        reward -= 1\n",
    "    else:\n",
    "        reward += table[action] / 6\n",
    "        flag = True\n",
    "    return reward, flag\n",
    "\n",
    "def get_reward_end(table, roll, action):\n",
    "    reward = 0\n",
    "    flag = False\n",
    "    roll = roll + 1\n",
    "    target = action + roll\n",
    "    if table[action] < 1:\n",
    "        reward -= 2\n",
    "    elif target > 23:\n",
    "        reward += 1\n",
    "        flag = True\n",
    "    elif table[target] < 0:\n",
    "        reward -= 1\n",
    "    else:\n",
    "        flag = True\n",
    "    return reward, flag"
   ]
  },
  {
   "cell_type": "code",
   "execution_count": null,
   "id": "cb2f74e1-1e44-4799-82f5-78cad4ef4765",
   "metadata": {},
   "outputs": [],
   "source": [
    "def turn(models, table, roll):\n",
    "    reward = 0\n",
    "    roll = torch.randint(6, (2,))\n",
    "    d = roll.to(device)\n",
    "    t = table.to(device)\n",
    "    chosen_actions = []\n",
    "    outs = []\n",
    "    out = models[0](t, d)\n",
    "    outs.append(out)\n",
    "    choice = out.argsort()[::-1]\n",
    "    for i, ch in enumerate(choice):\n",
    "        out = models[i + 1](t, d[ch : ch + 1])\n",
    "        spots = (table > 0).nonzero().view(-1)\n",
    "        actions = out.argsort()[::-1]\n",
    "        if torch.all(spots > 17):\n",
    "            for a in actions:\n",
    "                r, flag = get_reward_end(table, roll[choice], a)\n",
    "                reward += r\n",
    "                if flag:\n",
    "                    break\n",
    "            a = -1\n",
    "        else:\n",
    "            for a in actions:\n",
    "                r, flag = get_reward(table, roll[choice], a)\n",
    "                reward += r\n",
    "                if flag:\n",
    "                    break\n",
    "            a = -1\n",
    "        outs.append(out)\n",
    "        chosen_actions.append(a)"
   ]
  },
  {
   "cell_type": "code",
   "execution_count": null,
   "id": "8bf5d074-09b7-4956-bc61-36e5b57e116e",
   "metadata": {},
   "outputs": [],
   "source": []
  }
 ],
 "metadata": {
  "kernelspec": {
   "display_name": "Python 3 (ipykernel)",
   "language": "python",
   "name": "python3"
  },
  "language_info": {
   "codemirror_mode": {
    "name": "ipython",
    "version": 3
   },
   "file_extension": ".py",
   "mimetype": "text/x-python",
   "name": "python",
   "nbconvert_exporter": "python",
   "pygments_lexer": "ipython3",
   "version": "3.9.7"
  }
 },
 "nbformat": 4,
 "nbformat_minor": 5
}
