{
 "cells": [
  {
   "cell_type": "code",
   "execution_count": 1,
   "id": "d5342f1d-9d04-41ee-889e-c1d3e7492918",
   "metadata": {},
   "outputs": [],
   "source": [
    "import torch\n",
    "import torch.nn as nn\n",
    "import torch.nn.functional as F\n",
    "\n",
    "import numpy as np\n",
    "\n",
    "from einops import rearrange, repeat\n",
    "\n",
    "from collections import deque\n",
    "\n",
    "#import sys\n",
    "import os\n",
    "import copy\n",
    "\n",
    "from datetime import datetime as dt\n",
    "import matplotlib.pyplot as plt"
   ]
  },
  {
   "cell_type": "code",
   "execution_count": null,
   "id": "13b02e4f-ecb6-40e4-a376-2f55bde7b6ab",
   "metadata": {},
   "outputs": [],
   "source": []
  },
  {
   "cell_type": "markdown",
   "id": "2a349853-79e1-4a25-aeb8-7e8005afb23f",
   "metadata": {
    "tags": []
   },
   "source": [
    "# Models"
   ]
  },
  {
   "cell_type": "markdown",
   "id": "817d5b11-a46c-4ae9-9292-c996f401cad1",
   "metadata": {
    "jp-MarkdownHeadingCollapsed": true,
    "tags": []
   },
   "source": [
    "## Transformer"
   ]
  },
  {
   "cell_type": "code",
   "execution_count": 2,
   "id": "6d48f8ca-cddd-4327-89a6-9dd6a36ec7cc",
   "metadata": {},
   "outputs": [],
   "source": [
    "class Multi_Head_Attention(nn.Module):\n",
    "    def __init__(self, d_emb, d_hid, heads):\n",
    "        super().__init__()\n",
    "        self.d_hid = d_hid\n",
    "        self.heads = heads\n",
    "        self.dim_per_head = self.d_hid // self.heads\n",
    "        \n",
    "        self.qkv = nn.Linear(d_emb, self.d_hid * 3, bias = False)\n",
    "        \n",
    "        \n",
    "        self.unifyheads = nn.Linear(self.d_hid, d_emb)\n",
    "    \n",
    "    def self_attention(self, q, k, v):\n",
    "        scores = torch.einsum('...ij,...kj->...ik', q, k) / np.sqrt(self.dim_per_head)\n",
    "        scores = F.softmax(scores, dim = -1)\n",
    "        return torch.einsum('...ij,...jk->...ik', scores, v)\n",
    "    \n",
    "    def forward(self, x):\n",
    "        qkv = self.qkv(x)\n",
    "#         q = qkv[..., :self.d_hid]\n",
    "#         k = qkv[..., self.d_hid : self.d_hid * 2]\n",
    "#         v = qkv[..., self.d_hid * 2 :]\n",
    "            \n",
    "#         q = rearrange(q, '... i (h j) -> ... h i j', h = self.heads)\n",
    "#         k = rearrange(k, '... i (h j) -> ... h i j', h = self.heads)\n",
    "#         v = rearrange(v, '... i (h j) -> ... h i j', h = self.heads)\n",
    "        \n",
    "        qkv = rearrange(qkv, '... i (h j) -> ... h i j', h = self.heads * 3)\n",
    "        q, k, v = torch.split(qkv, split_size_or_sections = self.heads, dim = -3)\n",
    "                \n",
    "        scores = self.self_attention(q, k, v)\n",
    "        scores = rearrange(scores, '... h i j -> ... i (h j)').contiguous()\n",
    "                \n",
    "        return self.unifyheads(scores)"
   ]
  },
  {
   "cell_type": "code",
   "execution_count": 3,
   "id": "7a5e0976-938f-423c-97c5-8117e837b386",
   "metadata": {},
   "outputs": [],
   "source": [
    "class GLU(nn.Module):\n",
    "    def __init__(self, in_size, out_size):\n",
    "        super().__init__()\n",
    "        self.out_size = out_size\n",
    "        self.linear = nn.Linear(in_size, out_size * 2)\n",
    "    def forward(self, x):\n",
    "        x = self.linear(x)\n",
    "        #x = x[..., : self.out_size] * x[..., self.out_size :].sigmoid()\n",
    "        x = torch.einsum('...i, ...i->...i', [x[..., : self.out_size], x[..., self.out_size :].sigmoid()])"
   ]
  },
  {
   "cell_type": "code",
   "execution_count": 4,
   "id": "6d7e144d-ee91-40ff-b73f-e82d7a3f4e2e",
   "metadata": {},
   "outputs": [],
   "source": [
    "class Encoder_layer(nn.Module):\n",
    "    def __init__(self, d_emb, d_hid, hidden_mult, heads, enc_drop):\n",
    "        super().__init__()\n",
    "        self.dropout = nn.Dropout(enc_drop)\n",
    "        \n",
    "        self.mha = Multi_Head_Attention(d_emb, d_hid, heads)\n",
    "        self.norm_1 = nn.LayerNorm(d_emb)\n",
    "        self.ff = nn.Sequential(\n",
    "            nn.Linear(d_emb, hidden_mult * d_emb),\n",
    "            #nn.ReLU(),\n",
    "            #nn.GELU(),\n",
    "            nn.LeakyReLU(),\n",
    "            nn.Linear(hidden_mult * d_emb, d_emb)\n",
    "        )\n",
    "        #self.ff = GLU(d_emb, d_emb)\n",
    "        \n",
    "        self.norm_2 = nn.LayerNorm(d_emb)\n",
    "        \n",
    "    def forward(self, x):\n",
    "        attended = self.mha(x)\n",
    "        x = attended + x\n",
    "        x = self.dropout(x)\n",
    "        x = self.norm_1(x)\n",
    "        fed_for = self.ff(x)\n",
    "        x = fed_for + x\n",
    "        x = self.dropout(x)\n",
    "        x = self.norm_2(x)\n",
    "        return x"
   ]
  },
  {
   "cell_type": "code",
   "execution_count": 5,
   "id": "69e7afc3-38b9-4c76-a660-b0638ad1bd53",
   "metadata": {},
   "outputs": [],
   "source": [
    "# value and policy\n",
    "class Transformer(nn.Module):\n",
    "    def __init__(self, model_hp):\n",
    "        super().__init__()\n",
    "        self.epochs = 0\n",
    "        self.losses = []\n",
    "        \n",
    "        d_emb, seq_length, hidden_mult, orders, dropouts, class_tokens = model_hp\n",
    "        trans_order, value_order, policy_order = orders\n",
    "        trans_drop, value_drop, policy_drop = dropouts\n",
    "        self.num_value_toks, d_toks, m_toks = class_tokens\n",
    "        self.num_policy_toks = d_toks + m_toks\n",
    "        \n",
    "        self.sr_d_emb = np.sqrt(d_emb)\n",
    "        \n",
    "        self.table_emb = nn.Embedding(31, d_emb)\n",
    "        self.dice_emb = nn.Embedding(6, d_emb)\n",
    "        \n",
    "        self.trans_encoder = nn.ModuleList()\n",
    "        for d_hid, heads in trans_order:\n",
    "            self.trans_encoder.append(Encoder_layer(d_emb, d_hid, hidden_mult, heads, trans_drop))\n",
    "        \n",
    "        self.value_encoder = nn.ModuleList()\n",
    "        for d_hid, heads in value_order:\n",
    "            self.value_encoder.append(Encoder_layer(d_emb, d_hid, hidden_mult, heads, value_drop))\n",
    "            \n",
    "        self.policy_encoder = nn.ModuleList()\n",
    "        for d_hid, heads in policy_order:\n",
    "            self.policy_encoder.append(Encoder_layer(d_emb, d_hid, hidden_mult, heads, policy_drop))\n",
    "        \n",
    "        self.trans_pe = nn.Parameter(torch.rand(seq_length, d_emb))\n",
    "        \n",
    "        self.value_pe = nn.Parameter(torch.rand(seq_length + self.num_value_toks, d_emb))\n",
    "        self.value_token = nn.Parameter(torch.rand(self.num_value_toks, d_emb))\n",
    "        \n",
    "        self.policy_pe = nn.Parameter(torch.rand(seq_length + 2 + self.num_policy_toks, d_emb))\n",
    "        self.policy_token = nn.Parameter(torch.rand(self.num_policy_toks, d_emb))\n",
    "        \n",
    "        \n",
    "        self.value_out = nn.Sequential(\n",
    "            nn.Linear(self.num_value_toks * d_emb, 1),\n",
    "            nn.Tanh()\n",
    "        )\n",
    "        self.policy_out = nn.Linear(self.num_policy_toks * d_emb, 52)\n",
    "                \n",
    "        self.weights_init()\n",
    "        \n",
    "    def weights_init(self):\n",
    "        for m in self.modules():\n",
    "            if isinstance(m, nn.Linear):\n",
    "                torch.nn.init.xavier_uniform_(m.weight, gain = nn.init.calculate_gain('relu'))\n",
    "                #m.bias.data.fill_(0.01)\n",
    "    \n",
    "    def forward(self, x):\n",
    "        t = x[..., :-2] + 15\n",
    "        d = x[..., -2:]\n",
    "        batch = d.size(0)\n",
    "        \n",
    "        t = self.table_emb(t)\n",
    "        t = t * self.sr_d_emb + self.trans_pe\n",
    "        for enc in self.trans_encoder:\n",
    "            t = enc(t)\n",
    "        \n",
    "        value_tokens = repeat(self.value_token, 's e -> b s e', b = batch)\n",
    "        v = torch.cat((value_tokens, t), dim = 1)\n",
    "        v = v * self.sr_d_emb + self.value_pe\n",
    "        for enc in self.value_encoder:\n",
    "            v = enc(v)\n",
    "        v = v[:, :self.num_value_toks]\n",
    "        v = rearrange(v, '... s e -> ... (s e)')\n",
    "        v = self.value_out(v)\n",
    "        \n",
    "        d = self.dice_emb(d)\n",
    "        policy_tokens = repeat(self.policy_token, 's e -> b s e', b = batch)\n",
    "        p = torch.cat((policy_tokens, d, t), dim = 1)\n",
    "        p = p * self.sr_d_emb + self.policy_pe\n",
    "        for enc in self.policy_encoder:\n",
    "            p = enc(p)\n",
    "        p = p[:, :self.num_policy_toks]\n",
    "        p = rearrange(p, '... s e -> ... (s e)')\n",
    "        p = self.policy_out(p)\n",
    "        d = p[:, :2]\n",
    "        m1 = p[:, 2 : -25]\n",
    "        m2 = p[:, -25:]\n",
    "        return v, d, m1, m2"
   ]
  },
  {
   "cell_type": "code",
   "execution_count": null,
   "id": "f954dc7f-1c99-43a2-a802-9f78d70cb3f8",
   "metadata": {},
   "outputs": [],
   "source": []
  },
  {
   "cell_type": "markdown",
   "id": "6a3eb7c6-caba-459e-8e21-fcf8b14aaff6",
   "metadata": {
    "tags": []
   },
   "source": [
    "# MCTS"
   ]
  },
  {
   "cell_type": "markdown",
   "id": "a1e22eeb-fffd-4475-a4f7-fed2d1f05f6e",
   "metadata": {
    "tags": []
   },
   "source": [
    "## Node"
   ]
  },
  {
   "cell_type": "code",
   "execution_count": 6,
   "id": "4ac9fd69-b6aa-4057-af1f-cb57d3f8f788",
   "metadata": {},
   "outputs": [],
   "source": [
    "# one node, one view\n",
    "class Node():\n",
    "    def __init__(self):\n",
    "        self.home_cells = {6 : 18, 5 : 19, 4 : 20, 3 : 21, 2 : 22, 1 : 23}\n",
    "        self.table = np.zeros(24, dtype = int)\n",
    "        self.table[0] = 15\n",
    "        self.table[12] = -15\n",
    "        self.mine = {0}\n",
    "        self.his = {12}\n",
    "        self.phase = 0  # 0/1/2 -- game/house/done\n",
    "        \n",
    "        self.looser = False\n",
    "        self.value = None\n",
    "        self.dice = None\n",
    "        self.actions = None\n",
    "        self.prior = 0\n",
    "        self.visits_count = 0\n",
    "        self.value_sum = 0\n",
    "        self.children = []\n",
    "    \n",
    "    def copy(self):\n",
    "        new_node = Node()\n",
    "        new_node.table = self.table.copy()\n",
    "        new_node.mine = self.mine.copy()\n",
    "        new_node.his = self.his.copy()\n",
    "        new_node.phase = self.phase\n",
    "        return new_node\n",
    "    \n",
    "    def flip_the_table(self):\n",
    "        new_node = Node()\n",
    "        tempo = [-x for x in self.table]\n",
    "        new_node.table = np.asarray(tempo[12:] + tempo[:12])\n",
    "        # new_node.mine = {(x + 12) % 24 for x in self.his}\n",
    "        # new_node.his = {(x + 12) % 24 for x in self.mine}\n",
    "        new_node.mine_his()\n",
    "        new_node.update_phase()\n",
    "        new_node.looser = self.phase == 2\n",
    "        return new_node\n",
    "    \n",
    "    def mine_his(self):\n",
    "        self.mine = set()\n",
    "        self.his = set()\n",
    "        for i, s in enumerate(self.table):\n",
    "            if s < 0:\n",
    "                self.his.add(i)\n",
    "            elif s > 0:\n",
    "                self.mine.add(i)\n",
    "    \n",
    "    def update_table(self, action, die):\n",
    "        if action != 24:\n",
    "            die += 1\n",
    "            destination = action + die\n",
    "            self.table[action] -= 1\n",
    "            if destination < 24:\n",
    "                self.table[destination] += 1\n",
    "            self.mine_his()\n",
    "            self.update_phase()\n",
    "        #return self.phase == 2\n",
    "    \n",
    "    def update_phase(self):\n",
    "        if not self.mine:\n",
    "            self.phase = 2\n",
    "            return\n",
    "        condition = lambda x : x > 17\n",
    "        if all(condition(x) for x in self.mine):\n",
    "            self.phase = 1\n",
    "            return\n",
    "        self.phase = 0\n",
    "    \n",
    "    def get_legal_actions(self, die, flag_head):\n",
    "        die += 1\n",
    "        legal_actions = np.zeros(25)\n",
    "        if self.phase == 1:\n",
    "            flag_out = True\n",
    "            tempo_actions = []\n",
    "            for p in range(6, die - 1, -1):\n",
    "                if self.home_cells[p] in self.mine:\n",
    "                    tempo_actions.append(p)\n",
    "                    flag_out = False\n",
    "            if flag_out:\n",
    "                legal_actions[list(self.mine)] = 1\n",
    "            else:\n",
    "                for p in tempo_actions:\n",
    "                    if (self.home_cells[p] + die > 23) or (self.home_cells[p - die] not in self.his):\n",
    "                        legal_actions[self.home_cells[p]] = 1\n",
    "        elif self.phase == 0:\n",
    "            for p in self.mine:\n",
    "                destination = p + die\n",
    "                if (destination < 24) and (destination not in self.his):\n",
    "                    if destination < 12 and destination not in self.mine:\n",
    "                        new_mine = self.mine | {destination}\n",
    "                        if not self.check_mars(new_mine):\n",
    "                            legal_actions[p] = 1\n",
    "                    else:\n",
    "                        legal_actions[p] = 1\n",
    "            if flag_head:\n",
    "                legal_actions[0] = 0\n",
    "        return legal_actions.astype(bool)\n",
    "    \n",
    "    def check_mars(self, new_mine):\n",
    "        n = 6\n",
    "        mars_end = 0\n",
    "        for i in range(7):\n",
    "            if all(j in new_mine for j in range(i, i + n)):\n",
    "                mars_end = i + n\n",
    "        if mars_end:\n",
    "            for i in range(mars_end, 12):\n",
    "                if i in self.his:\n",
    "                    return False\n",
    "            return True\n",
    "        return False\n",
    "    \n",
    "    def to_probs(self, v, d, m1, m2):\n",
    "        d = F.softmax(d, dim = -1).numpy()\n",
    "        m1 = F.softmax(m1, dim = -1).numpy()\n",
    "        m2 = F.softmax(m2, dim = -1).numpy()\n",
    "        return v[0], d, m1, m2\n",
    "    \n",
    "    def expand_evaluate(self, agent, dice):\n",
    "        if self.looser:\n",
    "            return -1\n",
    "        #dice = self.check_dice(dice)\n",
    "        value, d, m1, m2 = agent.calculate(self.table, dice)\n",
    "        value, pd, pm1, pm2 = self.to_probs(value, d, m1, m2)\n",
    "        for d, d1 in enumerate(dice):\n",
    "            d2 = dice[d ^ 1]\n",
    "            mask_1 = self.get_legal_actions(d1, False)\n",
    "            if mask_1.sum() > 0:\n",
    "                moves_1 = actions_index[mask_1]\n",
    "            else:\n",
    "                continue\n",
    "            for m1 in moves_1:\n",
    "                tempo_node = self.copy()\n",
    "                tempo_node.update_table(m1, d1)\n",
    "                if tempo_node.phase == 2:\n",
    "                    m2 = 24\n",
    "                    final_node = tempo_node.flip_the_table()\n",
    "                    final_node.dice = dice\n",
    "                    final_node.actions = d, m1, m2\n",
    "                    final_node.prior = pd[d] * pm1[m1] * pm2[m2]\n",
    "                    self.children.append(final_node)\n",
    "                    continue\n",
    "                mask_2 = tempo_node.get_legal_actions(d2, m1 == 0)\n",
    "                if mask_2.sum() > 0:\n",
    "                    moves_2 = actions_index[mask_2]\n",
    "                else:\n",
    "                    moves_2 = [24]\n",
    "                for m2 in moves_2:\n",
    "                    final_node = tempo_node.copy()\n",
    "                    final_node.update_table(m2, d2)\n",
    "                    final_node = final_node.flip_the_table()\n",
    "                    final_node.dice = dice\n",
    "                    final_node.actions = d, m1, m2\n",
    "                    final_node.prior = pd[d] * pm1[m1] * pm2[m2]\n",
    "                    self.children.append(final_node)\n",
    "        if len(self.children) == 0:\n",
    "            m1 = m2 = 24\n",
    "            final_node = self.flip_the_table()\n",
    "            final_node.dice = dice\n",
    "            final_node.actions = 0, m1, m2\n",
    "            final_node.prior = pd[d] * pm1[m1] * pm2[m2]\n",
    "            self.children.append(final_node)\n",
    "        return value\n",
    "    \n",
    "    def expanded(self):\n",
    "        return len(self.children)\n",
    "    \n",
    "    def UCB(self, global_visits, c):\n",
    "        if self.visits_count:\n",
    "            av = -self.value_sum / self.visits_count\n",
    "            return av + c * self.prior * np.sqrt(np.log(global_visits) / (1 + self.visits_count))\n",
    "        else:\n",
    "            return np.inf\n",
    "    \n",
    "    def select_child(self, global_visits, c):\n",
    "        max_value = -np.inf\n",
    "        selected_child = None\n",
    "        for child in self.children:\n",
    "            value = child.UCB(global_visits, c)\n",
    "            if value > max_value:\n",
    "                max_value = value\n",
    "                selected_child = child\n",
    "        return selected_child\n",
    "    \n",
    "    def print_table(self):\n",
    "        row_format = '{:>6}' * 13\n",
    "        print(row_format.format('', *self.table[11::-1]))\n",
    "        print(row_format.format('', *self.table[12:]))"
   ]
  },
  {
   "cell_type": "code",
   "execution_count": null,
   "id": "c8be3f2a-f661-4c01-b4bc-9c7d24edeacb",
   "metadata": {},
   "outputs": [],
   "source": []
  },
  {
   "cell_type": "markdown",
   "id": "06db6706-692f-42a0-9395-bcc8ccf170ad",
   "metadata": {
    "jp-MarkdownHeadingCollapsed": true,
    "tags": []
   },
   "source": [
    "## mcts"
   ]
  },
  {
   "cell_type": "code",
   "execution_count": 7,
   "id": "0d1a800f-52d9-431b-8d3e-51650ae2d3c7",
   "metadata": {},
   "outputs": [],
   "source": [
    "class MCTS:\n",
    "    def __init__(self, c):\n",
    "        self.root = None\n",
    "        self.dice = None\n",
    "        self.c = c  #UCB constant\n",
    "    \n",
    "    def load(self, node, dice):\n",
    "        self.root = node.copy()\n",
    "        #dice = self.root.check_dice(dice)\n",
    "        self.dice = dice\n",
    "    \n",
    "    def run(self, agent, iterations):\n",
    "        _ = self.root.expand_evaluate(agent, self.dice)\n",
    "        for i in range(iterations):\n",
    "            node = self.root\n",
    "            search_path = []\n",
    "            while node.expanded():\n",
    "                node = node.select_child(i, self.c)\n",
    "                search_path.append(node)\n",
    "            value = node.expand_evaluate(agent, roll())\n",
    "            self.backpropagation(search_path, value)\n",
    "    \n",
    "    def backpropagation(self, search_path, value):\n",
    "        for node in reversed(search_path):\n",
    "            node.value_sum += value\n",
    "            node.visits_count += 1\n",
    "            value = -value\n",
    "    \n",
    "    def best_actions(self):\n",
    "        max_visits = -np.inf\n",
    "        final_actions = None\n",
    "        for child in self.root.children:\n",
    "            if child.visits_count > max_visits:\n",
    "                max_visits = child.visits_count\n",
    "                final_actions = child.actions\n",
    "        return final_actions"
   ]
  },
  {
   "cell_type": "code",
   "execution_count": null,
   "id": "851b91cf-a270-4740-aa6f-ee5baebeddaf",
   "metadata": {},
   "outputs": [],
   "source": []
  },
  {
   "cell_type": "markdown",
   "id": "0238b352-8696-41b2-88d8-e33f4ea51365",
   "metadata": {
    "tags": []
   },
   "source": [
    "# Agents"
   ]
  },
  {
   "cell_type": "markdown",
   "id": "758df896-8c2a-457a-8a24-26d218c16f2c",
   "metadata": {
    "jp-MarkdownHeadingCollapsed": true,
    "tags": []
   },
   "source": [
    "## main agent"
   ]
  },
  {
   "cell_type": "code",
   "execution_count": 34,
   "id": "29e716d5-b09d-4207-96cd-cafbded14e13",
   "metadata": {},
   "outputs": [],
   "source": [
    "class Agent():\n",
    "    def __init__(self, model, model_hp, device):\n",
    "        super().__init__()\n",
    "        self.net = model(model_hp).to(device)\n",
    "        self.criterion_value = None\n",
    "        self.criterion_policy = None\n",
    "        self.optimizer = None\n",
    "        \n",
    "        self.memory_size = 2**13\n",
    "        self.buffer_size = 2**7\n",
    "        self.rep_memory = deque(maxlen = self.memory_size) #[2 dice,  24 table cells], size 26\n",
    "        self.act_memory = deque(maxlen = self.memory_size) #[die, move1, move1]\n",
    "        self.val_memory = deque(maxlen = self.memory_size) # [-1 to 1]\n",
    "        self.states_count = 0\n",
    "        \n",
    "        self.games_played = 0\n",
    "        self.loss = []\n",
    "    \n",
    "    def reset(self):\n",
    "        self.rep_memory.clear()\n",
    "        self.act_memory.clear()\n",
    "        self.val_memory.clear()\n",
    "    \n",
    "    def update_rep_memory(self, table, dice):\n",
    "        self.rep_memory.append(np.concatenate((table, dice)))\n",
    "    def update_act_memory(self, d, m1, m2):\n",
    "        self.act_memory.append([d, m1, m2])\n",
    "    def update_val_memory(self, value):\n",
    "        val_mem = []\n",
    "        for i in range(self.states_count):\n",
    "            val_mem.append(value)\n",
    "            value = -value\n",
    "        self.states_count = 0\n",
    "        val_mem.reverse()\n",
    "        self.val_memory.extend(val_mem)\n",
    "        \n",
    "    # game_length_reward\n",
    "    # def update_val_memory(self):\n",
    "    #     def func(x):\n",
    "    #         return 30 / (x + 2)\n",
    "    #     val_mem = []\n",
    "    #     c = 1\n",
    "    #     for i in range(1, self.states_count + 1):\n",
    "    #         val_mem.append(c * func(i))\n",
    "    #         c = -c\n",
    "    #     val_mem.reverse()\n",
    "    #     self.val_memory.extend(val_mem)\n",
    "            \n",
    "    \n",
    "    def memory_not_full(self):\n",
    "        return len(self.val_memory) < self.memory_size\n",
    "        \n",
    "    def num_parameters(self):\n",
    "        n = sum(p.numel() for p in self.net.parameters() if p.requires_grad)\n",
    "        print('number of parameters:', n)\n",
    "        \n",
    "    def calculate(self, table, dice):\n",
    "        x = np.concatenate((table, dice))\n",
    "        x = torch.LongTensor(x).to(device)\n",
    "        x = x.unsqueeze(0)\n",
    "        self.net.eval()\n",
    "        with torch.no_grad():\n",
    "            v, d, m1, m2 = self.net(x)\n",
    "        return v.detach().cpu()[0], d.detach().cpu()[0], m1.detach().cpu()[0], m2.detach().cpu()[0]\n",
    "    \n",
    "    def print_replay_memory(self, num_turns):\n",
    "        row_format = '{:>6}' * 13\n",
    "        for i in range(len(self.rep_memory) - num_turns , len(self.rep_memory)):\n",
    "            print(self.rep_memory[i][-2:] + 1)\n",
    "            print(self.act_memory[i])\n",
    "            print(self.val_memory[i])\n",
    "            print(row_format.format('', *self.rep_memory[i][11::-1]))\n",
    "            print(row_format.format('', *self.rep_memory[i][12:24]))\n",
    "            print()\n",
    "    \n",
    "    def train_the_agent(self, epochs):\n",
    "        self.net.train()\n",
    "        for epoch in range(epochs):\n",
    "            indices = np.random.choice(range(len(self.val_memory)), self.buffer_size, replace = False)\n",
    "            # Retrieve corresponding elements using the sampled indices\n",
    "            states = [self.rep_memory[i] for i in indices]\n",
    "            states = torch.tensor(np.vstack(states)).to(device)\n",
    "            actions = [self.act_memory[i] for i in indices]\n",
    "            actions = torch.tensor(actions).to(device)\n",
    "            values = [self.val_memory[i] for i in indices]\n",
    "            values = torch.tensor(values).to(device)\n",
    "\n",
    "            v, d, m1, m2 = self.net(states)\n",
    "            v = torch.squeeze(v)\n",
    "            \n",
    "            loss_v = self.criterion_value(v, values.float())\n",
    "            loss_d = self.criterion_policy(d, actions[:, 0])\n",
    "            loss_m1 = self.criterion_policy(m1, actions[:, 1])\n",
    "            loss_m2 = self.criterion_policy(m2, actions[:, 2])\n",
    "            loss = loss_v + loss_d + loss_m1 + loss_m2\n",
    "            self.optimizer.zero_grad()\n",
    "            loss.backward()\n",
    "            self.optimizer.step()\n",
    "            self.loss.append(loss.item())"
   ]
  },
  {
   "cell_type": "code",
   "execution_count": null,
   "id": "2a8e736b-fc90-4271-9050-865b330081c6",
   "metadata": {},
   "outputs": [],
   "source": []
  },
  {
   "cell_type": "markdown",
   "id": "14393545-3e27-4259-b6c8-e53698dc5d19",
   "metadata": {
    "jp-MarkdownHeadingCollapsed": true,
    "tags": []
   },
   "source": [
    "## Other agents"
   ]
  },
  {
   "cell_type": "code",
   "execution_count": null,
   "id": "2b8f19ab-bbe1-4f53-9f73-f59827ad3066",
   "metadata": {},
   "outputs": [],
   "source": [
    "    def train_the_agent(self, epochs, gamma, update_interval):\n",
    "        self.q_network.train()\n",
    "        #self.t_network.eval()\n",
    "        for epoch in range(epochs):\n",
    "            indices = np.random.choice(range(self.memory_size - 1), self.buffer_size, replace = False)\n",
    "            # Retrieve corresponding elements using the sampled indices\n",
    "            states = [self.rep_memory[i] for i in indices]\n",
    "            states = torch.tensor(np.vstack(states)).to(device)\n",
    "            next_states = [self.rep_memory[i + 1] for i in indices]\n",
    "            next_states = torch.tensor(np.vstack(next_states)).to(device)\n",
    "            actions = [self.act_memory[i] for i in indices]\n",
    "            actions = torch.tensor(actions).to(device)\n",
    "            rewards = [self.rew_memory[i] for i in indices]\n",
    "            rewards = torch.tensor(rewards).to(device)\n",
    "            done = torch.eq(rewards, -1).int().to(device)\n",
    "\n",
    "            d, m1, m2 = self.q_network(states)\n",
    "            q_d_values = d.gather(1, actions[:, 0].unsqueeze(1)).squeeze(1)\n",
    "            q_m1_values = m1.gather(1, actions[:, 1].unsqueeze(1)).squeeze(1)\n",
    "            q_m2_values = m2.gather(1, actions[:, 1].unsqueeze(1)).squeeze(1)\n",
    "\n",
    "            d, m1, m2 = self.t_network(next_states)\n",
    "            t_d_values = rewards + done * gamma * d.max(1)[0]\n",
    "            t_m1_values = rewards + done * gamma * m1.max(1)[0]\n",
    "            t_m2_values = rewards + done * gamma * m2.max(1)[0]\n",
    "\n",
    "            loss = self.criterion(torch.cat((q_d_values, q_m1_values, q_m2_values)), \n",
    "                                  torch.cat((t_d_values, t_m1_values, t_m2_values)))\n",
    "            self.optimizer.zero_grad()\n",
    "            loss.backward()\n",
    "            self.optimizer.step()\n",
    "            self.loss.append(loss.item())\n",
    "\n",
    "            if epoch % update_interval == 0:\n",
    "                self.t_network.load_state_dict(self.q_network.state_dict())"
   ]
  },
  {
   "cell_type": "code",
   "execution_count": 18,
   "id": "553e2dfd-e5fb-4e03-b511-ea4a57963e2e",
   "metadata": {},
   "outputs": [],
   "source": [
    "class Agent_h():\n",
    "    def __init__(self):\n",
    "        super().__init__()\n",
    "        self.node = Node()\n",
    "        self.dice = None\n",
    "        self.dice_index = np.arange(2)\n",
    "        self.actions_index = np.arange(25)\n",
    "        self.flag_winner = False\n",
    "        \n",
    "        self.memory_size = 2**13\n",
    "        \n",
    "        self.rep_memory = deque(maxlen = self.memory_size) #[2 dice,  24 table cells], size 26\n",
    "        self.act_memory = deque(maxlen = self.memory_size) #[die, move1, move1]\n",
    "        self.rew_memory = deque(maxlen = self.memory_size)\n",
    "        self.games_played = 0\n",
    "    \n",
    "    def refresh(self, reset = False):\n",
    "        self.node = Node()\n",
    "        self.dice = None\n",
    "        self.flag_winner = False\n",
    "        if reset:\n",
    "            self.rep_memory = []\n",
    "            self.act_memory = []\n",
    "            self.rew_memory = []\n",
    "    \n",
    "    def roll(self):\n",
    "        self.dice = list(np.random.randint(6, size = 2))\n",
    "    \n",
    "    def update_rep_memory(self):\n",
    "        self.rep_memory.append(np.concatenate((self.dice , self.node.table)))\n",
    "    def update_act_memory(self, d, m1, m2):\n",
    "        self.act_memory.append([d, m1, m2])\n",
    "    def update_rew_memory(self):\n",
    "        self.rew_memory.append(-1)\n",
    "    \n",
    "    def memory_not_full(self):\n",
    "        return len(self.rew_memory) != self.memory_size\n",
    "        \n",
    "    def print_replay_memory(self, num_turns):\n",
    "        row_format = '{:>6}' * 13\n",
    "        for i in range(len(self.rep_memory) - num_turns , len(self.rep_memory)):\n",
    "            print(row_format.format('', *self.rep_memory[i][13:1:-1]))\n",
    "            print(row_format.format('', *self.rep_memory[i][14:]))\n",
    "            print(self.rep_memory[i][:2] + 1)\n",
    "            print(self.act_memory[i])\n",
    "            print(self.rew_memory[i])\n",
    "            print()"
   ]
  },
  {
   "cell_type": "code",
   "execution_count": null,
   "id": "075532b4-8ede-431b-896b-6ad7c59cf09f",
   "metadata": {},
   "outputs": [],
   "source": []
  },
  {
   "cell_type": "markdown",
   "id": "789e9e8b-79b5-4f5e-8896-c5c43568edd6",
   "metadata": {
    "tags": []
   },
   "source": [
    "# Functinos"
   ]
  },
  {
   "cell_type": "markdown",
   "id": "7e58de32-6034-4ca5-8609-39a682711f6c",
   "metadata": {
    "jp-MarkdownHeadingCollapsed": true,
    "tags": []
   },
   "source": [
    "## new"
   ]
  },
  {
   "cell_type": "code",
   "execution_count": 9,
   "id": "e8d0a470-88a9-4b0a-b608-a57fd49210da",
   "metadata": {},
   "outputs": [],
   "source": [
    "def roll():\n",
    "    return list(np.random.randint(6, size = 2))"
   ]
  },
  {
   "cell_type": "code",
   "execution_count": 10,
   "id": "484edaec-f514-4c58-84de-fe8688dc1ace",
   "metadata": {},
   "outputs": [],
   "source": [
    "def turn(agent, node, mcts, iterations):\n",
    "    node = node.flip_the_table()\n",
    "    dice = roll()\n",
    "    mcts.load(node, dice)\n",
    "    mcts.run(agent, iterations)\n",
    "    d, m1, m2 = mcts.best_actions()\n",
    "    agent.update_rep_memory(node.table, dice)\n",
    "    agent.states_count += 1\n",
    "\n",
    "    d1 = dice[d]\n",
    "    d2 = dice[d ^ 1]\n",
    "    \n",
    "    if m1 != 24:\n",
    "        node.update_table(m1, d1)\n",
    "        if node.phase == 2:\n",
    "            agent.update_act_memory(d, m1, m2)\n",
    "            return node\n",
    "    if m2 != 24:\n",
    "        node.update_table(m2, d2)\n",
    "    agent.update_act_memory(d, m1, m2)\n",
    "    return node"
   ]
  },
  {
   "cell_type": "code",
   "execution_count": 11,
   "id": "d940afa7-c58c-4967-8878-5e4be0c85839",
   "metadata": {},
   "outputs": [],
   "source": [
    "def turn_with_print(agent, node, mcts, iterations):\n",
    "    node = node.flip_the_table()\n",
    "    dice = roll()\n",
    "    #print(node.mine, node.his)\n",
    "    node.print_table()\n",
    "    print(' ' * 36, dice[0] + 1, dice[1] + 1)\n",
    "    mcts.load(node, dice)\n",
    "    mcts.run(agent, iterations)\n",
    "    d, m1, m2 = mcts.best_actions()\n",
    "    \n",
    "    d1 = dice[d]\n",
    "    d2 = dice[d ^ 1]\n",
    "    \n",
    "    if m1 == 24:\n",
    "        print('1st', 'no legal turns')\n",
    "    else:\n",
    "        node.update_table(m1, d1)\n",
    "        print('1st', m1, d1 + 1)\n",
    "    node.print_table()\n",
    "    if node.phase == 2:\n",
    "        print('Done')\n",
    "        #print(node.mine, node.his)\n",
    "        return node\n",
    "    \n",
    "    if m2 == 24:\n",
    "        print('2nd', 'no legal turns')\n",
    "    else:\n",
    "        node.update_table(m2, d2)\n",
    "        print('2nd', m2, d2 + 1)\n",
    "    node.print_table()\n",
    "    if node.phase == 2:\n",
    "        print('Done')\n",
    "    else:\n",
    "        print('phase:', node.phase)\n",
    "    #print(node.mine, node.his)\n",
    "    return node"
   ]
  },
  {
   "cell_type": "code",
   "execution_count": 12,
   "id": "e7000c5c-3f7b-4b9f-9724-885e6afbb45e",
   "metadata": {},
   "outputs": [],
   "source": [
    "def decay(n, max_iterations, decay_rate):\n",
    "    return max_iterations * np.exp(-decay_rate * n)\n",
    "\n",
    "def session(agent, mcts, max_iterations, decay_rate):\n",
    "    node = Node()\n",
    "    n = 0\n",
    "    while node.phase != 2:\n",
    "        iterations = int(decay(n, max_iterations, decay_rate))\n",
    "        node = turn(agent, node, mcts, iterations)\n",
    "        n += 1\n",
    "    agent.update_val_memory(1)\n",
    "    agent.games_played += 1"
   ]
  },
  {
   "cell_type": "code",
   "execution_count": 13,
   "id": "0100eccd-b61b-4039-bff1-921655ccc819",
   "metadata": {},
   "outputs": [],
   "source": [
    "def collect_and_train(agent, num_sessions, train_interval, epochs, mcts, iterations, decay, save = True):\n",
    "    start_time = dt.now()\n",
    "    loss = 0\n",
    "    if len(agent.loss):\n",
    "        loss = np.mean(agent.loss[-50:])\n",
    "    for i in range(1, num_sessions + 1):\n",
    "        if i % train_interval == 0:\n",
    "            agent.train_the_agent(epochs)\n",
    "            loss = np.mean(agent.loss[-50:])\n",
    "            if save:\n",
    "                save_agent(agent)\n",
    "            \n",
    "        session(agent, mcts, iterations, decay)\n",
    "        \n",
    "        elapsed = dt.now() - start_time\n",
    "        ratio = i / num_sessions\n",
    "        secs = elapsed.seconds\n",
    "        printout = '\\r[%-16s] %d%%, sessions: %d, loss: %.3f, %02d:%02d:%02d:%02d'\n",
    "        print(printout % ('='*round(16 * ratio), round(100 * ratio), i, loss, elapsed.days, \n",
    "                          secs // 3600, secs // 60 % 60, secs % 60), end = '', flush = True)\n",
    "    #     sys.stdout.write(printout % ('='*round(16 * ratio), round(100 * ratio), i, loss,\n",
    "    #                                  elapsed.days, secs // 3600, secs // 60 % 60, secs % 60))\n",
    "    #     sys.stdout.flush()\n",
    "    # sys.stdout.write('\\n')\n",
    "    print('\\nDone')"
   ]
  },
  {
   "cell_type": "code",
   "execution_count": 14,
   "id": "43514df2-0642-474a-85ca-d4b785af90ed",
   "metadata": {},
   "outputs": [],
   "source": [
    "def save_agent(agent):\n",
    "    path = my_path + folder\n",
    "    if not os.path.exists(path):\n",
    "        os.makedirs(path)\n",
    "    torch.save(agent, path + file_name)"
   ]
  },
  {
   "cell_type": "markdown",
   "id": "5894e499-96f9-40db-b633-98fbc18ee555",
   "metadata": {
    "jp-MarkdownHeadingCollapsed": true,
    "tags": []
   },
   "source": [
    "## old"
   ]
  },
  {
   "cell_type": "code",
   "execution_count": 13,
   "id": "057144a4-f170-4277-8edc-324618b3e676",
   "metadata": {},
   "outputs": [],
   "source": [
    "def fill_the_replay_memory(agent, mcts, iterations):\n",
    "    start_time = dt.now()\n",
    "    while agent.memory_not_full():\n",
    "        session(agent, mcts, iterations)\n",
    "        if agent.games_played % 10 == 0:\n",
    "            elapsed = dt.now() - start_time\n",
    "            secs = elapsed.seconds\n",
    "            printout = '\\rsessions: %d, memory: %d, %02d:%02d:%02d:%02d'\n",
    "            sys.stdout.write(printout % (agent.games_played, len(agent.val_memory), \n",
    "                                         elapsed.days, secs // 3600, secs // 60 % 60, secs % 60))\n",
    "            sys.stdout.flush()\n",
    "    sys.stdout.write('\\n')"
   ]
  },
  {
   "cell_type": "code",
   "execution_count": 23,
   "id": "455388d3-15be-4753-ae99-592e91883b82",
   "metadata": {},
   "outputs": [],
   "source": [
    "def turn_a(agent, ag):\n",
    "    print(' ' * 36, 'Agent')\n",
    "    agent.node.print_table()\n",
    "    if agent.node.phase != 2:\n",
    "        agent.roll() # roll the dice\n",
    "        print(' ' * 36, agent.dice[0] + 1, agent.dice[1] + 1)\n",
    "        d, m1, m2 = agent.calculate()\n",
    "        d = F.softmax(d, dim = -1).numpy()\n",
    "        d = np.argmax(d)\n",
    "        d1 = agent.dice.pop(d)\n",
    "        d2 = agent.dice[0]\n",
    "        flag_head = False\n",
    "        mask = agent.node.get_legal_actions(d1, flag_head)\n",
    "        if mask.sum() > 0:\n",
    "            m1 = F.softmax(m1[mask], dim = -1).numpy()\n",
    "            m1 = np.argmax(m1)\n",
    "            m1 = actions_index[mask][m1]\n",
    "            agent.node.update_table(m1, d1, True)\n",
    "            ag.node.update_table(m1, d1, False)\n",
    "            agent.node.check_phase()\n",
    "            print('1st', m1, d1 + 1)\n",
    "            agent.node.print_table()\n",
    "        else:\n",
    "            m1 = 24\n",
    "            print('no legal moves')\n",
    "        if m1 == 0:\n",
    "            flag_head = True\n",
    "        mask = agent.node.get_legal_actions(d2, flag_head)\n",
    "        if mask.sum() > 0:\n",
    "            m2 = F.softmax(m2[mask], dim = -1).numpy()\n",
    "            m2 = np.argmax(m2)\n",
    "            m2 = actions_index[mask][m2]\n",
    "            agent.node.update_table(m2, d2, True)\n",
    "            ag.node.update_table(m2, d2, False)\n",
    "            agent.node.check_phase()\n",
    "            print('2nd', m2, d2 + 1)\n",
    "            agent.node.print_table()\n",
    "        else:\n",
    "            m2 = 24\n",
    "            print('no legal moves')\n",
    "        if agent.node.phase == 2:\n",
    "            agent.flag_winner = True\n",
    "    print('\\n')"
   ]
  },
  {
   "cell_type": "code",
   "execution_count": 24,
   "id": "86018e07-1be5-4213-b49e-10fd698e4486",
   "metadata": {},
   "outputs": [],
   "source": [
    "def turn_h(agent, ag):\n",
    "    print(' ' * 36, 'Human')\n",
    "    agent.node.print_table()\n",
    "    if agent.node.phase != 2:\n",
    "        agent.roll() # roll the dice\n",
    "        print(' ' * 36, agent.dice[0] + 1, agent.dice[1] + 1)\n",
    "        d = int(input('Pick your die: '))\n",
    "        d1 = agent.dice.pop(d)\n",
    "        d2 = agent.dice[0]\n",
    "        flag_head = False\n",
    "        mask = agent.node.get_legal_actions(d1, flag_head)\n",
    "        if mask.sum() > 0:\n",
    "            while True:\n",
    "                m1 = int(input('Move your piece: '))\n",
    "                if mask[m1]:\n",
    "                    agent.node.update_table(m1, d1, True)\n",
    "                    ag.node.update_table(m1, d1, False)\n",
    "                    agent.node.check_phase()\n",
    "                    print('1st', m1, d1 + 1)\n",
    "                    agent.node.print_table()\n",
    "                    break\n",
    "        else:\n",
    "            print('no legal moves')\n",
    "        if m1 == 0:\n",
    "            flag_head = True\n",
    "        mask = agent.node.get_legal_actions(d2, flag_head)\n",
    "        if mask.sum() > 0:\n",
    "            while True:\n",
    "                m2 = int(input('Move your piece: '))\n",
    "                if mask[m2]:\n",
    "                    agent.node.update_table(m2, d2, True)\n",
    "                    ag.node.update_table(m2, d2, False)\n",
    "                    agent.node.check_phase()\n",
    "                    print('2nd', m2, d2 + 1)\n",
    "                    agent.node.print_table()\n",
    "                    break\n",
    "        else:\n",
    "            print('no legal moves')\n",
    "        if agent.node.phase == 2:\n",
    "            agent.flag_winner = True\n",
    "    print('\\n')"
   ]
  },
  {
   "cell_type": "code",
   "execution_count": 25,
   "id": "642f9951-e729-45af-9056-6d569d9b4d1a",
   "metadata": {},
   "outputs": [],
   "source": [
    "def session_h(ag, hum, h_first = True):\n",
    "    ag.refresh(reset = False)\n",
    "    hum.refresh(reset = False)\n",
    "    if h_first:\n",
    "        while True:\n",
    "            turn_h(hum, ag)\n",
    "            if hum.flag_winner:\n",
    "                ag.rew_memory[-1] = -20\n",
    "                break\n",
    "            turn_a(ag, hum)\n",
    "            if ag.flag_winner:\n",
    "                ag.rew_memory[-1] = 20\n",
    "                break\n",
    "    else:\n",
    "        while True:\n",
    "            turn_a(ag, hum)\n",
    "            if ag.flag_winner:\n",
    "                ag.rew_memory[-1] = 20\n",
    "                break\n",
    "            turn_h(hum, ag)\n",
    "            if hum.flag_winner:\n",
    "                ag.rew_memory[-1] = -20\n",
    "                break"
   ]
  },
  {
   "cell_type": "code",
   "execution_count": null,
   "id": "65a18b7c-1375-4648-aebc-006daabf843e",
   "metadata": {},
   "outputs": [],
   "source": []
  },
  {
   "cell_type": "code",
   "execution_count": null,
   "id": "0e978b7e-f269-4997-b22e-f1c853cfcd23",
   "metadata": {},
   "outputs": [],
   "source": []
  },
  {
   "cell_type": "code",
   "execution_count": null,
   "id": "1cf126ee-a8b1-4ab5-9f90-59aa61135d32",
   "metadata": {},
   "outputs": [],
   "source": []
  },
  {
   "cell_type": "code",
   "execution_count": null,
   "id": "33e5f1fb-d38f-4893-9aed-78b8032363af",
   "metadata": {},
   "outputs": [],
   "source": []
  },
  {
   "cell_type": "code",
   "execution_count": null,
   "id": "b82cac11-d72c-4ed3-b0e0-116ccef5d394",
   "metadata": {},
   "outputs": [],
   "source": []
  },
  {
   "cell_type": "markdown",
   "id": "1250feee-0bf2-4414-ab2e-0a65353dc9c5",
   "metadata": {
    "jp-MarkdownHeadingCollapsed": true,
    "tags": []
   },
   "source": [
    "# Create agents"
   ]
  },
  {
   "cell_type": "code",
   "execution_count": 15,
   "id": "6dcbaace-067f-4bd0-a42d-9fab6470c6e3",
   "metadata": {},
   "outputs": [],
   "source": [
    "my_path = 'data/nardw/'"
   ]
  },
  {
   "cell_type": "code",
   "execution_count": 16,
   "id": "54e7d88f-baca-4272-8d35-e379898b5058",
   "metadata": {},
   "outputs": [
    {
     "name": "stdout",
     "output_type": "stream",
     "text": [
      "cuda\n"
     ]
    }
   ],
   "source": [
    "cuda_core = 0\n",
    "if torch.cuda.is_available():\n",
    "    torch.cuda.set_device(cuda_core)\n",
    "    device = torch.device('cuda')\n",
    "else:\n",
    "    device = torch.device('cpu')\n",
    "print(device)"
   ]
  },
  {
   "cell_type": "code",
   "execution_count": 17,
   "id": "bdcbcef2-7b40-49f0-a5ff-3e69f8700fd4",
   "metadata": {},
   "outputs": [],
   "source": [
    "#device = torch.device('cpu')"
   ]
  },
  {
   "cell_type": "code",
   "execution_count": 18,
   "id": "c54a6b88-03c6-448e-bfd2-c676e5568abd",
   "metadata": {},
   "outputs": [],
   "source": [
    "dice_index = np.arange(2)\n",
    "actions_index = np.arange(25)\n",
    "\n",
    "d_emb = 8\n",
    "seq_length = 24\n",
    "hidden_mult = 2\n",
    "\n",
    "trans_order = [(64, 8), (64, 8), (64, 8), (64, 8)]\n",
    "value_order = [(64, 8), (32, 4), (16, 2), (8, 1)]\n",
    "policy_order = [(64, 8), (32, 4), (16, 2), (8, 1)]\n",
    "# trans_order = [(32, 8), (32, 8)]\n",
    "# value_order = [(32, 8), (32, 8)]\n",
    "# policy_order = [(32, 8), (32, 8)]\n",
    "\n",
    "orders = trans_order, value_order, policy_order\n",
    "\n",
    "trans_drop = 0.0\n",
    "value_drop = 0.0\n",
    "policy_drop = 0.0\n",
    "dropouts = trans_drop, value_drop, policy_drop\n",
    "\n",
    "value_tokens = 1\n",
    "dice_tokens = 1\n",
    "moves_tokens = 2\n",
    "class_tokens = value_tokens, dice_tokens, moves_tokens\n",
    "\n",
    "lr = 0.0001"
   ]
  },
  {
   "cell_type": "code",
   "execution_count": null,
   "id": "1a73ebe5-36a3-46db-8037-64f752e780fc",
   "metadata": {},
   "outputs": [],
   "source": []
  },
  {
   "cell_type": "code",
   "execution_count": 19,
   "id": "5a29a68c-8652-4a4e-b207-1c1b0f2d578f",
   "metadata": {},
   "outputs": [],
   "source": [
    "flag_load = True\n",
    "folder = '20230629/'\n",
    "file_name = 'agent_.pth'"
   ]
  },
  {
   "cell_type": "code",
   "execution_count": 20,
   "id": "a0b3ca77-4eef-4e63-971c-ab825baaa0ca",
   "metadata": {},
   "outputs": [],
   "source": [
    "model_hp = d_emb, seq_length, hidden_mult, orders, dropouts, class_tokens\n",
    "model = Transformer"
   ]
  },
  {
   "cell_type": "code",
   "execution_count": 21,
   "id": "30aab82b-f4a4-4a96-87f0-938367058bf5",
   "metadata": {},
   "outputs": [],
   "source": [
    "if flag_load:\n",
    "    agent = torch.load(my_path + folder + file_name)\n",
    "else:\n",
    "    agent = Agent(model, model_hp, device)\n",
    "    agent.optimizer = torch.optim.AdamW(agent.net.parameters(), lr = lr)\n",
    "    agent.criterion_value = nn.MSELoss()\n",
    "    agent.criterion_policy = nn.CrossEntropyLoss()"
   ]
  },
  {
   "cell_type": "code",
   "execution_count": 22,
   "id": "b49ee637-06f2-46c4-8060-689bbab576e7",
   "metadata": {},
   "outputs": [
    {
     "name": "stdout",
     "output_type": "stream",
     "text": [
      "num of parameters: 21973\n"
     ]
    }
   ],
   "source": [
    "print('num of parameters:', sum(p.numel() for p in agent.net.parameters() if p.requires_grad))"
   ]
  },
  {
   "cell_type": "code",
   "execution_count": null,
   "id": "d460eb30-1508-44fd-954b-7f35bbf09ed5",
   "metadata": {},
   "outputs": [],
   "source": []
  },
  {
   "cell_type": "markdown",
   "id": "d6bae4e6-3d76-46d7-a1be-4620b408d813",
   "metadata": {
    "tags": []
   },
   "source": [
    "# Train the agent"
   ]
  },
  {
   "cell_type": "code",
   "execution_count": 165,
   "id": "3937e216-2eec-4e16-ad28-7ad2cbd4ce4d",
   "metadata": {},
   "outputs": [
    {
     "name": "stdout",
     "output_type": "stream",
     "text": [
      "sessions: 32\n",
      "train after each 8 sessions for 128 epochs\n",
      "Agent:\n",
      "replay memory size: 8192, buffer to train: 128\n",
      "MCTS:\n",
      "exploration constant = 1.4142135623730951\n",
      "max iterations: 256, decay rate: 0.025\n"
     ]
    }
   ],
   "source": [
    "num_sessions = 2**5\n",
    "train_interval = 2**3\n",
    "epochs = 2**7\n",
    "exploration_constant = np.sqrt(2)\n",
    "max_iterations, decay_rate = 2**8, 0.025 # MCTS iterations\n",
    "print('sessions:', num_sessions)\n",
    "print(f'train after each {train_interval} sessions for {epochs} epochs')\n",
    "print('Agent:')\n",
    "print(f'replay memory size: {agent.memory_size}, buffer to train: {agent.buffer_size}')\n",
    "print('MCTS:')\n",
    "print('exploration constant =', exploration_constant)\n",
    "print(f'max iterations: {max_iterations}, decay rate: {decay_rate}')"
   ]
  },
  {
   "cell_type": "code",
   "execution_count": 166,
   "id": "5f25a852-52fb-4ba0-b7db-edae73149f56",
   "metadata": {},
   "outputs": [],
   "source": [
    "mcts = MCTS(exploration_constant)"
   ]
  },
  {
   "cell_type": "code",
   "execution_count": null,
   "id": "56e17aa8-b771-4c48-ae71-87889c437f23",
   "metadata": {},
   "outputs": [
    {
     "name": "stdout",
     "output_type": "stream",
     "text": [
      "[========        ] 47%, sessions: 15, loss: 1.616, 00:00:26:01"
     ]
    }
   ],
   "source": [
    "collect_and_train(agent, num_sessions, train_interval, epochs, mcts, max_iterations, decay_rate)"
   ]
  },
  {
   "cell_type": "code",
   "execution_count": null,
   "id": "019fba8e-ba29-4c31-9d3d-f844b3c24828",
   "metadata": {},
   "outputs": [],
   "source": [
    "plt.plot(agent.loss)\n",
    "plt.show()"
   ]
  },
  {
   "cell_type": "code",
   "execution_count": null,
   "id": "8959a4d2-b733-4a8c-ba5d-8d91e857d689",
   "metadata": {},
   "outputs": [],
   "source": []
  },
  {
   "cell_type": "code",
   "execution_count": 95,
   "id": "a3c4ad7f-6f0d-42b2-905b-3794cde0e73f",
   "metadata": {},
   "outputs": [],
   "source": [
    "flag_save = False"
   ]
  },
  {
   "cell_type": "code",
   "execution_count": 96,
   "id": "29334ca4-0dd2-4b96-a371-9d1b026e9b4b",
   "metadata": {},
   "outputs": [],
   "source": [
    "if flag_save:\n",
    "    torch.save(agent, my_path + file_name)"
   ]
  },
  {
   "cell_type": "code",
   "execution_count": 286,
   "id": "9608b7d0-e60f-4708-8958-d2bd23aeb413",
   "metadata": {},
   "outputs": [],
   "source": [
    "# agent.net.eval()\n",
    "# for module in agent.net.modules():\n",
    "#     if isinstance(module, nn.Dropout):\n",
    "#         module.p = 0.0"
   ]
  },
  {
   "cell_type": "markdown",
   "id": "5e2b7381-32d4-40de-a940-af96428bf8d3",
   "metadata": {
    "tags": []
   },
   "source": [
    "# test session"
   ]
  },
  {
   "cell_type": "code",
   "execution_count": 78,
   "id": "fb2ffcec-1648-4e92-9b79-d20bcd3a5f69",
   "metadata": {},
   "outputs": [],
   "source": [
    "node = Node()\n",
    "#agent = Agent(model, model_hp, device)\n",
    "#mcts = MCTS(np.sqrt(2))\n",
    "n = 0"
   ]
  },
  {
   "cell_type": "code",
   "execution_count": 138,
   "id": "626de203-b889-4163-a407-d8d6289133c7",
   "metadata": {},
   "outputs": [
    {
     "name": "stdout",
     "output_type": "stream",
     "text": [
      "          -1     0     0     0     0     0     0     0     0     0     0     0\n",
      "           0     0     0     0     0     0     0     0     0     0     0     2\n",
      "                                     4 5\n",
      "1st 23 4\n",
      "          -1     0     0     0     0     0     0     0     0     0     0     0\n",
      "           0     0     0     0     0     0     0     0     0     0     0     1\n",
      "2nd 23 5\n",
      "          -1     0     0     0     0     0     0     0     0     0     0     0\n",
      "           0     0     0     0     0     0     0     0     0     0     0     0\n",
      "Done\n",
      "turn 57\n",
      "           0     0     0     0     0     0     0     0     0     0     0     0\n",
      "           0     0     0     0     0     0     0     0     0     0     0     1\n",
      "                                     4 6\n",
      "1st 23 4\n",
      "           0     0     0     0     0     0     0     0     0     0     0     0\n",
      "           0     0     0     0     0     0     0     0     0     0     0     0\n",
      "Done\n"
     ]
    }
   ],
   "source": [
    "iterations = int(decay(n, max_iterations, decay_rate))\n",
    "node = turn_with_print(agent, node, mcts, iterations)\n",
    "n += 1\n",
    "print('turn', n)\n",
    "node = turn_with_print(agent, node, mcts, iterations)"
   ]
  },
  {
   "cell_type": "code",
   "execution_count": 153,
   "id": "1455db7c-4d0c-4123-a778-60c0f2462411",
   "metadata": {},
   "outputs": [],
   "source": [
    "#session(agent, mcts, 100)"
   ]
  },
  {
   "cell_type": "code",
   "execution_count": 66,
   "id": "cac9bc04-99d1-4634-aecb-862b5490619a",
   "metadata": {},
   "outputs": [],
   "source": [
    "#agent.print_replay_memory(10)"
   ]
  },
  {
   "cell_type": "code",
   "execution_count": 139,
   "id": "5a5b263c-7bff-4453-b9b2-905b22bef775",
   "metadata": {},
   "outputs": [
    {
     "name": "stdout",
     "output_type": "stream",
     "text": [
      "57 31\n"
     ]
    }
   ],
   "source": [
    "print(n, iterations)"
   ]
  },
  {
   "cell_type": "code",
   "execution_count": 162,
   "id": "af67509a-5f9d-4f32-92d1-6c9959f4a6a7",
   "metadata": {},
   "outputs": [],
   "source": [
    "max_iterations, decay_rate = 256, 0.025"
   ]
  },
  {
   "cell_type": "code",
   "execution_count": 163,
   "id": "bff633fd-8524-4adb-bf4e-5b15ce36edf1",
   "metadata": {},
   "outputs": [],
   "source": [
    "iters = []\n",
    "for n in range(80):\n",
    "    it = int(max_iterations * np.exp(-decay_rate * n))\n",
    "    iters.append(it)"
   ]
  },
  {
   "cell_type": "code",
   "execution_count": 164,
   "id": "ad2e5240-a41b-4bce-9e89-4f87469155c4",
   "metadata": {},
   "outputs": [
    {
     "data": {
      "image/png": "[encoded data removed]",
      "text/plain": [
       "<Figure size 640x480 with 1 Axes>"
      ]
     },
     "metadata": {},
     "output_type": "display_data"
    }
   ],
   "source": [
    "plt.plot(iters)\n",
    "plt.show()"
   ]
  },
  {
   "cell_type": "code",
   "execution_count": null,
   "id": "556bd229-1ad4-4fcc-bf4d-f75d472894d1",
   "metadata": {},
   "outputs": [],
   "source": []
  },
  {
   "cell_type": "markdown",
   "id": "3fc3bc21-d69b-4895-9a05-8a6438c57efc",
   "metadata": {
    "jp-MarkdownHeadingCollapsed": true,
    "tags": []
   },
   "source": [
    "# H Session"
   ]
  },
  {
   "cell_type": "code",
   "execution_count": 403,
   "id": "b91bbe1a-0184-431b-89bb-11efe7e4112d",
   "metadata": {},
   "outputs": [],
   "source": [
    "hum = Agent_h()"
   ]
  },
  {
   "cell_type": "code",
   "execution_count": null,
   "id": "82abe579-667b-4e3a-8340-68cd149b1b9b",
   "metadata": {},
   "outputs": [],
   "source": [
    "session_h(ag_1, hum, h_first = True)"
   ]
  },
  {
   "cell_type": "code",
   "execution_count": null,
   "id": "ba8964c1-46f7-4c45-8eb4-39319014b7d2",
   "metadata": {},
   "outputs": [],
   "source": []
  },
  {
   "cell_type": "markdown",
   "id": "d3b9e46d-ac2d-4dba-a6bb-27b5d923dc39",
   "metadata": {
    "tags": []
   },
   "source": [
    "# WORKS"
   ]
  },
  {
   "cell_type": "code",
   "execution_count": 44,
   "id": "2712603f-b328-4557-91cd-fab932a6c91f",
   "metadata": {},
   "outputs": [],
   "source": [
    "indices = np.random.choice(range(len(agent.val_memory)), agent.buffer_size, replace = False)\n",
    "            # Retrieve corresponding elements using the sampled indices\n",
    "states = [agent.rep_memory[i] for i in indices]\n",
    "states = torch.tensor(np.vstack(states)).to(device)\n",
    "actions = [agent.act_memory[i] for i in indices]\n",
    "actions = torch.tensor(actions).to(device)\n",
    "values = [agent.val_memory[i] for i in indices]\n",
    "values = torch.tensor(values).to(device)"
   ]
  },
  {
   "cell_type": "code",
   "execution_count": 45,
   "id": "931d3e78-b3c3-40e5-b467-e0da92893cdf",
   "metadata": {},
   "outputs": [],
   "source": [
    "v, d, m1, m2 = agent.net(states)\n",
    "#v = torch.squeeze(v)"
   ]
  },
  {
   "cell_type": "code",
   "execution_count": 46,
   "id": "393c71c4-50e4-42ac-8749-a27e19fcb9c7",
   "metadata": {},
   "outputs": [
    {
     "ename": "TypeError",
     "evalue": "'NoneType' object is not callable",
     "output_type": "error",
     "traceback": [
      "\u001b[0;31m---------------------------------------------------------------------------\u001b[0m",
      "\u001b[0;31mTypeError\u001b[0m                                 Traceback (most recent call last)",
      "Cell \u001b[0;32mIn[46], line 1\u001b[0m\n\u001b[0;32m----> 1\u001b[0m loss_v \u001b[38;5;241m=\u001b[39m \u001b[43magent\u001b[49m\u001b[38;5;241;43m.\u001b[39;49m\u001b[43mcriterion_value\u001b[49m\u001b[43m(\u001b[49m\u001b[43mv\u001b[49m\u001b[43m,\u001b[49m\u001b[43m \u001b[49m\u001b[43mvalues\u001b[49m\u001b[38;5;241;43m.\u001b[39;49m\u001b[43mfloat\u001b[49m\u001b[43m(\u001b[49m\u001b[43m)\u001b[49m\u001b[43m)\u001b[49m\n",
      "\u001b[0;31mTypeError\u001b[0m: 'NoneType' object is not callable"
     ]
    }
   ],
   "source": [
    "loss_v = agent.criterion_value(v, values.float())"
   ]
  },
  {
   "cell_type": "code",
   "execution_count": 48,
   "id": "a870f154-c72b-4a8c-9c41-3010d00d3df0",
   "metadata": {},
   "outputs": [
    {
     "data": {
      "text/plain": [
       "tensor([-1.,  1.,  1.,  1.,  1.,  1., -1.,  1.,  1.,  1., -1., -1., -1., -1.,\n",
       "         1.,  1., -1.,  1.,  1.,  1., -1.,  1., -1.,  1.,  1.,  1.,  1.,  1.,\n",
       "        -1., -1.,  1.,  1.,  1.,  1., -1.,  1., -1.,  1.,  1.,  1., -1., -1.,\n",
       "        -1., -1.,  1.,  1., -1.,  1.,  1.,  1.,  1., -1., -1., -1., -1., -1.,\n",
       "         1.,  1.,  1., -1.,  1., -1.,  1., -1.,  1.,  1., -1., -1., -1.,  1.,\n",
       "         1., -1., -1.,  1., -1., -1.,  1., -1.,  1.,  1.,  1.,  1., -1., -1.,\n",
       "        -1.,  1.,  1., -1., -1., -1., -1.,  1., -1.,  1.,  1., -1.,  1., -1.,\n",
       "        -1., -1.,  1., -1., -1.,  1., -1.,  1., -1.,  1., -1., -1.,  1., -1.,\n",
       "         1., -1.,  1., -1.,  1., -1., -1.,  1.,  1., -1.,  1.,  1., -1.,  1.,\n",
       "        -1.,  1.], device='cuda:0')"
      ]
     },
     "execution_count": 48,
     "metadata": {},
     "output_type": "execute_result"
    }
   ],
   "source": []
  },
  {
   "cell_type": "code",
   "execution_count": null,
   "id": "ae539bc0-1bfb-468e-bf5d-a9b158c0fdb0",
   "metadata": {},
   "outputs": [],
   "source": []
  },
  {
   "cell_type": "code",
   "execution_count": null,
   "id": "3976ffd9-32b5-470d-a018-1948da173e20",
   "metadata": {},
   "outputs": [],
   "source": []
  },
  {
   "cell_type": "code",
   "execution_count": null,
   "id": "df0743c1-34f7-4ce7-83e0-3b858373a304",
   "metadata": {},
   "outputs": [],
   "source": []
  },
  {
   "cell_type": "code",
   "execution_count": null,
   "id": "e795ce8a-7fd0-4561-9a87-ba1aaaf149df",
   "metadata": {},
   "outputs": [],
   "source": []
  },
  {
   "cell_type": "code",
   "execution_count": 407,
   "id": "295a3450-2e12-4626-ad4c-043da6821c32",
   "metadata": {},
   "outputs": [],
   "source": [
    "def decay(n, max_iterations, decay_rate):\n",
    "    return max_iterations * np.exp(-decay_rate * n)\n",
    "my_arr = np.arange(64)"
   ]
  },
  {
   "cell_type": "code",
   "execution_count": 411,
   "id": "de90ebfc-c1b8-48e6-9c10-f224629307ba",
   "metadata": {},
   "outputs": [],
   "source": [
    "plot_arr = decay(my_arr, 512, 0.05)"
   ]
  },
  {
   "cell_type": "code",
   "execution_count": 412,
   "id": "f986d481-9245-4934-98af-201b0239eafd",
   "metadata": {},
   "outputs": [
    {
     "data": {
      "image/png": "[encoded data removed]",
      "text/plain": [
       "<Figure size 640x480 with 1 Axes>"
      ]
     },
     "metadata": {},
     "output_type": "display_data"
    }
   ],
   "source": [
    "plt.plot(plot_arr)\n",
    "plt.show()"
   ]
  },
  {
   "cell_type": "code",
   "execution_count": 410,
   "id": "9b1e122b-9f60-4d0b-a1dd-9f63992d1a39",
   "metadata": {},
   "outputs": [
    {
     "data": {
      "text/plain": [
       "array([512.        , 491.92419285, 472.63556935, 454.1032636 ,\n",
       "       436.29761995, 419.19014558, 402.75346487, 386.96127563,\n",
       "       371.78830698, 357.21027895, 343.20386357, 329.74664759,\n",
       "       316.8170966 , 304.39452056, 292.45904069, 280.99155768,\n",
       "       269.97372111, 259.38790009, 249.21715505, 239.44521063,\n",
       "       230.05642963, 221.035788  , 212.36885078, 204.04174904,\n",
       "       196.04115762, 188.35427388, 180.96879716, 173.87290913,\n",
       "       167.05525485, 160.50492461, 154.2114365 , 148.16471958,\n",
       "       142.35509783, 136.77327461, 131.4103178 , 126.25764554,\n",
       "       121.30701245, 116.55049645, 111.98048612, 107.58966845,\n",
       "       103.37101721,  99.31778165,  95.42347573,  91.68186773,\n",
       "        88.08697028,  84.63303077,  81.31452217,  78.12613415,\n",
       "        75.06276461,  72.11951151,  69.29166502,  66.57469997,\n",
       "        63.96426865,  61.4561938 ,  59.04646197,  56.73121708,\n",
       "        54.50675424,  52.36951384,  50.31607583,  48.34315428,\n",
       "        46.44759208,  44.62635595,  42.8765315 ,  41.19531866])"
      ]
     },
     "execution_count": 410,
     "metadata": {},
     "output_type": "execute_result"
    }
   ],
   "source": [
    "plot_arr"
   ]
  },
  {
   "cell_type": "code",
   "execution_count": 406,
   "id": "23ef7c46-114d-4d11-9314-0af6b1280ac5",
   "metadata": {},
   "outputs": [
    {
     "data": {
      "text/plain": [
       "array([ 0,  1,  2,  3,  4,  5,  6,  7,  8,  9, 10, 11, 12, 13, 14, 15, 16,\n",
       "       17, 18, 19, 20, 21, 22, 23, 24, 25, 26, 27, 28, 29, 30, 31, 32, 33,\n",
       "       34, 35, 36, 37, 38, 39, 40, 41, 42, 43, 44, 45, 46, 47, 48, 49, 50,\n",
       "       51, 52, 53, 54, 55, 56, 57, 58, 59, 60, 61, 62, 63])"
      ]
     },
     "execution_count": 406,
     "metadata": {},
     "output_type": "execute_result"
    }
   ],
   "source": [
    "my_arr"
   ]
  },
  {
   "cell_type": "code",
   "execution_count": null,
   "id": "436294db-cb26-46f0-884c-7c899f3e1319",
   "metadata": {},
   "outputs": [],
   "source": []
  },
  {
   "cell_type": "code",
   "execution_count": null,
   "id": "91643ab2-6412-4c53-b446-bcdb5c4b06cc",
   "metadata": {},
   "outputs": [],
   "source": []
  },
  {
   "cell_type": "code",
   "execution_count": 482,
   "id": "b7fd3024-3e98-4355-bed4-34bd0cd59213",
   "metadata": {},
   "outputs": [
    {
     "data": {
      "text/plain": [
       "0.014780882941434608"
      ]
     },
     "execution_count": 482,
     "metadata": {},
     "output_type": "execute_result"
    }
   ],
   "source": [
    "0.9**40"
   ]
  },
  {
   "cell_type": "code",
   "execution_count": 42,
   "id": "c5404201-11ea-4dee-97e9-3f6c16b45b4a",
   "metadata": {},
   "outputs": [],
   "source": [
    "logits = torch.tensor([8.2])\n",
    "targets = torch.tensor([0], dtype=torch.float)\n",
    "\n",
    "# Define the Binary Cross-Entropy With Logits Loss criterion\n",
    "criterion = nn.BCEWithLogitsLoss()\n",
    "\n",
    "# Compute the loss\n",
    "loss = criterion(logits, targets)"
   ]
  },
  {
   "cell_type": "code",
   "execution_count": 43,
   "id": "15fd88a6-2147-40c3-a9b5-15a07d19d84d",
   "metadata": {},
   "outputs": [
    {
     "data": {
      "text/plain": [
       "tensor(8.2003)"
      ]
     },
     "execution_count": 43,
     "metadata": {},
     "output_type": "execute_result"
    }
   ],
   "source": [
    "loss"
   ]
  },
  {
   "cell_type": "code",
   "execution_count": null,
   "id": "7252ce00-c547-452c-a0bb-3a2a0cfaa230",
   "metadata": {},
   "outputs": [],
   "source": []
  },
  {
   "cell_type": "code",
   "execution_count": null,
   "id": "97250bde-ca39-4ff7-b7c9-929d72a807f7",
   "metadata": {},
   "outputs": [],
   "source": []
  },
  {
   "cell_type": "code",
   "execution_count": null,
   "id": "9ad7ef97-b7b5-4d8a-8c72-33f6f78e3a08",
   "metadata": {},
   "outputs": [],
   "source": []
  },
  {
   "cell_type": "code",
   "execution_count": 488,
   "id": "1c580986-5ec6-456e-9d2d-4663a47d242e",
   "metadata": {},
   "outputs": [],
   "source": [
    "d = F.softmax(d, dim = -1).numpy()      \n",
    "        m1 = F.softmax(m1, dim = -1).numpy()\n",
    "        m2 = F.softmax(m2, dim = -1).numpy()"
   ]
  },
  {
   "cell_type": "code",
   "execution_count": null,
   "id": "c46c60e6-a05e-4c2a-8e00-9d630254f8b2",
   "metadata": {},
   "outputs": [],
   "source": []
  },
  {
   "cell_type": "code",
   "execution_count": 490,
   "id": "eff53134-1635-4b4f-a781-fadc532bc317",
   "metadata": {},
   "outputs": [],
   "source": []
  },
  {
   "cell_type": "code",
   "execution_count": null,
   "id": "3429b5be-ae90-40e7-a014-d6c566018f61",
   "metadata": {},
   "outputs": [],
   "source": []
  },
  {
   "cell_type": "code",
   "execution_count": null,
   "id": "5723fd1f-567f-4c1c-92c8-c5e89537144f",
   "metadata": {},
   "outputs": [],
   "source": []
  },
  {
   "cell_type": "code",
   "execution_count": null,
   "id": "cbc388c9-653e-4bb1-811c-d8ba146cabaa",
   "metadata": {},
   "outputs": [],
   "source": []
  },
  {
   "cell_type": "code",
   "execution_count": null,
   "id": "a15c7a42-9562-4fbf-a755-7a4e3b384ed6",
   "metadata": {},
   "outputs": [],
   "source": []
  },
  {
   "cell_type": "code",
   "execution_count": null,
   "id": "269d3368-902f-4dc3-9b1d-4ea3c25f8d9e",
   "metadata": {},
   "outputs": [],
   "source": []
  },
  {
   "cell_type": "code",
   "execution_count": null,
   "id": "a534ab4c-5c46-4cd9-93ed-c0db79a7bc9b",
   "metadata": {},
   "outputs": [],
   "source": []
  },
  {
   "cell_type": "code",
   "execution_count": null,
   "id": "400616ef-78c5-4c49-83ff-4b53b1530f1c",
   "metadata": {},
   "outputs": [],
   "source": []
  },
  {
   "cell_type": "code",
   "execution_count": null,
   "id": "b4a974d4-2699-4781-a157-8e473f9ff3a4",
   "metadata": {},
   "outputs": [],
   "source": []
  },
  {
   "cell_type": "code",
   "execution_count": null,
   "id": "38bc5fea-6b70-4bc4-a264-de25584ae729",
   "metadata": {},
   "outputs": [],
   "source": []
  },
  {
   "cell_type": "code",
   "execution_count": null,
   "id": "f91bdd77-d537-4798-bcd4-ac0baba40bca",
   "metadata": {},
   "outputs": [],
   "source": []
  },
  {
   "cell_type": "code",
   "execution_count": null,
   "id": "b2c7a6d5-29de-4ac8-9eaa-69b6ecb43cca",
   "metadata": {},
   "outputs": [],
   "source": []
  },
  {
   "cell_type": "code",
   "execution_count": 201,
   "id": "3418a9af-6fc0-49a6-9e50-d4a3422de086",
   "metadata": {},
   "outputs": [],
   "source": [
    "#ag_1.num_parameters()"
   ]
  },
  {
   "cell_type": "code",
   "execution_count": 183,
   "id": "989545aa-e4b3-43aa-b0c9-1dd2fb0227fd",
   "metadata": {},
   "outputs": [],
   "source": [
    "# ag_1.epsilon = 0\n",
    "# ag_2.epsilon = 0"
   ]
  },
  {
   "cell_type": "code",
   "execution_count": 153,
   "id": "599f69ab-8a8c-47b5-83d8-1d6687883e49",
   "metadata": {},
   "outputs": [],
   "source": [
    "# ag_1.refresh(reset = False)\n",
    "# ag_2.refresh(reset = False)"
   ]
  },
  {
   "cell_type": "code",
   "execution_count": 36,
   "id": "2ea79a3a-755c-4ad7-af8e-50ef66b6ab9d",
   "metadata": {},
   "outputs": [],
   "source": [
    "d, m1, m2 = ag_1.calculate()"
   ]
  },
  {
   "cell_type": "code",
   "execution_count": 39,
   "id": "78b51751-1e12-4a20-8c2f-f6246a8d83de",
   "metadata": {},
   "outputs": [
    {
     "data": {
      "text/plain": [
       "tensor([0.0000, 0.6603])"
      ]
     },
     "execution_count": 39,
     "metadata": {},
     "output_type": "execute_result"
    }
   ],
   "source": [
    "d = d - d.min()\n",
    "d"
   ]
  },
  {
   "cell_type": "code",
   "execution_count": null,
   "id": "94bbe88c-1500-4f61-ad66-f5753cc255c1",
   "metadata": {},
   "outputs": [],
   "source": [
    "size = sys.getsizeof()"
   ]
  },
  {
   "cell_type": "code",
   "execution_count": null,
   "id": "3aa430c5-10d3-4712-b605-17c97b25eba4",
   "metadata": {},
   "outputs": [],
   "source": []
  },
  {
   "cell_type": "code",
   "execution_count": null,
   "id": "fd8f7e0d-cfe4-489e-a7b6-f121e2c10d23",
   "metadata": {},
   "outputs": [],
   "source": []
  },
  {
   "cell_type": "code",
   "execution_count": 18,
   "id": "3d97c86e-a4bb-46b9-8538-468caebbf1e1",
   "metadata": {},
   "outputs": [],
   "source": []
  },
  {
   "cell_type": "code",
   "execution_count": 19,
   "id": "ab17e301-8787-4dba-b659-5b3b4c2b1e1b",
   "metadata": {},
   "outputs": [],
   "source": [
    "class Mine:\n",
    "    def __init__(self):\n",
    "        self.var = 0\n",
    "    \n",
    "    def create(self):\n",
    "        child = copy.copy(self)\n",
    "        child.var = 4\n",
    "        return child"
   ]
  },
  {
   "cell_type": "code",
   "execution_count": 20,
   "id": "4c6e3ad2-61c4-447a-a7ba-b62d7abb58b6",
   "metadata": {},
   "outputs": [],
   "source": [
    "first = Mine()"
   ]
  },
  {
   "cell_type": "code",
   "execution_count": 21,
   "id": "4e147f13-eac0-4872-8938-15bddf1e0733",
   "metadata": {},
   "outputs": [
    {
     "data": {
      "text/plain": [
       "0"
      ]
     },
     "execution_count": 21,
     "metadata": {},
     "output_type": "execute_result"
    }
   ],
   "source": [
    "first.var"
   ]
  },
  {
   "cell_type": "code",
   "execution_count": 22,
   "id": "164341d3-787e-42c1-b66e-f9a1b4f6a393",
   "metadata": {},
   "outputs": [],
   "source": [
    "second = first.create()"
   ]
  },
  {
   "cell_type": "code",
   "execution_count": 23,
   "id": "ec0cf12f-56ea-440d-a61b-bec482f08538",
   "metadata": {},
   "outputs": [
    {
     "data": {
      "text/plain": [
       "4"
      ]
     },
     "execution_count": 23,
     "metadata": {},
     "output_type": "execute_result"
    }
   ],
   "source": [
    "second.var"
   ]
  },
  {
   "cell_type": "code",
   "execution_count": 24,
   "id": "0910c500-4102-4703-ba1e-9dd7afa9e42b",
   "metadata": {},
   "outputs": [
    {
     "data": {
      "text/plain": [
       "0"
      ]
     },
     "execution_count": 24,
     "metadata": {},
     "output_type": "execute_result"
    }
   ],
   "source": [
    "first.var"
   ]
  },
  {
   "cell_type": "code",
   "execution_count": null,
   "id": "81e5dee8-4501-47ca-a8eb-4c5086b3a768",
   "metadata": {},
   "outputs": [],
   "source": []
  },
  {
   "cell_type": "code",
   "execution_count": null,
   "id": "bf91cb01-93b3-47ff-85fe-fb1b17abfa8d",
   "metadata": {},
   "outputs": [],
   "source": []
  },
  {
   "cell_type": "markdown",
   "id": "3479d83c-b71a-40b1-9cfb-aafcce8a1639",
   "metadata": {
    "jp-MarkdownHeadingCollapsed": true,
    "tags": []
   },
   "source": [
    "# OLD"
   ]
  },
  {
   "cell_type": "code",
   "execution_count": 43,
   "id": "11ac6471-c0c0-4c77-bfa7-a4af0453acdc",
   "metadata": {},
   "outputs": [],
   "source": [
    "# flag_start = False"
   ]
  },
  {
   "cell_type": "code",
   "execution_count": 44,
   "id": "a73974a3-d916-485f-aabf-f22e16810bbf",
   "metadata": {},
   "outputs": [],
   "source": [
    "# if flag_start:\n",
    "#     fill_the_replay_memory(agent, mcts, iterations)"
   ]
  },
  {
   "cell_type": "code",
   "execution_count": 45,
   "id": "78875b0d-3834-4405-9a1b-e397076286c1",
   "metadata": {},
   "outputs": [],
   "source": [
    "def to_probs(v, d, m1, m2):\n",
    "    d = F.softmax(d, dim = -1).numpy()\n",
    "    m1 = F.softmax(m1, dim = -1).numpy()\n",
    "    m2 = F.softmax(m2, dim = -1).numpy()\n",
    "    return v.numpy(), d, m1, m2"
   ]
  },
  {
   "cell_type": "code",
   "execution_count": null,
   "id": "fe02f720-e62e-46ca-8d6f-1e6e59e6f1b6",
   "metadata": {},
   "outputs": [],
   "source": [
    "def expand_evaluate(self, agent, dice):\n",
    "        value, d, m1, m2 = agent.calculate(self.table, dice)\n",
    "        value, pd, pm1, pm2 = self.to_probs(value, d, m1, m2)\n",
    "        for d, d1 in enumerate(dice):\n",
    "            d2 = dice[d ^ 1]\n",
    "            mask_1 = self.get_legal_actions(d1, False)\n",
    "            if mask_1.sum() > 0:\n",
    "                moves_1 = actions_index[mask_1]\n",
    "            else:\n",
    "                moves_1 = [24]\n",
    "            for m1 in moves_1:\n",
    "                tempo_node = self.copy()\n",
    "                if tempo_node.update_table(m1, d1):\n",
    "                    self.children = []\n",
    "                    return 1\n",
    "                mask_2 = tempo_node.get_legal_actions(d2, m1 == 0)\n",
    "                if mask_2.sum() > 0:\n",
    "                    moves_2 = actions_index[mask_2]\n",
    "                else:\n",
    "                    moves_2 = [24]\n",
    "                for m2 in moves_2:\n",
    "                    final_node = tempo_node.copy()\n",
    "                    if final_node.update_table(m1, d1):\n",
    "                        self.children = []\n",
    "                        return 1\n",
    "                    final_node = final_node.flip_the_table()\n",
    "                    final_node.actions = d, m1, m2\n",
    "                    final_node.prior = pd[d] * pm1[m1] * pm2[m2]\n",
    "                    self.children.append(final_node)\n",
    "        return value"
   ]
  },
  {
   "cell_type": "code",
   "execution_count": 15,
   "id": "93b61d17-9a4b-42bc-93b0-163a8dc17557",
   "metadata": {},
   "outputs": [],
   "source": [
    "# old one head\n",
    "class Transformer(nn.Module):\n",
    "    def __init__(self, model_hp):\n",
    "        super().__init__()\n",
    "        self.epochs = 0\n",
    "        self.losses = []\n",
    "        \n",
    "        d_emb, seq_length, hidden_mult, order, enc_drop, d_toks, m_toks = model_hp\n",
    "        \n",
    "        self.sr_d_emb = np.sqrt(d_emb)\n",
    "        \n",
    "        self.dice_emb = nn.Embedding(6, d_emb)\n",
    "        self.table_emb = nn.Embedding(31, d_emb)\n",
    "        \n",
    "        self.cls_toks = d_toks + m_toks * 2\n",
    "        self.pe = nn.Parameter(torch.rand(seq_length + self.cls_toks, d_emb))\n",
    "        self.cls_token = nn.Parameter(torch.rand(self.cls_toks, d_emb))\n",
    "        \n",
    "        self.encoder = nn.ModuleList()\n",
    "        for d_hid, heads in order:\n",
    "            self.encoder.append(Encoder_layer(d_emb, d_hid, hidden_mult, heads, enc_drop))\n",
    "        \n",
    "        self.out = nn.Linear(self.cls_toks * d_emb, 52)\n",
    "                \n",
    "        self.weights_init()\n",
    "        \n",
    "        \n",
    "    def weights_init(self):\n",
    "        for m in self.modules():\n",
    "            if isinstance(m, nn.Linear):\n",
    "                torch.nn.init.xavier_uniform_(m.weight, gain = nn.init.calculate_gain('relu'))\n",
    "                #m.bias.data.fill_(0.01)\n",
    "         \n",
    "    def forward(self, x):\n",
    "        d = x[..., :2]\n",
    "        t = x[..., 2:] + 15\n",
    "        d = self.dice_emb(d)\n",
    "        t = self.table_emb(t)\n",
    "        #x = rearrange(x, '... (s e) -> ... s e', e = self.d_emb)\n",
    "        cls_toks = repeat(self.cls_token, 's e -> b s e', b = d.size(0))\n",
    "        x = torch.cat((cls_toks, t, d), dim = 1)\n",
    "        x = x * self.sr_d_emb + self.pe #[:x.size(1)]\n",
    "        for enc in self.encoder:\n",
    "            x = enc(x)\n",
    "        #out = self.out(rearrange(x, 'i j k -> i (j k)'))\n",
    "        x = x[:, :self.cls_toks]\n",
    "        x = rearrange(x, '... s e -> ... (s e)')\n",
    "        x = self.out(x)\n",
    "        d = x[:, :2]\n",
    "        m1 = x[:, 2 : -25]\n",
    "        m2 = x[:, -25:]\n",
    "        #return F.softmax(d, dim = -1), F.softmax(m1, dim = -1), F.softmax(m2, dim = -1)\n",
    "        return d, m1, m2"
   ]
  },
  {
   "cell_type": "code",
   "execution_count": 16,
   "id": "2711ca60-ec2c-44d2-8c5e-507d7116eae8",
   "metadata": {},
   "outputs": [],
   "source": [
    "# one node, two views\n",
    "class Node():\n",
    "    def __init__(self, active_table):\n",
    "        self.home_cells = {6 : 18, 5 : 19, 4 : 20, 3 : 21, 2 : 22, 1 : 23}\n",
    "        self.phase_0 = self.phase_1 = 0  # 0/1/2 -- game/house/done\n",
    "        self.table_0 = self.table_1 = np.zeros(24, dtype = int)\n",
    "        self.table_0[0] = self.table_1[0] = 15\n",
    "        self.table_0[12] = self.table_1[12] = -15\n",
    "        self.mine_0 = self.mine_1 = {0}\n",
    "        self.his_0 = self.his_1 = {12}\n",
    "        self.prior_0 = self.prior_1 = 0\n",
    "        self.visits_count_0 = self.visits_count_1 = 0\n",
    "        self.value_sum_0 = 0\n",
    "        self.active_table = active_table\n",
    "        self.children = []\n",
    "    \n",
    "    def check_phase(self):\n",
    "        if self.phase == 0:\n",
    "            condition = lambda x : x > 17\n",
    "            if all(condition(x) for x in self.mine):\n",
    "                self.phase = 1\n",
    "        elif self.phase == 1:\n",
    "            if not self.mine:\n",
    "                self.phase = 2\n",
    "    \n",
    "    def get_legal_actions(self, die, flag_head):\n",
    "        die += 1\n",
    "        legal_actions = np.zeros(25)\n",
    "        if self.phase == 1:\n",
    "            flag_out = True\n",
    "            tempo_actions = []\n",
    "            for p in range(6, die - 1, -1):\n",
    "                if self.home_cells[p] in self.mine:\n",
    "                    tempo_actions.append(p)\n",
    "                    flag_out = False\n",
    "            if flag_out:\n",
    "                legal_actions[list(self.mine)] = 1\n",
    "            else:\n",
    "                for p in tempo_actions:\n",
    "                    if (self.home_cells[p] + die > 23) or (self.home_cells[p - die] not in self.his):\n",
    "                        legal_actions[self.home_cells[p]] = 1\n",
    "        elif self.phase == 0:\n",
    "            for p in self.mine:\n",
    "                destination = p + die\n",
    "                if (destination < 24) and (destination not in self.his):\n",
    "                    if destination < 12 and destination not in self.mine:\n",
    "                        new_mine = self.mine | {destination}\n",
    "                        if not self.check_mars(new_mine):\n",
    "                            legal_actions[p] = 1\n",
    "                    else:\n",
    "                        legal_actions[p] = 1\n",
    "            if flag_head:\n",
    "                legal_actions[0] = 0\n",
    "        return legal_actions.astype(bool)\n",
    "    \n",
    "    def check_mars(self, new_mine):\n",
    "        n = 6\n",
    "        mars_end = 0\n",
    "        for i in range(7):\n",
    "            if all(j in new_mine for j in range(i, i + n)):\n",
    "                mars_end = i + n\n",
    "        if mars_end:\n",
    "            for i in range(mars_end, 12):\n",
    "                if i in self.his:\n",
    "                    return False\n",
    "            return True\n",
    "        return False\n",
    "\n",
    "    def update_table(self, action, die, me = True):\n",
    "        die += 1\n",
    "        if me:\n",
    "            destination = action + die\n",
    "            self.table[action] -= 1\n",
    "            if self.table[action] < 1:\n",
    "                self.mine.remove(action)\n",
    "            if destination < 24:\n",
    "                self.table[destination] += 1\n",
    "                self.mine.add(destination)\n",
    "        else:\n",
    "            destination = action + die\n",
    "            action = (action + 12) % 24\n",
    "            self.table[action] += 1\n",
    "            if self.table[action] > -1:\n",
    "                self.his.remove(action)\n",
    "            if destination < 24:\n",
    "                destination = (destination + 12) % 24\n",
    "                self.table[destination] -= 1\n",
    "                self.his.add(destination)\n",
    "    \n",
    "    def copy(self, active_table):\n",
    "        new_node = Node(active_table)\n",
    "        new_node.phase = self.phase\n",
    "        new_node.table = self.table\n",
    "        new_node.mine = self.mine\n",
    "        new_node.his = self.his\n",
    "        return new_node\n",
    "    \n",
    "    def expand(self, agent):\n",
    "        pd, pm1, pm2 = action_probs\n",
    "        for d, d1 in enumerate(dice):\n",
    "            d2 = dice[d ^ 1]\n",
    "            mask_1 = self.get_legal_actions(d1, False)\n",
    "            if mask_1.sum() > 0:\n",
    "                moves_1 = actions_index[mask_1]\n",
    "            else:\n",
    "                moves_1 = [24]\n",
    "            for m1 in moves_1:\n",
    "                tempo_node = self.copy()\n",
    "                tempo_node.update_table(m1, d1, True)\n",
    "                mask_2 = tempo_node.get_legal_actions(d2, m1 == 0)\n",
    "                if mask_2.sum() > 0:\n",
    "                    moves_2 = actions_index[mask_2]\n",
    "                else:\n",
    "                    moves_2 = [24]\n",
    "                for m2 in moves_2:\n",
    "                    final_node = tempo_node.copy()\n",
    "                    final_node.prior = pd[d] * pm1[m1] * pm2[m2]\n",
    "                    self.children.append(final_node)\n",
    "    \n",
    "    def expanded(self):\n",
    "        return len(self.children)\n",
    "    \n",
    "    def UCB(self, global_visits, c):\n",
    "        av = self.value_sum / self.visits_count\n",
    "        return av + c * self.prior * np.sqrt(np.log(global_visits) / (1 + self.visits_count))\n",
    "    \n",
    "    def select_child(self, global_visits, c):\n",
    "        max_value = -np.inf\n",
    "        selected_child = None\n",
    "        for child in self.children:\n",
    "            value = child.UCB(global_visits, c)\n",
    "            if value > max_value:\n",
    "                max_value = value\n",
    "                selected_child = child\n",
    "        return selected_child\n",
    "    \n",
    "    def flip_the_table(self):\n",
    "        \n",
    "    \n",
    "    def print_table(self):\n",
    "        row_format = '{:>6}' * 13\n",
    "        print(row_format.format('', *self.table[11::-1]))\n",
    "        print(row_format.format('', *self.table[12:]))"
   ]
  },
  {
   "cell_type": "code",
   "execution_count": null,
   "id": "2cc2117b-f6ca-4df6-bac2-5157a3f5b463",
   "metadata": {},
   "outputs": [],
   "source": []
  },
  {
   "cell_type": "code",
   "execution_count": null,
   "id": "8bf5d074-09b7-4956-bc61-36e5b57e116e",
   "metadata": {},
   "outputs": [],
   "source": []
  }
 ],
 "metadata": {
  "kernelspec": {
   "display_name": "Python 3 (ipykernel)",
   "language": "python",
   "name": "python3"
  },
  "language_info": {
   "codemirror_mode": {
    "name": "ipython",
    "version": 3
   },
   "file_extension": ".py",
   "mimetype": "text/x-python",
   "name": "python",
   "nbconvert_exporter": "python",
   "pygments_lexer": "ipython3",
   "version": "3.9.7"
  }
 },
 "nbformat": 4,
 "nbformat_minor": 5
}
